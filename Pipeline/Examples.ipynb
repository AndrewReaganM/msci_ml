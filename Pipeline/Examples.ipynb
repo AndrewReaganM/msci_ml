{
 "cells": [
  {
   "cell_type": "code",
   "execution_count": 4,
   "metadata": {
    "collapsed": true,
    "pycharm": {
     "is_executing": false
    }
   },
   "outputs": [
    {
     "name": "stderr",
     "text": [
      "unable to import 'smart_open.gcs', disabling that module\n"
     ],
     "output_type": "stream"
    }
   ],
   "source": [
    "from MSCIEmbeddings import Embedding"
   ]
  },
  {
   "cell_type": "code",
   "execution_count": 2,
   "outputs": [],
   "source": [
    "# Example 1: Loading source data, method 1\n",
    "# companies.csv and fundamentals_dataset.csv are required files for this embedding training\n",
    "# The file paths can be passed to the constructor and then prepared later\n",
    "embeds = Embedding(companies_fp='./companies.csv', fundamentals_fp='./fundamentals_dataset.csv')\n",
    "embeds.prepare_training_data() # Prepare the data for training\n",
    "embeds.save_training_df('training_df.csv') # Optional: Save training data to file for later use"
   ],
   "metadata": {
    "collapsed": false,
    "pycharm": {
     "name": "#%%\n",
     "is_executing": false
    }
   }
  },
  {
   "cell_type": "code",
   "execution_count": 3,
   "outputs": [],
   "source": [
    "# Example 2: Loading source data, method 2\n",
    "# companies.csv and fundamentals_dataset.csv are required files for this embedding training\n",
    "# Instead of being passed to the constructor, the file paths can be passed to prepare_training_data()\n",
    "# If one of these paths has been previously provided, the newer path is used.\n",
    "embeds = Embedding()\n",
    "embeds.prepare_training_data(companies_fp='./companies.csv',fundamentals_fp='./fundamentals_dataset.csv')\n",
    "embeds.save_training_df('./training_df.csv') # Optional: Save training data to file for later use"
   ],
   "metadata": {
    "collapsed": false,
    "pycharm": {
     "name": "#%%\n",
     "is_executing": false
    }
   }
  },
  {
   "cell_type": "code",
   "execution_count": 4,
   "outputs": [
    {
     "name": "stderr",
     "text": [
      "c:\\users\\gilde\\documents\\embeddings\\env\\lib\\site-packages\\IPython\\core\\interactiveshell.py:3254: DtypeWarning: Columns (2,3,4,5,6) have mixed types.Specify dtype option on import or set low_memory=False.\n  if (await self.run_code(code, result,  async_=asy)):\n"
     ],
     "output_type": "stream"
    }
   ],
   "source": [
    "# Example 3: Loading previously prepared data\n",
    "# If you have previously prepared data and saved it as demonstrated in examples 1 and 2\n",
    "#   then you can load it using the following method\n",
    "embeds = Embedding()\n",
    "embeds.load_training_df('./training_df.csv')"
   ],
   "metadata": {
    "collapsed": false,
    "pycharm": {
     "name": "#%%\n",
     "is_executing": false
    }
   }
  },
  {
   "cell_type": "code",
   "execution_count": 5,
   "outputs": [],
   "source": [
    "# Example 4: Training the model\n",
    "# After you have the prepared training data, you can train the model\n",
    "    # (int) size - Size of the vectors to generate. Higher numbers take longer but\n",
    "    #   are more accurate. Default 50\n",
    "    # (int) workers - Number of threads to use while training the model. Default 8\n",
    "    # (int) epochs - How long to train the model. Higher numbers take longer but produce\n",
    "    #   better results. Default 100\n",
    "embeds.train(size=50,workers=16,epochs=100)\n",
    "embeds.save('./embeddings') # Optional: Save the trained model for later use"
   ],
   "metadata": {
    "collapsed": false,
    "pycharm": {
     "name": "#%%\n",
     "is_executing": false
    }
   }
  },
  {
   "cell_type": "code",
   "execution_count": 10,
   "outputs": [
    {
     "name": "stderr",
     "text": [
      "c:\\users\\gilde\\documents\\embeddings\\env\\lib\\site-packages\\IPython\\core\\interactiveshell.py:3254: DtypeWarning: Columns (2,3,4,5,6) have mixed types.Specify dtype option on import or set low_memory=False.\n  if (await self.run_code(code, result,  async_=asy)):\n"
     ],
     "output_type": "stream"
    }
   ],
   "source": [
    "# Example 5: Loading a previously trained model\n",
    "# A previously trained and saved embeddings model can be loaded like follows\n",
    "embeds = Embedding()\n",
    "embeds.load_training_df('./training_df.csv')\n",
    "embeds.load('./embeddings')"
   ],
   "metadata": {
    "collapsed": false,
    "pycharm": {
     "name": "#%%\n",
     "is_executing": false
    }
   }
  },
  {
   "cell_type": "code",
   "execution_count": 11,
   "outputs": [
    {
     "data": {
      "text/plain": "[('GOOGL', 0.998939573764801),\n ('JBLU', 0.8636596202850342),\n ('ULH', 0.8466479182243347),\n ('LSXMB', 0.8431832790374756),\n ('LSXMA', 0.8415260910987854),\n ('LSXMK', 0.8388110995292664),\n ('BATRK', 0.8353774547576904),\n ('FWONK', 0.8334457278251648),\n ('AVEO', 0.8322051763534546),\n ('FWONA', 0.8319892287254333)]"
     },
     "metadata": {},
     "output_type": "execute_result",
     "execution_count": 11
    }
   ],
   "source": [
    "# Example 6: Getting the data\n",
    "embeds.export_embeddings('./embeddings.csv') # Writes a csv where each row is\n",
    "                                             #      a ticker and it's vector\n",
    "embeds.get_similar('GOOG', count=10) # Get the tickers most closely related, default returns 10\n"
   ],
   "metadata": {
    "collapsed": false,
    "pycharm": {
     "name": "#%%\n",
     "is_executing": false
    }
   }
  },
  {
   "cell_type": "code",
   "execution_count": 12,
   "outputs": [
    {
     "data": {
      "text/plain": "[('GOOGL', 0.999210774898529),\n ('AFH', 0.9119373559951782),\n ('ATVI', 0.874455451965332),\n ('LSXMB', 0.8502077460289001),\n ('LSXMA', 0.8491383790969849),\n ('JBLU', 0.8482930660247803),\n ('LSXMK', 0.8473766446113586),\n ('FWONK', 0.8462383151054382),\n ('BATRA', 0.8433837294578552),\n ('BATRK', 0.8417474627494812)]"
     },
     "metadata": {},
     "output_type": "execute_result",
     "execution_count": 12
    }
   ],
   "source": [
    "# Complete Example\n",
    "embeds = Embedding(companies_fp='./companies.csv', fundamentals_fp='./fundamentals_dataset.csv')\n",
    "embeds.prepare_training_data() # Prepare the data for training\n",
    "embeds.save_training_df('training_df.csv')\n",
    "\n",
    "embeds.train(workers=16) # Train the model\n",
    "embeds.save('./embeddings')\n",
    "\n",
    "embeds.export_embeddings('./embeddings.csv')\n",
    "embeds.get_similar('GOOG', count=10)"
   ],
   "metadata": {
    "collapsed": false,
    "pycharm": {
     "name": "#%%\n",
     "is_executing": false
    }
   }
  }
 ],
 "metadata": {
  "kernelspec": {
   "display_name": "Python 3",
   "language": "python",
   "name": "python3"
  },
  "language_info": {
   "codemirror_mode": {
    "name": "ipython",
    "version": 2
   },
   "file_extension": ".py",
   "mimetype": "text/x-python",
   "name": "python",
   "nbconvert_exporter": "python",
   "pygments_lexer": "ipython2",
   "version": "2.7.6"
  },
  "pycharm": {
   "stem_cell": {
    "cell_type": "raw",
    "source": [],
    "metadata": {
     "collapsed": false
    }
   }
  }
 },
 "nbformat": 4,
 "nbformat_minor": 0
}
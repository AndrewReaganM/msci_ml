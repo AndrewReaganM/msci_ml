{
 "cells": [
  {
   "cell_type": "code",
   "execution_count": 100,
   "metadata": {},
   "outputs": [],
   "source": [
    "import pandas as pd\n",
    "from gensim.models import Word2Vec\n",
    "import numpy"
   ]
  },
  {
   "cell_type": "code",
   "execution_count": 101,
   "metadata": {},
   "outputs": [],
   "source": [
    "STOCKS_DIR = '../Data Files/Stocks'\n",
    "STOCKS_EXT = '.txt'\n",
    "COMPANIES_FP = '../Data Files/companies.csv'\n",
    "FUNDAMENTALS_FP = '../Data Files/fundamentals_dataset.csv'"
   ]
  },
  {
   "cell_type": "code",
   "execution_count": 102,
   "metadata": {},
   "outputs": [],
   "source": [
    "def shared_tickers(df1,df2):\n",
    "    df1_tickers = pd.unique(df1['ticker'])\n",
    "    df2_tickers = pd.unique(df2['ticker'])\n",
    "    return df1_tickers[[ticker in df2_tickers for ticker in df1_tickers]]\n",
    "\n",
    "def reduce(df, tickers):\n",
    "    return df[[ticker in tickers for ticker in df['ticker']]]"
   ]
  },
  {
   "cell_type": "code",
   "execution_count": 103,
   "metadata": {},
   "outputs": [],
   "source": [
    "# Read Data Files into Pandas DataFrames\n",
    "comp_df = pd.read_csv(COMPANIES_FP)\n",
    "fund_df = pd.read_csv(FUNDAMENTALS_FP)\n",
    "#stock_ticker_list"
   ]
  },
  {
   "cell_type": "code",
   "execution_count": 104,
   "metadata": {},
   "outputs": [],
   "source": [
    "# Remove unneeded companies data\n",
    "comp_df = comp_df[['ticker','industry','sector','tag 1','tag 2','tag 3']]"
   ]
  },
  {
   "cell_type": "code",
   "execution_count": 105,
   "metadata": {},
   "outputs": [
    {
     "data": {
      "text/html": [
       "<div>\n",
       "<style scoped>\n",
       "    .dataframe tbody tr th:only-of-type {\n",
       "        vertical-align: middle;\n",
       "    }\n",
       "\n",
       "    .dataframe tbody tr th {\n",
       "        vertical-align: top;\n",
       "    }\n",
       "\n",
       "    .dataframe thead th {\n",
       "        text-align: right;\n",
       "    }\n",
       "</style>\n",
       "<table border=\"1\" class=\"dataframe\">\n",
       "  <thead>\n",
       "    <tr style=\"text-align: right;\">\n",
       "      <th></th>\n",
       "      <th>ticker</th>\n",
       "      <th>industry</th>\n",
       "      <th>sector</th>\n",
       "      <th>tag 1</th>\n",
       "      <th>tag 2</th>\n",
       "      <th>tag 3</th>\n",
       "    </tr>\n",
       "  </thead>\n",
       "  <tbody>\n",
       "    <tr>\n",
       "      <th>0</th>\n",
       "      <td>A</td>\n",
       "      <td>Medical Diagnostics &amp; Research</td>\n",
       "      <td>Healthcare</td>\n",
       "      <td>Healthcare</td>\n",
       "      <td>Diagnostics &amp; Research</td>\n",
       "      <td>Medical Diagnostics &amp; Research</td>\n",
       "    </tr>\n",
       "    <tr>\n",
       "      <th>1</th>\n",
       "      <td>AA</td>\n",
       "      <td>Metals &amp; Mining</td>\n",
       "      <td>Basic Materials</td>\n",
       "      <td>Basic Materials</td>\n",
       "      <td>Aluminum</td>\n",
       "      <td>Metals &amp; Mining</td>\n",
       "    </tr>\n",
       "    <tr>\n",
       "      <th>2</th>\n",
       "      <td>AABA</td>\n",
       "      <td>Asset Management</td>\n",
       "      <td>Financial Services</td>\n",
       "      <td>Financial Services</td>\n",
       "      <td>Asset Management</td>\n",
       "      <td>NaN</td>\n",
       "    </tr>\n",
       "    <tr>\n",
       "      <th>3</th>\n",
       "      <td>AAC</td>\n",
       "      <td>Health Care Providers</td>\n",
       "      <td>Healthcare</td>\n",
       "      <td>Healthcare</td>\n",
       "      <td>Medical Care</td>\n",
       "      <td>Health Care Providers</td>\n",
       "    </tr>\n",
       "    <tr>\n",
       "      <th>5</th>\n",
       "      <td>AAL</td>\n",
       "      <td>Airlines</td>\n",
       "      <td>Industrials</td>\n",
       "      <td>Industrials</td>\n",
       "      <td>Airlines</td>\n",
       "      <td>NaN</td>\n",
       "    </tr>\n",
       "    <tr>\n",
       "      <th>6</th>\n",
       "      <td>AAMC</td>\n",
       "      <td>Asset Management</td>\n",
       "      <td>Financial Services</td>\n",
       "      <td>Financial Services</td>\n",
       "      <td>Asset Management</td>\n",
       "      <td>NaN</td>\n",
       "    </tr>\n",
       "    <tr>\n",
       "      <th>7</th>\n",
       "      <td>AAME</td>\n",
       "      <td>Insurance - Life</td>\n",
       "      <td>Financial Services</td>\n",
       "      <td>Financial Services</td>\n",
       "      <td>Insurance - Life</td>\n",
       "      <td>NaN</td>\n",
       "    </tr>\n",
       "    <tr>\n",
       "      <th>8</th>\n",
       "      <td>AAN</td>\n",
       "      <td>Consulting &amp; Outsourcing</td>\n",
       "      <td>Industrials</td>\n",
       "      <td>Industrials</td>\n",
       "      <td>Rental &amp; Leasing Services</td>\n",
       "      <td>Consulting &amp; Outsourcing</td>\n",
       "    </tr>\n",
       "    <tr>\n",
       "      <th>9</th>\n",
       "      <td>AAOI</td>\n",
       "      <td>Semiconductors</td>\n",
       "      <td>Technology</td>\n",
       "      <td>Technology</td>\n",
       "      <td>Semiconductors</td>\n",
       "      <td>NaN</td>\n",
       "    </tr>\n",
       "    <tr>\n",
       "      <th>10</th>\n",
       "      <td>AAON</td>\n",
       "      <td>Building Materials</td>\n",
       "      <td>Basic Materials</td>\n",
       "      <td>Basic Materials</td>\n",
       "      <td>Building Materials</td>\n",
       "      <td>NaN</td>\n",
       "    </tr>\n",
       "  </tbody>\n",
       "</table>\n",
       "</div>"
      ],
      "text/plain": [
       "   ticker                        industry              sector  \\\n",
       "0       A  Medical Diagnostics & Research          Healthcare   \n",
       "1      AA                 Metals & Mining     Basic Materials   \n",
       "2    AABA                Asset Management  Financial Services   \n",
       "3     AAC           Health Care Providers          Healthcare   \n",
       "5     AAL                        Airlines         Industrials   \n",
       "6    AAMC                Asset Management  Financial Services   \n",
       "7    AAME                Insurance - Life  Financial Services   \n",
       "8     AAN        Consulting & Outsourcing         Industrials   \n",
       "9    AAOI                  Semiconductors          Technology   \n",
       "10   AAON              Building Materials     Basic Materials   \n",
       "\n",
       "                 tag 1                      tag 2  \\\n",
       "0           Healthcare     Diagnostics & Research   \n",
       "1      Basic Materials                   Aluminum   \n",
       "2   Financial Services           Asset Management   \n",
       "3           Healthcare               Medical Care   \n",
       "5          Industrials                   Airlines   \n",
       "6   Financial Services           Asset Management   \n",
       "7   Financial Services           Insurance - Life   \n",
       "8          Industrials  Rental & Leasing Services   \n",
       "9           Technology             Semiconductors   \n",
       "10     Basic Materials         Building Materials   \n",
       "\n",
       "                             tag 3  \n",
       "0   Medical Diagnostics & Research  \n",
       "1                  Metals & Mining  \n",
       "2                              NaN  \n",
       "3            Health Care Providers  \n",
       "5                              NaN  \n",
       "6                              NaN  \n",
       "7                              NaN  \n",
       "8         Consulting & Outsourcing  \n",
       "9                              NaN  \n",
       "10                             NaN  "
      ]
     },
     "execution_count": 105,
     "metadata": {},
     "output_type": "execute_result"
    }
   ],
   "source": [
    "# Remove bad companies data\n",
    "comp_df_clean_targets = comp_df[['ticker','industry','sector','tag 1']]\n",
    "comp_df = comp_df[comp_df_clean_targets.notna().all(axis=1)]\n",
    "comp_df[:10]"
   ]
  },
  {
   "cell_type": "code",
   "execution_count": 115,
   "metadata": {},
   "outputs": [],
   "source": [
    "# Generate Companies DataFrame Format 1\n",
    "# ticker, industry, sector, tag 1, tag 2, tag 3\n",
    "comp_df_out = comp_df"
   ]
  },
  {
   "cell_type": "code",
   "execution_count": 108,
   "metadata": {},
   "outputs": [],
   "source": [
    "# Generate Companies DataFrame Format 2\n",
    "# ticker, data_name, data_val\n",
    "comp_df_out = pd.DataFrame(columns=['ticker','data_name','data_val'])\n",
    "for row in comp_df.iterrows():\n",
    "    new_rows_df = pd.DataFrame([\n",
    "        [row[1]['ticker'],'industry',row[1]['industry']],\n",
    "        [row[1]['ticker'],'sector',row[1]['sector']],\n",
    "        [row[1]['ticker'],'tag 1',row[1]['tag 1']],\n",
    "        [row[1]['ticker'],'tag 2',row[1]['tag 2']],\n",
    "        [row[1]['ticker'],'tag 3',row[1]['tag 3']]\n",
    "    ],columns=['ticker','data_name','data_val'])\n",
    "    comp_df_out = comp_df_out.append(new_rows_df)"
   ]
  },
  {
   "cell_type": "code",
   "execution_count": 116,
   "metadata": {},
   "outputs": [
    {
     "data": {
      "text/html": [
       "<div>\n",
       "<style scoped>\n",
       "    .dataframe tbody tr th:only-of-type {\n",
       "        vertical-align: middle;\n",
       "    }\n",
       "\n",
       "    .dataframe tbody tr th {\n",
       "        vertical-align: top;\n",
       "    }\n",
       "\n",
       "    .dataframe thead th {\n",
       "        text-align: right;\n",
       "    }\n",
       "</style>\n",
       "<table border=\"1\" class=\"dataframe\">\n",
       "  <thead>\n",
       "    <tr style=\"text-align: right;\">\n",
       "      <th></th>\n",
       "      <th>ticker</th>\n",
       "      <th>industry</th>\n",
       "      <th>sector</th>\n",
       "      <th>tag 1</th>\n",
       "      <th>tag 2</th>\n",
       "      <th>tag 3</th>\n",
       "    </tr>\n",
       "  </thead>\n",
       "  <tbody>\n",
       "    <tr>\n",
       "      <th>0</th>\n",
       "      <td>A</td>\n",
       "      <td>Medical Diagnostics &amp; Research</td>\n",
       "      <td>Healthcare</td>\n",
       "      <td>Healthcare</td>\n",
       "      <td>Diagnostics &amp; Research</td>\n",
       "      <td>Medical Diagnostics &amp; Research</td>\n",
       "    </tr>\n",
       "    <tr>\n",
       "      <th>1</th>\n",
       "      <td>AA</td>\n",
       "      <td>Metals &amp; Mining</td>\n",
       "      <td>Basic Materials</td>\n",
       "      <td>Basic Materials</td>\n",
       "      <td>Aluminum</td>\n",
       "      <td>Metals &amp; Mining</td>\n",
       "    </tr>\n",
       "    <tr>\n",
       "      <th>2</th>\n",
       "      <td>AABA</td>\n",
       "      <td>Asset Management</td>\n",
       "      <td>Financial Services</td>\n",
       "      <td>Financial Services</td>\n",
       "      <td>Asset Management</td>\n",
       "      <td>NaN</td>\n",
       "    </tr>\n",
       "    <tr>\n",
       "      <th>3</th>\n",
       "      <td>AAC</td>\n",
       "      <td>Health Care Providers</td>\n",
       "      <td>Healthcare</td>\n",
       "      <td>Healthcare</td>\n",
       "      <td>Medical Care</td>\n",
       "      <td>Health Care Providers</td>\n",
       "    </tr>\n",
       "    <tr>\n",
       "      <th>5</th>\n",
       "      <td>AAL</td>\n",
       "      <td>Airlines</td>\n",
       "      <td>Industrials</td>\n",
       "      <td>Industrials</td>\n",
       "      <td>Airlines</td>\n",
       "      <td>NaN</td>\n",
       "    </tr>\n",
       "  </tbody>\n",
       "</table>\n",
       "</div>"
      ],
      "text/plain": [
       "  ticker                        industry              sector  \\\n",
       "0      A  Medical Diagnostics & Research          Healthcare   \n",
       "1     AA                 Metals & Mining     Basic Materials   \n",
       "2   AABA                Asset Management  Financial Services   \n",
       "3    AAC           Health Care Providers          Healthcare   \n",
       "5    AAL                        Airlines         Industrials   \n",
       "\n",
       "                tag 1                   tag 2                           tag 3  \n",
       "0          Healthcare  Diagnostics & Research  Medical Diagnostics & Research  \n",
       "1     Basic Materials                Aluminum                 Metals & Mining  \n",
       "2  Financial Services        Asset Management                             NaN  \n",
       "3          Healthcare            Medical Care           Health Care Providers  \n",
       "5         Industrials                Airlines                             NaN  "
      ]
     },
     "execution_count": 116,
     "metadata": {},
     "output_type": "execute_result"
    }
   ],
   "source": [
    "comp_df_out[:5]"
   ]
  },
  {
   "cell_type": "code",
   "execution_count": 95,
   "metadata": {},
   "outputs": [],
   "source": [
    "# Remove unneeded Fundamentals data\n",
    "fund_df = fund_df[['period','tickers','indicator','amount']]"
   ]
  },
  {
   "cell_type": "code",
   "execution_count": 96,
   "metadata": {},
   "outputs": [],
   "source": [
    "# Remove bad data\n",
    "# Many have 0 for the amount when it doesn't make sense (e.g. $0 final revenue)\n",
    "# Some 0 amounts may be legitimate, too many bad to sort through\n",
    "# Tossing all 0 amounts\n",
    "#fund_df[fund_df['amount'] == '0'][:20]\n",
    "fund_df = fund_df[fund_df['amount'] != '0']"
   ]
  },
  {
   "cell_type": "code",
   "execution_count": 97,
   "metadata": {},
   "outputs": [],
   "source": [
    "# Create expanded fundamentals.\n",
    "\n",
    "# Some records have multiple tickers. Will split tickers column on ','\n",
    "fund_df_out = pd.DataFrame(columns=['period','ticker','data_name','data_val'])\n",
    "for row in fund_df.iterrows():\n",
    "    row[1]['amount'] = \"${}\".format(row[1]['amount'])\n",
    "for row in fund_df[[',' in x for x in fund_df['tickers']]].iterrows():\n",
    "    for ticker in row[1]['tickers'].split(', '):\n",
    "        new_row_df = pd.DataFrame([\n",
    "            [row[1]['period'],ticker,row[1]['indicator'],row[1]['amount']]\n",
    "        ], columns=['period','ticker','data_name','data_val'])\n",
    "        fund_df_out = fund_df_out.append(new_row_df)\n",
    "fund_df_out = fund_df_out.append(fund_df[[',' not in x for x in fund_df['tickers']]].rename(columns={'tickers':'ticker','indicator':'data_name','amount':'data_val'}))"
   ]
  },
  {
   "cell_type": "code",
   "execution_count": 98,
   "metadata": {},
   "outputs": [
    {
     "name": "stdout",
     "output_type": "stream",
     "text": [
      "    period ticker                                          data_name  \\\n",
      "0  2014 Q1   DMJT                                  Net Income (Loss)   \n",
      "0  2014 Q1   MARK                                  Net Income (Loss)   \n",
      "0  2014 Q1   DMJT                                       Total Equity   \n",
      "0  2014 Q1   MARK                                       Total Equity   \n",
      "0  2014 Q2   DMJT                                  Net Income (Loss)   \n",
      "0  2014 Q2   MARK                                  Net Income (Loss)   \n",
      "0  2014 Q2   DMJT                            Operating Income (Loss)   \n",
      "0  2014 Q2   MARK                            Operating Income (Loss)   \n",
      "0  2014 Q3   DMJT                                             Assets   \n",
      "0  2014 Q3   MARK                                             Assets   \n",
      "0  2014 Q3   DMJT       Cash and Cash Equivalents, at Carrying Value   \n",
      "0  2014 Q3   MARK       Cash and Cash Equivalents, at Carrying Value   \n",
      "0  2014 Q3   DMJT  Cash and Cash Equivalents, Period Increase (De...   \n",
      "0  2014 Q3   MARK  Cash and Cash Equivalents, Period Increase (De...   \n",
      "0  2014 Q3   DMJT                                      Final Revenue   \n",
      "0  2014 Q3   MARK                                      Final Revenue   \n",
      "0  2014 Q3   DMJT                                       Gross Profit   \n",
      "0  2014 Q3   MARK                                       Gross Profit   \n",
      "0  2014 Q3   DMJT     Income from Continuing Operations before Taxes   \n",
      "0  2014 Q3   MARK     Income from Continuing Operations before Taxes   \n",
      "\n",
      "    data_val  \n",
      "0    $48,146  \n",
      "0    $48,146  \n",
      "0   $-94,477  \n",
      "0   $-94,477  \n",
      "0  $-242,528  \n",
      "0  $-242,528  \n",
      "0  $-224,244  \n",
      "0  $-224,244  \n",
      "0   $113,120  \n",
      "0   $113,120  \n",
      "0    $19,923  \n",
      "0    $19,923  \n",
      "0       $456  \n",
      "0       $456  \n",
      "0     $5,995  \n",
      "0     $5,995  \n",
      "0     $5,995  \n",
      "0     $5,995  \n",
      "0     $5,995  \n",
      "0     $5,995  \n",
      "period       object\n",
      "ticker       object\n",
      "data_name    object\n",
      "data_val     object\n",
      "dtype: object\n"
     ]
    }
   ],
   "source": [
    "print(fund_df_out[:20])\n",
    "print(fund_df_out.dtypes)"
   ]
  },
  {
   "cell_type": "code",
   "execution_count": 117,
   "metadata": {},
   "outputs": [],
   "source": [
    "shared = shared_tickers(comp_df_out,fund_df_out)"
   ]
  },
  {
   "cell_type": "code",
   "execution_count": 118,
   "metadata": {},
   "outputs": [],
   "source": [
    "comp_df_out = reduce(comp_df_out, shared)\n",
    "fund_df_out = reduce(fund_df_out, shared)"
   ]
  },
  {
   "cell_type": "code",
   "execution_count": 119,
   "metadata": {},
   "outputs": [],
   "source": [
    "# Combine Companies and Fundamentals dataframes\n",
    "combined_df_out = comp_df_out.append(fund_df_out)"
   ]
  },
  {
   "cell_type": "code",
   "execution_count": 120,
   "metadata": {},
   "outputs": [],
   "source": [
    "combined_df_out.to_csv(\"../Data Files/Preformatted/preformatted.csv\",index=False)"
   ]
  },
  {
   "cell_type": "code",
   "execution_count": 121,
   "metadata": {},
   "outputs": [],
   "source": [
    "comp_df_out.to_csv(\"../Data Files/Preformatted/preformatted_companies.csv\",index=False)\n",
    "fund_df_out.to_csv(\"../Data Files/Preformatted/preformatted_fundamentals.csv\",index=False)"
   ]
  },
  {
   "cell_type": "code",
   "execution_count": null,
   "metadata": {},
   "outputs": [],
   "source": [
    "# Load stock data\n",
    "\n",
    "# Create multiple data formats\n",
    "    # ticker, date, delta_open, delta_close, delta_low, delta_high\n",
    "    # date, ticker, delta_open, delta_close, delta_low, delta_high\n",
    "    # date, delta_open, delta_close, ticker, delta_low, delta_high\n",
    "    # date, delta_open, delta_close, delta_low, delta_high, ticker\n",
    "    # ticker, date, data_name, data_val\n",
    "    # date, ticker, data_name, data_val"
   ]
  },
  {
   "cell_type": "code",
   "execution_count": null,
   "metadata": {},
   "outputs": [],
   "source": [
    "# Filter dataframes to contain only same tickers"
   ]
  }
 ],
 "metadata": {
  "kernelspec": {
   "display_name": "Python 3",
   "language": "python",
   "name": "python3"
  },
  "language_info": {
   "codemirror_mode": {
    "name": "ipython",
    "version": 3
   },
   "file_extension": ".py",
   "mimetype": "text/x-python",
   "name": "python",
   "nbconvert_exporter": "python",
   "pygments_lexer": "ipython3",
   "version": "3.6.8"
  }
 },
 "nbformat": 4,
 "nbformat_minor": 4
}

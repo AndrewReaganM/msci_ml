{
 "cells": [
  {
   "cell_type": "code",
   "execution_count": 1,
   "metadata": {},
   "outputs": [],
   "source": [
    "import pandas as pd\n",
    "from gensim.models import Word2Vec\n",
    "import numpy\n",
    "import io"
   ]
  },
  {
   "cell_type": "code",
   "execution_count": 2,
   "metadata": {},
   "outputs": [],
   "source": [
    "# Constants\n",
    "PREFORMATTED_FP = '../Data Files/preformatted.csv'\n",
    "OUTPUT_FP = '../Output Files/embeddings.csv'"
   ]
  },
  {
   "cell_type": "code",
   "execution_count": 3,
   "metadata": {},
   "outputs": [
    {
     "name": "stderr",
     "output_type": "stream",
     "text": [
      "c:\\users\\dev\\documents\\capstone\\python\\lib\\site-packages\\IPython\\core\\interactiveshell.py:3051: DtypeWarning: Columns (1,2,3,4,5) have mixed types.Specify dtype option on import or set low_memory=False.\n",
      "  interactivity=interactivity, compiler=compiler, result=result)\n"
     ]
    },
    {
     "data": {
      "text/html": [
       "<div>\n",
       "<style scoped>\n",
       "    .dataframe tbody tr th:only-of-type {\n",
       "        vertical-align: middle;\n",
       "    }\n",
       "\n",
       "    .dataframe tbody tr th {\n",
       "        vertical-align: top;\n",
       "    }\n",
       "\n",
       "    .dataframe thead th {\n",
       "        text-align: right;\n",
       "    }\n",
       "</style>\n",
       "<table border=\"1\" class=\"dataframe\">\n",
       "  <thead>\n",
       "    <tr style=\"text-align: right;\">\n",
       "      <th></th>\n",
       "      <th>ticker</th>\n",
       "      <th>industry</th>\n",
       "      <th>sector</th>\n",
       "      <th>tag1</th>\n",
       "      <th>tag2</th>\n",
       "      <th>tag3</th>\n",
       "      <th>period</th>\n",
       "      <th>data_name</th>\n",
       "      <th>data_val</th>\n",
       "    </tr>\n",
       "  </thead>\n",
       "  <tbody>\n",
       "    <tr>\n",
       "      <th>0</th>\n",
       "      <td>AAL</td>\n",
       "      <td>Airlines</td>\n",
       "      <td>Industrials</td>\n",
       "      <td>Industrials</td>\n",
       "      <td>Airlines</td>\n",
       "      <td>NaN</td>\n",
       "      <td>NaN</td>\n",
       "      <td>NaN</td>\n",
       "      <td>NaN</td>\n",
       "    </tr>\n",
       "    <tr>\n",
       "      <th>1</th>\n",
       "      <td>AAME</td>\n",
       "      <td>Insurance - Life</td>\n",
       "      <td>Financial Services</td>\n",
       "      <td>Financial Services</td>\n",
       "      <td>Insurance - Life</td>\n",
       "      <td>NaN</td>\n",
       "      <td>NaN</td>\n",
       "      <td>NaN</td>\n",
       "      <td>NaN</td>\n",
       "    </tr>\n",
       "    <tr>\n",
       "      <th>2</th>\n",
       "      <td>AAOI</td>\n",
       "      <td>Semiconductors</td>\n",
       "      <td>Technology</td>\n",
       "      <td>Technology</td>\n",
       "      <td>Semiconductors</td>\n",
       "      <td>NaN</td>\n",
       "      <td>NaN</td>\n",
       "      <td>NaN</td>\n",
       "      <td>NaN</td>\n",
       "    </tr>\n",
       "    <tr>\n",
       "      <th>3</th>\n",
       "      <td>AAON</td>\n",
       "      <td>Building Materials</td>\n",
       "      <td>Basic Materials</td>\n",
       "      <td>Basic Materials</td>\n",
       "      <td>Building Materials</td>\n",
       "      <td>NaN</td>\n",
       "      <td>NaN</td>\n",
       "      <td>NaN</td>\n",
       "      <td>NaN</td>\n",
       "    </tr>\n",
       "    <tr>\n",
       "      <th>4</th>\n",
       "      <td>AAPL</td>\n",
       "      <td>Computer Hardware</td>\n",
       "      <td>Technology</td>\n",
       "      <td>Technology</td>\n",
       "      <td>Consumer Electronics</td>\n",
       "      <td>Computer Hardware</td>\n",
       "      <td>NaN</td>\n",
       "      <td>NaN</td>\n",
       "      <td>NaN</td>\n",
       "    </tr>\n",
       "  </tbody>\n",
       "</table>\n",
       "</div>"
      ],
      "text/plain": [
       "  ticker            industry              sector                tag1  \\\n",
       "0    AAL            Airlines         Industrials         Industrials   \n",
       "1   AAME    Insurance - Life  Financial Services  Financial Services   \n",
       "2   AAOI      Semiconductors          Technology          Technology   \n",
       "3   AAON  Building Materials     Basic Materials     Basic Materials   \n",
       "4   AAPL   Computer Hardware          Technology          Technology   \n",
       "\n",
       "                   tag2               tag3 period data_name data_val  \n",
       "0              Airlines                NaN    NaN       NaN      NaN  \n",
       "1      Insurance - Life                NaN    NaN       NaN      NaN  \n",
       "2        Semiconductors                NaN    NaN       NaN      NaN  \n",
       "3    Building Materials                NaN    NaN       NaN      NaN  \n",
       "4  Consumer Electronics  Computer Hardware    NaN       NaN      NaN  "
      ]
     },
     "execution_count": 3,
     "metadata": {},
     "output_type": "execute_result"
    }
   ],
   "source": [
    "# Read the preformatted data into a pandas dataframe\n",
    "df = pd.read_csv(PREFORMATTED_FP)\n",
    "df.head()"
   ]
  },
  {
   "cell_type": "code",
   "execution_count": 4,
   "metadata": {},
   "outputs": [],
   "source": [
    "df_list = []\n",
    "\n",
    "for row in df.iterrows():\n",
    "    list_row = []\n",
    "    if type(row[1].period) is str:\n",
    "        list_row.append(row[1].period)\n",
    "    list_row.append(row[1].ticker)\n",
    "    if type(row[1].data_name) is str:\n",
    "        list_row.append(row[1].data_name)\n",
    "    if type(row[1].data_val) is str:\n",
    "        list_row.append(row[1].data_val)\n",
    "    if type(row[1].industry) is str:\n",
    "        list_row.append(row[1].industry)\n",
    "    if type(row[1].sector) is str:\n",
    "        list_row.append(row[1].sector)\n",
    "    if type(row[1].tag1) is str:\n",
    "        list_row.append(row[1].tag1)\n",
    "    if type(row[1].tag2) is str:\n",
    "        list_row.append(row[1].tag2)\n",
    "    if type(row[1].tag3) is str:\n",
    "        list_row.append(row[1].tag3)\n",
    "    df_list.append(list_row)"
   ]
  },
  {
   "cell_type": "code",
   "execution_count": 5,
   "metadata": {},
   "outputs": [],
   "source": [
    "# Create and train the Word2Vec model\n",
    "model = Word2Vec(df_list,size=50,min_count=0,workers=16,sg=0,max_vocab_size=None,max_final_vocab=None,iter=100)"
   ]
  },
  {
   "cell_type": "code",
   "execution_count": 6,
   "metadata": {},
   "outputs": [],
   "source": [
    "tickers = pd.unique(df['ticker'])\n",
    "tickers.sort()"
   ]
  },
  {
   "cell_type": "code",
   "execution_count": 7,
   "metadata": {},
   "outputs": [],
   "source": [
    "# Write the tickers and their embeddings to the output file\n",
    "out = io.open(OUTPUT_FP,'w',encoding='utf-8')\n",
    "for ticker in tickers:\n",
    "    out.write(ticker + \",\" + (','.join([str(x) for x in model.wv[ticker]]) + \"\\n\"))\n",
    "out.close()"
   ]
  },
  {
   "cell_type": "code",
   "execution_count": 8,
   "metadata": {},
   "outputs": [
    {
     "data": {
      "text/plain": [
       "[('GOOGL', 0.9990673661231995),\n",
       " ('CPHC', 0.8709542155265808),\n",
       " ('ALXN', 0.8696768283843994),\n",
       " ('STX', 0.8352724313735962),\n",
       " ('CPIX', 0.8323140144348145),\n",
       " ('APEI', 0.8263558745384216),\n",
       " ('BCOR', 0.8253544569015503),\n",
       " ('ATVI', 0.8204851746559143),\n",
       " ('AVEO', 0.8197035193443298),\n",
       " ('JBLU', 0.8193739056587219)]"
      ]
     },
     "execution_count": 8,
     "metadata": {},
     "output_type": "execute_result"
    }
   ],
   "source": [
    "model.wv.most_similar('GOOG')"
   ]
  },
  {
   "cell_type": "code",
   "execution_count": null,
   "metadata": {},
   "outputs": [],
   "source": []
  }
 ],
 "metadata": {
  "kernelspec": {
   "display_name": "Python 3",
   "language": "python",
   "name": "python3"
  },
  "language_info": {
   "codemirror_mode": {
    "name": "ipython",
    "version": 3
   },
   "file_extension": ".py",
   "mimetype": "text/x-python",
   "name": "python",
   "nbconvert_exporter": "python",
   "pygments_lexer": "ipython3",
   "version": "3.6.8"
  }
 },
 "nbformat": 4,
 "nbformat_minor": 4
}

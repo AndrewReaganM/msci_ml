{
 "cells": [
  {
   "cell_type": "code",
   "execution_count": 1,
   "metadata": {
    "slideshow": {
     "slide_type": "slide"
    }
   },
   "outputs": [],
   "source": [
    "import stockDataHandler as sdh\n",
    "import glob\n",
    "import os\n",
    "\n",
    "# Path to Project Root\n",
    "ROOT_PATH = \"/Users/andrewmassey/dev/msci_ml\"\n",
    "\n",
    "# Path to Stock directory\n",
    "pathStocks = \"/Users/andrewmassey/Documents/2019 - Fall/SoftwareEng/MSCI/price-volume-data-for-all-us-stocks-etfs\" \\\n",
    "             \"/Stocks\"\n",
    "# Path to ETF directory\n",
    "pathETFs = \"/Users/andrewmassey/Documents/2019 - Fall/SoftwareEng/MSCI/price-volume-data-for-all-us-stocks-etfs/ETFs\"\n",
    "# Path to additional data.\n",
    "comp_data = \"/Users/andrewmassey/Documents/2019 - Fall/SoftwareEng/MSCI/supplementalData/all-us-stocks-tickers\" \\\n",
    "            \"-company-info-logos/companies.csv\"\n",
    "stock_file_ext = \"*.txt\"\n",
    "\n",
    "# Create list of all filenames to be imported\n",
    "filenames = glob.glob(os.path.join(pathStocks, stock_file_ext))  # Create list of Stock filenames.\n",
    "filenames += glob.glob(os.path.join(pathETFs, stock_file_ext))  # Concatenate the list of ETF filenames"
   ]
  },
  {
   "cell_type": "code",
   "execution_count": 2,
   "metadata": {
    "slideshow": {
     "slide_type": "slide"
    }
   },
   "outputs": [
    {
     "name": "stdout",
     "output_type": "stream",
     "text": [
      "No columns to parse from file: 'pbio.us' File may be blank.\n",
      "No columns to parse from file: 'accp.us' File may be blank.\n",
      "No columns to parse from file: 'amrh.us' File may be blank.\n",
      "No columns to parse from file: 'vist.us' File may be blank.\n",
      "No columns to parse from file: 'srva.us' File may be blank.\n",
      "No columns to parse from file: 'bbrx.us' File may be blank.\n",
      "No columns to parse from file: 'bolt.us' File may be blank.\n",
      "No columns to parse from file: 'amrhw.us' File may be blank.\n",
      "No columns to parse from file: 'znwaa.us' File may be blank.\n",
      "No columns to parse from file: 'stnl.us' File may be blank.\n",
      "No columns to parse from file: 'hayu.us' File may be blank.\n",
      "No columns to parse from file: 'otg.us' File may be blank.\n",
      "No columns to parse from file: 'molc.us' File may be blank.\n",
      "No columns to parse from file: 'boxl.us' File may be blank.\n",
      "No columns to parse from file: 'sbt.us' File may be blank.\n",
      "No columns to parse from file: 'fmax.us' File may be blank.\n",
      "No columns to parse from file: 'rbio.us' File may be blank.\n",
      "No columns to parse from file: 'wnfm.us' File may be blank.\n",
      "No columns to parse from file: 'jt.us' File may be blank.\n",
      "No columns to parse from file: 'pxus.us' File may be blank.\n",
      "No columns to parse from file: 'vmet.us' File may be blank.\n",
      "No columns to parse from file: 'asns.us' File may be blank.\n",
      "No columns to parse from file: 'sfix.us' File may be blank.\n",
      "No columns to parse from file: 'scci.us' File may be blank.\n",
      "No columns to parse from file: 'sail.us' File may be blank.\n",
      "No columns to parse from file: 'wspt.us' File may be blank.\n",
      "No columns to parse from file: 'scph.us' File may be blank.\n",
      "No columns to parse from file: 'gnst.us' File may be blank.\n",
      "No columns to parse from file: 'send.us' File may be blank.\n",
      "No columns to parse from file: 'bxg.us' File may be blank.\n",
      "No columns to parse from file: 'mapi.us' File may be blank.\n",
      "No columns to parse from file: 'ehr.us' File may be blank.\n",
      "Concatenating 8507 dataframes.\n",
      "Setting up index and verifying index integrity...\n",
      "                   Open    High     Low   Close  Volume  Close_to_Open  \\\n",
      "Name Date                                                                \n",
      "iba  2005-02-28  13.536  13.536  13.273  13.281   16382       0.054698   \n",
      "     2005-03-01  13.185  13.299  13.185  13.299    1250      -0.007228   \n",
      "     2005-03-02  13.361  13.395  13.273  13.291    8760       0.004662   \n",
      "     2005-03-03  13.361  13.404  12.966  13.218    9897       0.005267   \n",
      "     2005-03-04  13.307  13.536  13.228  13.404   11491       0.006733   \n",
      "     2005-03-07  13.578  13.578  13.273  13.273    6827       0.012981   \n",
      "     2005-03-08  13.342  13.342  13.228  13.228    2162       0.005199   \n",
      "     2005-03-09  13.237  13.324  13.237  13.273    6144       0.000680   \n",
      "     2005-03-10  13.218  13.218  13.203  13.210    6487      -0.004144   \n",
      "     2005-03-11  13.210  13.210  13.080  13.167    4551       0.000000   \n",
      "\n",
      "                 Close_to_High  Close_to_Low  Close_to_Close  Volume_Change  \\\n",
      "Name Date                                                                     \n",
      "iba  2005-02-28       0.054698      0.034206        0.034829       0.028503   \n",
      "     2005-03-01       0.001355     -0.007228        0.001355      -0.923697   \n",
      "     2005-03-02       0.007219     -0.001955       -0.000602       6.008000   \n",
      "     2005-03-03       0.008502     -0.024453       -0.005492       0.129795   \n",
      "     2005-03-04       0.024058      0.000757        0.014072       0.161059   \n",
      "     2005-03-07       0.012981     -0.009773       -0.009773      -0.405883   \n",
      "     2005-03-08       0.005199     -0.003390       -0.003390      -0.683316   \n",
      "     2005-03-09       0.007257      0.000680        0.003402       1.841813   \n",
      "     2005-03-10      -0.004144     -0.005274       -0.004746       0.055827   \n",
      "     2005-03-11       0.000000     -0.009841       -0.003255      -0.298443   \n",
      "\n",
      "                 log_returns  \n",
      "Name Date                     \n",
      "iba  2005-02-28     1.034829  \n",
      "     2005-03-01     1.001355  \n",
      "     2005-03-02     0.999398  \n",
      "     2005-03-03     0.994508  \n",
      "     2005-03-04     1.014072  \n",
      "     2005-03-07     0.990227  \n",
      "     2005-03-08     0.996610  \n",
      "     2005-03-09     1.003402  \n",
      "     2005-03-10     0.995254  \n",
      "     2005-03-11     0.996745  \n",
      "Removing all values over 350000\n",
      "Import complete\n",
      "Lines: 17434995\n"
     ]
    }
   ],
   "source": [
    "sdf = sdh.stock_dataframe(filenames, verbose=True, print_sample=10, max_close=350000, log_returns=True)\n",
    "\n",
    "# supp_data = sdh.import_supp_data(comp_data)"
   ]
  },
  {
   "cell_type": "code",
   "execution_count": null,
   "metadata": {},
   "outputs": [],
   "source": []
  },
  {
   "cell_type": "markdown",
   "metadata": {},
   "source": [
    "## Using the Standard Scaler\n"
   ]
  },
  {
   "cell_type": "code",
   "execution_count": 3,
   "metadata": {},
   "outputs": [
    {
     "data": {
      "text/plain": [
       "array([[-0.03193194, -0.03217381, -0.03176816, -0.03200849],\n",
       "       [-0.03206941, -0.03226579, -0.031803  , -0.03200144],\n",
       "       [-0.03200048, -0.03222853, -0.03176816, -0.03200457],\n",
       "       [-0.03200048, -0.03222504, -0.03188971, -0.03203319],\n",
       "       [-0.03202163, -0.03217381, -0.03178598, -0.03196027],\n",
       "       [-0.0319155 , -0.03215751, -0.03176816, -0.03201163],\n",
       "       [-0.03200792, -0.0322491 , -0.03178598, -0.03202927],\n",
       "       [-0.03204905, -0.03225609, -0.03178242, -0.03201163],\n",
       "       [-0.03205649, -0.03229723, -0.03179588, -0.03203633],\n",
       "       [-0.03205962, -0.03230033, -0.03184457, -0.03205319]])"
      ]
     },
     "execution_count": 3,
     "metadata": {},
     "output_type": "execute_result"
    }
   ],
   "source": [
    "from sklearn.preprocessing import StandardScaler\n",
    "\n",
    "cols_to_norm = ['Open', 'High', 'Low', 'Close']\n",
    "\n",
    "# Create Scaler\n",
    "sdf_standard_scaler = StandardScaler()\n",
    "sdf_standard_scaler.fit(sdf[cols_to_norm])\n",
    "sdf_standard_scaler.transform(sdf[cols_to_norm])[0:10]"
   ]
  },
  {
   "cell_type": "markdown",
   "metadata": {},
   "source": [
    "Using the standard scaler outputs scaled data, however the data contains **negative values** which would likely not play nicely with our models (especially considering that you cannot realistically have negative dollar amounts for stock prices)."
   ]
  },
  {
   "cell_type": "markdown",
   "metadata": {},
   "source": [
    "## Using the Min Max Scaler"
   ]
  },
  {
   "cell_type": "code",
   "execution_count": 4,
   "metadata": {},
   "outputs": [
    {
     "name": "stdout",
     "output_type": "stream",
     "text": [
      "0.0\n",
      "1.0\n"
     ]
    }
   ],
   "source": [
    "from sklearn.preprocessing import MinMaxScaler\n",
    "\n",
    "cols_to_norm = ['Open', 'High', 'Low', 'Close']\n",
    "\n",
    "# Create Scaler\n",
    "sdf_minmax_scaler = MinMaxScaler()\n",
    "sdf_minmax_scaler.fit(sdf[cols_to_norm])\n",
    "print(sdf_minmax_scaler.transform(sdf[cols_to_norm]).min())\n",
    "print(sdf_minmax_scaler.transform(sdf[cols_to_norm]).max())"
   ]
  },
  {
   "cell_type": "markdown",
   "metadata": {},
   "source": [
    "Now, we have the data scaled between 0 and 1, which is what we wanted."
   ]
  },
  {
   "cell_type": "code",
   "execution_count": 5,
   "metadata": {},
   "outputs": [
    {
     "data": {
      "text/html": [
       "<div>\n",
       "<style scoped>\n",
       "    .dataframe tbody tr th:only-of-type {\n",
       "        vertical-align: middle;\n",
       "    }\n",
       "\n",
       "    .dataframe tbody tr th {\n",
       "        vertical-align: top;\n",
       "    }\n",
       "\n",
       "    .dataframe thead th {\n",
       "        text-align: right;\n",
       "    }\n",
       "</style>\n",
       "<table border=\"1\" class=\"dataframe\">\n",
       "  <thead>\n",
       "    <tr style=\"text-align: right;\">\n",
       "      <th></th>\n",
       "      <th></th>\n",
       "      <th>Open</th>\n",
       "      <th>High</th>\n",
       "      <th>Low</th>\n",
       "      <th>Close</th>\n",
       "      <th>Volume</th>\n",
       "      <th>Close_to_Open</th>\n",
       "      <th>Close_to_High</th>\n",
       "      <th>Close_to_Low</th>\n",
       "      <th>Close_to_Close</th>\n",
       "      <th>Volume_Change</th>\n",
       "      <th>log_returns</th>\n",
       "    </tr>\n",
       "    <tr>\n",
       "      <th>Name</th>\n",
       "      <th>Date</th>\n",
       "      <th></th>\n",
       "      <th></th>\n",
       "      <th></th>\n",
       "      <th></th>\n",
       "      <th></th>\n",
       "      <th></th>\n",
       "      <th></th>\n",
       "      <th></th>\n",
       "      <th></th>\n",
       "      <th></th>\n",
       "      <th></th>\n",
       "    </tr>\n",
       "  </thead>\n",
       "  <tbody>\n",
       "    <tr>\n",
       "      <th rowspan=\"5\" valign=\"top\">iba</th>\n",
       "      <th>2005-02-28</th>\n",
       "      <td>0.000047</td>\n",
       "      <td>0.000047</td>\n",
       "      <td>0.000050</td>\n",
       "      <td>0.000047</td>\n",
       "      <td>16382</td>\n",
       "      <td>0.054698</td>\n",
       "      <td>0.054698</td>\n",
       "      <td>0.034206</td>\n",
       "      <td>0.034829</td>\n",
       "      <td>0.028503</td>\n",
       "      <td>1.034829</td>\n",
       "    </tr>\n",
       "    <tr>\n",
       "      <th>2005-03-01</th>\n",
       "      <td>0.000046</td>\n",
       "      <td>0.000046</td>\n",
       "      <td>0.000050</td>\n",
       "      <td>0.000047</td>\n",
       "      <td>1250</td>\n",
       "      <td>-0.007228</td>\n",
       "      <td>0.001355</td>\n",
       "      <td>-0.007228</td>\n",
       "      <td>0.001355</td>\n",
       "      <td>-0.923697</td>\n",
       "      <td>1.001355</td>\n",
       "    </tr>\n",
       "    <tr>\n",
       "      <th>2005-03-02</th>\n",
       "      <td>0.000047</td>\n",
       "      <td>0.000047</td>\n",
       "      <td>0.000050</td>\n",
       "      <td>0.000047</td>\n",
       "      <td>8760</td>\n",
       "      <td>0.004662</td>\n",
       "      <td>0.007219</td>\n",
       "      <td>-0.001955</td>\n",
       "      <td>-0.000602</td>\n",
       "      <td>6.008000</td>\n",
       "      <td>0.999398</td>\n",
       "    </tr>\n",
       "    <tr>\n",
       "      <th>2005-03-03</th>\n",
       "      <td>0.000047</td>\n",
       "      <td>0.000047</td>\n",
       "      <td>0.000049</td>\n",
       "      <td>0.000046</td>\n",
       "      <td>9897</td>\n",
       "      <td>0.005267</td>\n",
       "      <td>0.008502</td>\n",
       "      <td>-0.024453</td>\n",
       "      <td>-0.005492</td>\n",
       "      <td>0.129795</td>\n",
       "      <td>0.994508</td>\n",
       "    </tr>\n",
       "    <tr>\n",
       "      <th>2005-03-04</th>\n",
       "      <td>0.000047</td>\n",
       "      <td>0.000047</td>\n",
       "      <td>0.000050</td>\n",
       "      <td>0.000047</td>\n",
       "      <td>11491</td>\n",
       "      <td>0.006733</td>\n",
       "      <td>0.024058</td>\n",
       "      <td>0.000757</td>\n",
       "      <td>0.014072</td>\n",
       "      <td>0.161059</td>\n",
       "      <td>1.014072</td>\n",
       "    </tr>\n",
       "  </tbody>\n",
       "</table>\n",
       "</div>"
      ],
      "text/plain": [
       "                     Open      High       Low     Close  Volume  \\\n",
       "Name Date                                                         \n",
       "iba  2005-02-28  0.000047  0.000047  0.000050  0.000047   16382   \n",
       "     2005-03-01  0.000046  0.000046  0.000050  0.000047    1250   \n",
       "     2005-03-02  0.000047  0.000047  0.000050  0.000047    8760   \n",
       "     2005-03-03  0.000047  0.000047  0.000049  0.000046    9897   \n",
       "     2005-03-04  0.000047  0.000047  0.000050  0.000047   11491   \n",
       "\n",
       "                 Close_to_Open  Close_to_High  Close_to_Low  Close_to_Close  \\\n",
       "Name Date                                                                     \n",
       "iba  2005-02-28       0.054698       0.054698      0.034206        0.034829   \n",
       "     2005-03-01      -0.007228       0.001355     -0.007228        0.001355   \n",
       "     2005-03-02       0.004662       0.007219     -0.001955       -0.000602   \n",
       "     2005-03-03       0.005267       0.008502     -0.024453       -0.005492   \n",
       "     2005-03-04       0.006733       0.024058      0.000757        0.014072   \n",
       "\n",
       "                 Volume_Change  log_returns  \n",
       "Name Date                                    \n",
       "iba  2005-02-28       0.028503     1.034829  \n",
       "     2005-03-01      -0.923697     1.001355  \n",
       "     2005-03-02       6.008000     0.999398  \n",
       "     2005-03-03       0.129795     0.994508  \n",
       "     2005-03-04       0.161059     1.014072  "
      ]
     },
     "execution_count": 5,
     "metadata": {},
     "output_type": "execute_result"
    }
   ],
   "source": [
    "sdf[cols_to_norm] = sdf_minmax_scaler.transform(sdf[cols_to_norm])\n",
    "sdf.head()"
   ]
  },
  {
   "cell_type": "markdown",
   "metadata": {},
   "source": [
    "## Future: log() Function Transformer"
   ]
  },
  {
   "cell_type": "code",
   "execution_count": 6,
   "metadata": {},
   "outputs": [
    {
     "name": "stdout",
     "output_type": "stream",
     "text": [
      "<class 'pandas.core.frame.DataFrame'>\n",
      "MultiIndex: 17434995 entries, ('iba', Timestamp('2005-02-28 00:00:00')) to ('igm', Timestamp('2017-11-10 00:00:00'))\n",
      "Data columns (total 11 columns):\n",
      " #   Column          Dtype  \n",
      "---  ------          -----  \n",
      " 0   Open            float64\n",
      " 1   High            float64\n",
      " 2   Low             float64\n",
      " 3   Close           float64\n",
      " 4   Volume          int64  \n",
      " 5   Close_to_Open   float64\n",
      " 6   Close_to_High   float64\n",
      " 7   Close_to_Low    float64\n",
      " 8   Close_to_Close  float64\n",
      " 9   Volume_Change   float64\n",
      " 10  log_returns     float64\n",
      "dtypes: float64(10), int64(1)\n",
      "memory usage: 1.5+ GB\n"
     ]
    }
   ],
   "source": [
    "sdf.info()"
   ]
  },
  {
   "cell_type": "code",
   "execution_count": null,
   "metadata": {},
   "outputs": [],
   "source": []
  }
 ],
 "metadata": {
  "kernelspec": {
   "display_name": "Python 3",
   "language": "python",
   "name": "python3"
  },
  "language_info": {
   "codemirror_mode": {
    "name": "ipython",
    "version": 3
   },
   "file_extension": ".py",
   "mimetype": "text/x-python",
   "name": "python",
   "nbconvert_exporter": "python",
   "pygments_lexer": "ipython3",
   "version": "3.7.6"
  }
 },
 "nbformat": 4,
 "nbformat_minor": 4
}

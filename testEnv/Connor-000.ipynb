{
 "cells": [
  {
   "cell_type": "code",
   "execution_count": 30,
   "metadata": {},
   "outputs": [],
   "source": [
    "import glob\n",
    "import os\n",
    "import pandas as pd\n",
    "import numpy as np\n",
    "import stockDataHandler as sdh\n",
    "import matplotlib.pyplot as plt\n",
    "import matplotlib as mpl\n",
    "# Regression Example With Boston Dataset: Baseline\n",
    "from keras.models import Sequential\n",
    "from keras.layers import Dense\n",
    "from keras.layers import PReLU\n",
    "from keras.wrappers.scikit_learn import KerasRegressor\n",
    "from sklearn.model_selection import cross_val_score\n",
    "from sklearn.model_selection import KFold"
   ]
  },
  {
   "cell_type": "code",
   "execution_count": 2,
   "metadata": {},
   "outputs": [
    {
     "name": "stdout",
     "output_type": "stream",
     "text": [
      "Importing Stocks and ETFs from .txt files...\n",
      "No columns to parse from file: 'accp.us.txt' File may be blank.\n",
      "No columns to parse from file: 'amrh.us.txt' File may be blank.\n",
      "No columns to parse from file: 'amrhw.us.txt' File may be blank.\n",
      "No columns to parse from file: 'asns.us.txt' File may be blank.\n",
      "No columns to parse from file: 'bbrx.us.txt' File may be blank.\n",
      "No columns to parse from file: 'bolt.us.txt' File may be blank.\n",
      "No columns to parse from file: 'boxl.us.txt' File may be blank.\n",
      "No columns to parse from file: 'bxg.us.txt' File may be blank.\n",
      "No columns to parse from file: 'ehr.us.txt' File may be blank.\n",
      "No columns to parse from file: 'fmax.us.txt' File may be blank.\n",
      "No columns to parse from file: 'gnst.us.txt' File may be blank.\n",
      "No columns to parse from file: 'hayu.us.txt' File may be blank.\n",
      "No columns to parse from file: 'jt.us.txt' File may be blank.\n",
      "No columns to parse from file: 'mapi.us.txt' File may be blank.\n",
      "No columns to parse from file: 'molc.us.txt' File may be blank.\n",
      "No columns to parse from file: 'otg.us.txt' File may be blank.\n",
      "No columns to parse from file: 'pbio.us.txt' File may be blank.\n",
      "No columns to parse from file: 'pxus.us.txt' File may be blank.\n",
      "No columns to parse from file: 'rbio.us.txt' File may be blank.\n",
      "No columns to parse from file: 'sail.us.txt' File may be blank.\n",
      "No columns to parse from file: 'sbt.us.txt' File may be blank.\n",
      "No columns to parse from file: 'scci.us.txt' File may be blank.\n",
      "No columns to parse from file: 'scph.us.txt' File may be blank.\n",
      "No columns to parse from file: 'send.us.txt' File may be blank.\n",
      "No columns to parse from file: 'sfix.us.txt' File may be blank.\n",
      "No columns to parse from file: 'srva.us.txt' File may be blank.\n",
      "No columns to parse from file: 'stnl.us.txt' File may be blank.\n",
      "No columns to parse from file: 'vist.us.txt' File may be blank.\n",
      "No columns to parse from file: 'vmet.us.txt' File may be blank.\n",
      "No columns to parse from file: 'wnfm.us.txt' File may be blank.\n",
      "No columns to parse from file: 'wspt.us.txt' File may be blank.\n",
      "No columns to parse from file: 'znwaa.us.txt' File may be blank.\n",
      "Concatenating 8507 dataframes.\n",
      "Setting up index and verifying index integrity...\n",
      "Sorting index...\n",
      "                   Open    High     Low   Close    Volume  OpenInt\n",
      "Name Date                                                         \n",
      "a    1999-11-18  30.713  33.754  27.002  29.702  66277506        0\n",
      "     1999-11-19  28.986  29.027  26.872  27.257  16142920        0\n",
      "     1999-11-22  27.886  29.702  27.044  29.702   6970266        0\n",
      "     1999-11-23  28.688  29.446  27.002  27.002   6332082        0\n",
      "     1999-11-24  27.083  28.309  27.002  27.717   5132147        0\n",
      "Import complete\n",
      "Lines: 17453243\n",
      "Importing supplemental company metadata...\n",
      "Import complete.\n"
     ]
    }
   ],
   "source": [
    "seed = 7\n",
    "\n",
    "# Path to Stock directory\n",
    "pathStocks = \"../Data/Stocks\"\n",
    "# Path to ETF directory\n",
    "pathETFs = \"../Data/ETFs\"\n",
    "# Path to additional data.\n",
    "comp_data = \"../Data/companies.csv\"\n",
    "\n",
    "stock_file_ext = \"*.txt\"\n",
    "\n",
    "# Create list of all filenames to be imported\n",
    "filenames = glob.glob(os.path.join(pathStocks, stock_file_ext))  # Create list of Stock filenames.\n",
    "filenames += glob.glob(os.path.join(pathETFs, stock_file_ext))  # Concatenate the list of ETF filenames\n",
    "\n",
    "# Import stocks and ETFs\n",
    "print(\"Importing Stocks and ETFs from .txt files...\")\n",
    "stock_df = sdh.stock_dataframe(filenames, print_sample=5, print_dtypes=False, verbose=True, sort_index=True)\n",
    "# Import supplemental data\n",
    "print(\"Importing supplemental company metadata...\")\n",
    "comp_df = sdh.import_supp_data(comp_data)\n",
    "\n",
    "print(\"Import complete.\")"
   ]
  },
  {
   "cell_type": "code",
   "execution_count": 3,
   "metadata": {},
   "outputs": [
    {
     "name": "stdout",
     "output_type": "stream",
     "text": [
      "                  company_name              short_name  \\\n",
      "ticker                                                   \n",
      "tsco    Tractor Supply Company  Tractor Supply Company   \n",
      "\n",
      "                            industry  \\\n",
      "ticker                                 \n",
      "tsco    Retail - Apparel & Specialty   \n",
      "\n",
      "                                              description  \\\n",
      "ticker                                                      \n",
      "tsco    Tractor Supply Co is an operator of rural life...   \n",
      "\n",
      "                               website      logo                  ceo  \\\n",
      "ticker                                                                  \n",
      "tsco    http://www.tractorsupplyco.com  TSCO.png  Gregory A. Sandfort   \n",
      "\n",
      "                    exchange    market_cap             sector  \\\n",
      "ticker                                                          \n",
      "tsco    Nasdaq Global Select  1.080913e+10  Consumer Cyclical   \n",
      "\n",
      "                    tag_1             tag_2                         tag_3  \n",
      "ticker                                                                     \n",
      "tsco    Consumer Cyclical  Specialty Retail  Retail - Apparel & Specialty  \n",
      "                   Open    High     Low   Close   Volume  OpenInt\n",
      "Name Date                                                        \n",
      "tsco 2005-02-25  10.025  10.053   9.904   9.965  1211887        0\n",
      "     2005-02-28   9.965  10.030   9.856   9.989  1424650        0\n",
      "     2005-03-01   9.989  10.192   9.914  10.134  1161900        0\n",
      "     2005-03-02  10.129  10.247  10.039  10.139  1960259        0\n",
      "     2005-03-03  10.205  10.205   9.909  10.015  1546866        0\n",
      "...                 ...     ...     ...     ...      ...      ...\n",
      "     2017-11-06  59.110  59.800  59.010  59.620  1550680        0\n",
      "     2017-11-07  59.500  59.660  58.690  59.090   949086        0\n",
      "     2017-11-08  59.160  60.830  59.060  60.640  1933611        0\n",
      "     2017-11-09  60.270  62.160  60.170  61.880  1589448        0\n",
      "     2017-11-10  61.660  63.360  61.560  62.670  3016021        0\n",
      "\n",
      "[3201 rows x 6 columns]\n",
      "['Open', 'High', 'Low', 'Close', 'Volume', 'OpenInt']\n",
      "['company_name', 'short_name', 'industry', 'description', 'website', 'logo', 'ceo', 'exchange', 'market_cap', 'sector', 'tag_1', 'tag_2', 'tag_3']\n"
     ]
    }
   ],
   "source": [
    "# Example queries\n",
    "print(comp_df.query('ticker == \"tsco\"'))\n",
    "print(stock_df.query('Name == \"tsco\"'))\n",
    "\n",
    "print(list(stock_df.columns.values))\n",
    "print(list(comp_df.columns.values))"
   ]
  },
  {
   "cell_type": "code",
   "execution_count": 4,
   "metadata": {},
   "outputs": [
    {
     "name": "stdout",
     "output_type": "stream",
     "text": [
      "Ticker: a, Date Min: 1999-11-18 00:00:00, Date Max: 2017-11-10 00:00:00\n",
      "Ticker: aa, Date Min: 1970-01-02 00:00:00, Date Max: 2017-11-10 00:00:00\n"
     ]
    }
   ],
   "source": [
    "# Grab a subset of the tickers to process\n",
    "tickers = np.unique([stock_df.index[i][0] for i in np.arange(0, 12000)])\n",
    "tickers\n",
    "\n",
    "# Get a survey of tickers\n",
    "for ticker_name in tickers:\n",
    "    print_out = \"Ticker: {}, Date Min: {}, Date Max: {}\"\n",
    "    date_min = min(stock_df.query('Name == \"{}\"'.format(ticker_name)).index.get_level_values(1))\n",
    "    date_max = max(stock_df.query('Name == \"{}\"'.format(ticker_name)).index.get_level_values(1))\n",
    "    print(print_out.format(ticker_name, date_min, date_max))"
   ]
  },
  {
   "cell_type": "code",
   "execution_count": 5,
   "metadata": {},
   "outputs": [
    {
     "name": "stdout",
     "output_type": "stream",
     "text": [
      "Ticker: flic, Date Min: 2005-02-25 00:00:00, Date Max: 2017-11-10 00:00:00, Number of Entries: 3006\n",
      "Ticker: iba, Date Min: 2005-02-25 00:00:00, Date Max: 2017-11-10 00:00:00, Number of Entries: 3199\n",
      "Ticker: ncs, Date Min: 2005-02-25 00:00:00, Date Max: 2017-11-10 00:00:00, Number of Entries: 3201\n"
     ]
    }
   ],
   "source": [
    "# Grab only those who have the same start and end dates.\n",
    "tickers = np.array(['flic', 'iba', 'ncs'])\n",
    "tickers\n",
    "\n",
    "# Get a survey of tickers\n",
    "for ticker_name in tickers:\n",
    "    print_out = \"Ticker: {}, Date Min: {}, Date Max: {}, Number of Entries: {}\"\n",
    "    date_min = min(stock_df.query('Name == \"{}\"'.format(ticker_name)).index.get_level_values(1))\n",
    "    date_max = max(stock_df.query('Name == \"{}\"'.format(ticker_name)).index.get_level_values(1))\n",
    "    nrows = len(stock_df.query('Name == \"{}\"'.format(ticker_name)).index)\n",
    "    print(print_out.format(ticker_name, date_min, date_max, nrows))"
   ]
  },
  {
   "cell_type": "code",
   "execution_count": 6,
   "metadata": {},
   "outputs": [
    {
     "name": "stdout",
     "output_type": "stream",
     "text": [
      "DatetimeIndex(['2005-02-25', '2005-02-28', '2005-03-01', '2005-03-02',\n",
      "               '2005-03-03', '2005-03-04', '2005-03-07', '2005-03-08',\n",
      "               '2005-03-09', '2005-03-10',\n",
      "               ...\n",
      "               '2017-10-30', '2017-10-31', '2017-11-01', '2017-11-02',\n",
      "               '2017-11-03', '2017-11-06', '2017-11-07', '2017-11-08',\n",
      "               '2017-11-09', '2017-11-10'],\n",
      "              dtype='datetime64[ns]', name='Date', length=3006, freq=None)\n",
      "3005\n"
     ]
    }
   ],
   "source": [
    "flic_dates = stock_df.query('Name == \"{}\"'.format(\"flic\")).index.get_level_values(1)\n",
    "iba_dates = stock_df.query('Name == \"{}\"'.format(\"iba\")).index.get_level_values(1)\n",
    "ncs_dates = stock_df.query('Name == \"{}\"'.format(\"ncs\")).index.get_level_values(1)\n",
    "\n",
    "flic = stock_df.query('Name == \"{}\"'.format(\"flic\"))\n",
    "iba = stock_df.query('Name == \"{}\"'.format(\"iba\"))\n",
    "ncs = stock_df.query('Name == \"{}\"'.format(\"ncs\"))\n",
    "\n",
    "print(flic_dates)\n",
    "shared_dates = np.intersect1d(np.intersect1d(flic_dates, iba_dates), ncs_dates)\n",
    "print(len(shared_dates))"
   ]
  },
  {
   "cell_type": "code",
   "execution_count": 7,
   "metadata": {},
   "outputs": [
    {
     "name": "stdout",
     "output_type": "stream",
     "text": [
      "(1, 5)\n",
      "(1,)\n",
      "(1, 17)\n",
      "(3005, 17)\n",
      "(3005,)\n"
     ]
    }
   ],
   "source": [
    "feats = np.delete(flic.query('Date == \"{}\"'.format(shared_dates[0])).values, 3, 1)\n",
    "labels = flic.query('Date == \"{}\"'.format(shared_dates[0])).values[:, 3]\n",
    "print(feats.shape)\n",
    "print(labels.shape)\n",
    "\n",
    "feats = np.concatenate((feats, iba.query('Date == \"{}\"'.format(shared_dates[0])).values), 1)\n",
    "feats = np.concatenate((feats, ncs.query('Date == \"{}\"'.format(shared_dates[0])).values), 1)\n",
    "print(feats.shape)\n",
    "\n",
    "for i in np.arange(1, len(shared_dates)):\n",
    "    row = np.delete(flic.query('Date == \"{}\"'.format(shared_dates[i])).values, 3, 1)\n",
    "    row = np.concatenate((row, iba.query('Date == \"{}\"'.format(shared_dates[i])).values), 1)\n",
    "    row = np.concatenate((row, ncs.query('Date == \"{}\"'.format(shared_dates[i])).values), 1)\n",
    "\n",
    "    feats = np.concatenate((feats, row))\n",
    "    labels = np.concatenate((labels, flic.query('Date == \"{}\"'.format(shared_dates[i])).values[:, 3]))\n",
    "\n",
    "print(feats.shape)\n",
    "print(labels.shape)"
   ]
  },
  {
   "cell_type": "code",
   "execution_count": 8,
   "metadata": {},
   "outputs": [
    {
     "name": "stdout",
     "output_type": "stream",
     "text": [
      "(2253, 17)\n",
      "(752, 17)\n",
      "(2253,)\n",
      "(752,)\n"
     ]
    }
   ],
   "source": [
    "train_feats = feats[0:int(len(feats) * 0.75)]\n",
    "test_feats = feats[int(len(feats) * 0.75):]\n",
    "train_labels = labels[0:int(len(feats) * 0.75)]\n",
    "test_labels = labels[int(len(feats) * 0.75):]\n",
    "\n",
    "print(train_feats.shape)\n",
    "print(test_feats.shape)\n",
    "print(train_labels.shape)\n",
    "print(test_labels.shape)"
   ]
  },
  {
   "cell_type": "code",
   "execution_count": 45,
   "metadata": {},
   "outputs": [],
   "source": [
    "# model\n",
    "def melissa_model():\n",
    "    model = Sequential()\n",
    "    model.add(Dense(10000, input_dim=17, activation='sigmoid'))\n",
    "    model.add(Dense(1000, activation='sigmoid'))\n",
    "    model.add(Dense(100, activation='sigmoid'))\n",
    "    model.add(Dense(10, activation='sigmoid'))\n",
    "    model.add(Dense(1, activation='linear'))\n",
    "    model.compile(loss='mean_absolute_percentage_error', optimizer='adam')\n",
    "\n",
    "    return model\n",
    "\n",
    "act = PReLU(weights=None, alpha_initializer=\"zero\")\n",
    "def connor_model():\n",
    "    model = Sequential()\n",
    "    model.add(Dense(10000, input_dim=17, activation='sigmoid'))\n",
    "    model.add(PReLU(weights=None, alpha_initializer=\"zero\", input_shape=(10000,1000)))\n",
    "    model.add(act)\n",
    "    model.add(act)\n",
    "    model.add(act)\n",
    "    model.compile(loss='mean_absolute_percentage_error', optimizer='adam')\n",
    "\n",
    "    return model\n",
    "\n",
    "# fit the keras model on the dataset\n",
    "estimatorMelissa = KerasRegressor(build_fn=melissa_model, nb_epoch=1500, batch_size=100, verbose=True)\n",
    "estimatorConnor = KerasRegressor(build_fn=connor_model, nb_epoch=1500, batch_size=100, verbose=True)"
   ]
  },
  {
   "cell_type": "code",
   "execution_count": 11,
   "metadata": {},
   "outputs": [
    {
     "name": "stdout",
     "output_type": "stream",
     "text": [
      "Train on 2253 samples, validate on 752 samples\n",
      "Epoch 1/100\n",
      "2253/2253 [==============================] - 1s 425us/step - loss: 79.7288 - val_loss: 88.5372\n",
      "Epoch 2/100\n",
      "2253/2253 [==============================] - 0s 90us/step - loss: 73.4651 - val_loss: 86.8585\n",
      "Epoch 3/100\n",
      "2253/2253 [==============================] - 0s 94us/step - loss: 70.4777 - val_loss: 85.6988\n",
      "Epoch 4/100\n",
      "2253/2253 [==============================] - 0s 91us/step - loss: 68.1389 - val_loss: 84.6435\n",
      "Epoch 5/100\n",
      "2253/2253 [==============================] - 0s 91us/step - loss: 65.8415 - val_loss: 83.5611\n",
      "Epoch 6/100\n",
      "2253/2253 [==============================] - 0s 91us/step - loss: 63.5114 - val_loss: 82.4923\n",
      "Epoch 7/100\n",
      "2253/2253 [==============================] - 0s 90us/step - loss: 61.2515 - val_loss: 81.4597\n",
      "Epoch 8/100\n",
      "2253/2253 [==============================] - 0s 91us/step - loss: 59.0547 - val_loss: 80.4542\n",
      "Epoch 9/100\n",
      "2253/2253 [==============================] - 0s 92us/step - loss: 56.9053 - val_loss: 79.4636\n",
      "Epoch 10/100\n",
      "2253/2253 [==============================] - 0s 91us/step - loss: 54.7844 - val_loss: 78.4840\n",
      "Epoch 11/100\n",
      "2253/2253 [==============================] - 0s 92us/step - loss: 52.6844 - val_loss: 77.5134\n",
      "Epoch 12/100\n",
      "2253/2253 [==============================] - 0s 91us/step - loss: 50.6014 - val_loss: 76.5503\n",
      "Epoch 13/100\n",
      "2253/2253 [==============================] - 0s 96us/step - loss: 48.5344 - val_loss: 75.5912\n",
      "Epoch 14/100\n",
      "2253/2253 [==============================] - 0s 91us/step - loss: 46.4794 - val_loss: 74.6379\n",
      "Epoch 15/100\n",
      "2253/2253 [==============================] - 0s 92us/step - loss: 44.4305 - val_loss: 73.6933\n",
      "Epoch 16/100\n",
      "2253/2253 [==============================] - 0s 97us/step - loss: 42.3950 - val_loss: 72.7497\n",
      "Epoch 17/100\n",
      "2253/2253 [==============================] - 0s 103us/step - loss: 40.3642 - val_loss: 71.8070\n",
      "Epoch 18/100\n",
      "2253/2253 [==============================] - 0s 101us/step - loss: 38.3385 - val_loss: 70.8676\n",
      "Epoch 19/100\n",
      "2253/2253 [==============================] - 0s 102us/step - loss: 36.3197 - val_loss: 69.9299\n",
      "Epoch 20/100\n",
      "2253/2253 [==============================] - 0s 94us/step - loss: 34.2995 - val_loss: 68.9968\n",
      "Epoch 21/100\n",
      "2253/2253 [==============================] - 0s 91us/step - loss: 32.2886 - val_loss: 68.0619\n",
      "Epoch 22/100\n",
      "2253/2253 [==============================] - 0s 92us/step - loss: 30.2772 - val_loss: 67.1275\n",
      "Epoch 23/100\n",
      "2253/2253 [==============================] - 0s 92us/step - loss: 28.2735 - val_loss: 66.2014\n",
      "Epoch 24/100\n",
      "2253/2253 [==============================] - 0s 97us/step - loss: 26.4276 - val_loss: 65.3295\n",
      "Epoch 25/100\n",
      "2253/2253 [==============================] - 0s 97us/step - loss: 24.8685 - val_loss: 64.5280\n",
      "Epoch 26/100\n",
      "2253/2253 [==============================] - 0s 102us/step - loss: 23.5673 - val_loss: 63.7974\n",
      "Epoch 27/100\n",
      "2253/2253 [==============================] - 0s 95us/step - loss: 22.4588 - val_loss: 63.1025\n",
      "Epoch 28/100\n",
      "2253/2253 [==============================] - 0s 93us/step - loss: 21.4996 - val_loss: 62.4613\n",
      "Epoch 29/100\n",
      "2253/2253 [==============================] - 0s 93us/step - loss: 20.6685 - val_loss: 61.8631\n",
      "Epoch 30/100\n",
      "2253/2253 [==============================] - 0s 93us/step - loss: 19.9718 - val_loss: 61.3146\n",
      "Epoch 31/100\n",
      "2253/2253 [==============================] - 0s 92us/step - loss: 19.4806 - val_loss: 60.8733\n",
      "Epoch 32/100\n",
      "2253/2253 [==============================] - 0s 92us/step - loss: 19.1666 - val_loss: 60.5224\n",
      "Epoch 33/100\n",
      "2253/2253 [==============================] - 0s 92us/step - loss: 18.9655 - val_loss: 60.2150\n",
      "Epoch 34/100\n",
      "2253/2253 [==============================] - 0s 96us/step - loss: 18.8246 - val_loss: 59.9762\n",
      "Epoch 35/100\n",
      "2253/2253 [==============================] - 0s 92us/step - loss: 18.7371 - val_loss: 59.7784\n",
      "Epoch 36/100\n",
      "2253/2253 [==============================] - 0s 92us/step - loss: 18.6741 - val_loss: 59.5988\n",
      "Epoch 37/100\n",
      "2253/2253 [==============================] - 0s 92us/step - loss: 18.6240 - val_loss: 59.4447\n",
      "Epoch 38/100\n",
      "2253/2253 [==============================] - 0s 96us/step - loss: 18.5855 - val_loss: 59.2922\n",
      "Epoch 39/100\n",
      "2253/2253 [==============================] - 0s 102us/step - loss: 18.5484 - val_loss: 59.1799\n",
      "Epoch 40/100\n",
      "2253/2253 [==============================] - 0s 94us/step - loss: 18.5233 - val_loss: 59.0429\n",
      "Epoch 41/100\n",
      "2253/2253 [==============================] - 0s 97us/step - loss: 18.4988 - val_loss: 58.9248\n",
      "Epoch 42/100\n",
      "2253/2253 [==============================] - 0s 102us/step - loss: 18.4772 - val_loss: 58.8208\n",
      "Epoch 43/100\n",
      "2253/2253 [==============================] - 0s 93us/step - loss: 18.4559 - val_loss: 58.7168\n",
      "Epoch 44/100\n",
      "2253/2253 [==============================] - 0s 93us/step - loss: 18.4375 - val_loss: 58.6018\n",
      "Epoch 45/100\n",
      "2253/2253 [==============================] - 0s 93us/step - loss: 18.4191 - val_loss: 58.5056\n",
      "Epoch 46/100\n",
      "2253/2253 [==============================] - 0s 93us/step - loss: 18.4037 - val_loss: 58.4102\n",
      "Epoch 47/100\n",
      "2253/2253 [==============================] - 0s 92us/step - loss: 18.3905 - val_loss: 58.3144\n",
      "Epoch 48/100\n",
      "2253/2253 [==============================] - 0s 92us/step - loss: 18.3779 - val_loss: 58.2288\n",
      "Epoch 49/100\n",
      "2253/2253 [==============================] - 0s 92us/step - loss: 18.3679 - val_loss: 58.1464\n",
      "Epoch 50/100\n",
      "2253/2253 [==============================] - 0s 93us/step - loss: 18.3584 - val_loss: 58.0765\n",
      "Epoch 51/100\n",
      "2253/2253 [==============================] - 0s 93us/step - loss: 18.3503 - val_loss: 58.0161\n",
      "Epoch 52/100\n",
      "2253/2253 [==============================] - 0s 93us/step - loss: 18.3437 - val_loss: 57.9317\n",
      "Epoch 53/100\n",
      "2253/2253 [==============================] - 0s 93us/step - loss: 18.3344 - val_loss: 57.8690\n",
      "Epoch 54/100\n",
      "2253/2253 [==============================] - 0s 100us/step - loss: 18.3279 - val_loss: 57.7982\n",
      "Epoch 55/100\n",
      "2253/2253 [==============================] - 0s 94us/step - loss: 18.3220 - val_loss: 57.7242\n",
      "Epoch 56/100\n",
      "2253/2253 [==============================] - 0s 92us/step - loss: 18.3167 - val_loss: 57.6671\n",
      "Epoch 57/100\n",
      "2253/2253 [==============================] - 0s 93us/step - loss: 18.3129 - val_loss: 57.6119\n",
      "Epoch 58/100\n",
      "2253/2253 [==============================] - 0s 93us/step - loss: 18.3094 - val_loss: 57.5562\n",
      "Epoch 59/100\n",
      "2253/2253 [==============================] - 0s 98us/step - loss: 18.3058 - val_loss: 57.4998\n",
      "Epoch 60/100\n",
      "2253/2253 [==============================] - 0s 98us/step - loss: 18.3017 - val_loss: 57.4556\n",
      "Epoch 61/100\n",
      "2253/2253 [==============================] - 0s 106us/step - loss: 18.2984 - val_loss: 57.4119\n",
      "Epoch 62/100\n",
      "2253/2253 [==============================] - 0s 100us/step - loss: 18.2959 - val_loss: 57.3760\n",
      "Epoch 63/100\n",
      "2253/2253 [==============================] - 0s 100us/step - loss: 18.2931 - val_loss: 57.3175\n",
      "Epoch 64/100\n",
      "2253/2253 [==============================] - 0s 95us/step - loss: 18.2906 - val_loss: 57.2757\n",
      "Epoch 65/100\n",
      "2253/2253 [==============================] - 0s 100us/step - loss: 18.2897 - val_loss: 57.2361\n",
      "Epoch 66/100\n",
      "2253/2253 [==============================] - 0s 93us/step - loss: 18.2880 - val_loss: 57.2021\n",
      "Epoch 67/100\n",
      "2253/2253 [==============================] - 0s 101us/step - loss: 18.2869 - val_loss: 57.1890\n",
      "Epoch 68/100\n",
      "2253/2253 [==============================] - 0s 93us/step - loss: 18.2862 - val_loss: 57.1404\n",
      "Epoch 69/100\n",
      "2253/2253 [==============================] - 0s 93us/step - loss: 18.2845 - val_loss: 57.1105\n",
      "Epoch 70/100\n",
      "2253/2253 [==============================] - 0s 93us/step - loss: 18.2836 - val_loss: 57.0776\n",
      "Epoch 71/100\n",
      "2253/2253 [==============================] - 0s 91us/step - loss: 18.2826 - val_loss: 57.0431\n",
      "Epoch 72/100\n",
      "2253/2253 [==============================] - 0s 94us/step - loss: 18.2823 - val_loss: 57.0066\n",
      "Epoch 73/100\n",
      "2253/2253 [==============================] - 0s 99us/step - loss: 18.2817 - val_loss: 56.9764\n",
      "Epoch 74/100\n",
      "2253/2253 [==============================] - 0s 93us/step - loss: 18.2816 - val_loss: 56.9801\n",
      "Epoch 75/100\n",
      "2253/2253 [==============================] - 0s 92us/step - loss: 18.2804 - val_loss: 56.9545\n",
      "Epoch 76/100\n",
      "2253/2253 [==============================] - 0s 95us/step - loss: 18.2801 - val_loss: 56.9366\n",
      "Epoch 77/100\n"
     ]
    },
    {
     "name": "stdout",
     "output_type": "stream",
     "text": [
      "2253/2253 [==============================] - 0s 97us/step - loss: 18.2811 - val_loss: 56.8809\n",
      "Epoch 78/100\n",
      "2253/2253 [==============================] - 0s 90us/step - loss: 18.2792 - val_loss: 56.8873\n",
      "Epoch 79/100\n",
      "2253/2253 [==============================] - 0s 90us/step - loss: 18.2792 - val_loss: 56.8812\n",
      "Epoch 80/100\n",
      "2253/2253 [==============================] - 0s 92us/step - loss: 18.2793 - val_loss: 56.8988\n",
      "Epoch 81/100\n",
      "2253/2253 [==============================] - 0s 97us/step - loss: 18.2811 - val_loss: 56.8567\n",
      "Epoch 82/100\n",
      "2253/2253 [==============================] - 0s 92us/step - loss: 18.2800 - val_loss: 56.8825\n",
      "Epoch 83/100\n",
      "2253/2253 [==============================] - 0s 96us/step - loss: 18.2792 - val_loss: 56.8866\n",
      "Epoch 84/100\n",
      "2253/2253 [==============================] - 0s 94us/step - loss: 18.2790 - val_loss: 56.8927\n",
      "Epoch 85/100\n",
      "2253/2253 [==============================] - 0s 91us/step - loss: 18.2803 - val_loss: 56.8750\n",
      "Epoch 86/100\n",
      "2253/2253 [==============================] - 0s 91us/step - loss: 18.2791 - val_loss: 56.8867\n",
      "Epoch 87/100\n",
      "2253/2253 [==============================] - 0s 93us/step - loss: 18.2789 - val_loss: 56.8781\n",
      "Epoch 88/100\n",
      "2253/2253 [==============================] - 0s 98us/step - loss: 18.2791 - val_loss: 56.8737\n",
      "Epoch 89/100\n",
      "2253/2253 [==============================] - 0s 92us/step - loss: 18.2795 - val_loss: 56.8805\n",
      "Epoch 90/100\n",
      "2253/2253 [==============================] - 0s 93us/step - loss: 18.2789 - val_loss: 56.8603\n",
      "Epoch 91/100\n",
      "2253/2253 [==============================] - 0s 97us/step - loss: 18.2789 - val_loss: 56.8532\n",
      "Epoch 92/100\n",
      "2253/2253 [==============================] - 0s 91us/step - loss: 18.2790 - val_loss: 56.8538\n",
      "Epoch 93/100\n",
      "2253/2253 [==============================] - 0s 90us/step - loss: 18.2799 - val_loss: 56.8280\n",
      "Epoch 94/100\n",
      "2253/2253 [==============================] - 0s 90us/step - loss: 18.2797 - val_loss: 56.8709\n",
      "Epoch 95/100\n",
      "2253/2253 [==============================] - 0s 90us/step - loss: 18.2794 - val_loss: 56.8479\n",
      "Epoch 96/100\n",
      "2253/2253 [==============================] - 0s 92us/step - loss: 18.2810 - val_loss: 56.8830\n",
      "Epoch 97/100\n",
      "2253/2253 [==============================] - 0s 92us/step - loss: 18.2792 - val_loss: 56.8424\n",
      "Epoch 98/100\n",
      "2253/2253 [==============================] - 0s 90us/step - loss: 18.2790 - val_loss: 56.8456\n",
      "Epoch 99/100\n",
      "2253/2253 [==============================] - 0s 90us/step - loss: 18.2794 - val_loss: 56.8231\n",
      "Epoch 100/100\n",
      "2253/2253 [==============================] - 0s 91us/step - loss: 18.2796 - val_loss: 56.8527\n"
     ]
    }
   ],
   "source": [
    "np.random.seed(seed)\n",
    "historyMelissa = estimatorMelissa.fit(train_feats, train_labels, epochs = 100, validation_data = (test_feats, test_labels))"
   ]
  },
  {
   "cell_type": "code",
   "execution_count": 12,
   "metadata": {},
   "outputs": [],
   "source": [
    "def plot_learning_curves(loss, val_loss):\n",
    "    plt.plot(np.arange(len(loss)) + 0.5, loss, \"b.-\", label=\"Training loss\")\n",
    "    plt.plot(np.arange(len(val_loss)) + 1, val_loss, \"r.-\", label=\"Validation loss\")\n",
    "    plt.gca().xaxis.set_major_locator(mpl.ticker.MaxNLocator(integer=True))\n",
    "    plt.axis([1, 100, 0, 100])\n",
    "    plt.legend(fontsize=14)\n",
    "    plt.xlabel(\"Epochs\")\n",
    "    plt.ylabel(\"Loss\")\n",
    "    plt.grid(True)"
   ]
  },
  {
   "cell_type": "code",
   "execution_count": 13,
   "metadata": {},
   "outputs": [
    {
     "data": {
      "image/png": "[encoded data removed]",
      "text/plain": [
       "<Figure size 432x288 with 1 Axes>"
      ]
     },
     "metadata": {
      "needs_background": "light"
     },
     "output_type": "display_data"
    }
   ],
   "source": [
    "plot_learning_curves(historyMelissa.history[\"loss\"], historyMelissa.history[\"val_loss\"])\n",
    "plt.show()"
   ]
  },
  {
   "cell_type": "code",
   "execution_count": 46,
   "metadata": {},
   "outputs": [
    {
     "ename": "ValueError",
     "evalue": "Error when checking target: expected p_re_lu_10 to have shape (10000,) but got array with shape (1,)",
     "output_type": "error",
     "traceback": [
      "\u001b[1;31m---------------------------------------------------------------------------\u001b[0m",
      "\u001b[1;31mValueError\u001b[0m                                Traceback (most recent call last)",
      "\u001b[1;32m<ipython-input-46-a495aa5f5200>\u001b[0m in \u001b[0;36m<module>\u001b[1;34m\u001b[0m\n\u001b[0;32m      1\u001b[0m \u001b[0mnp\u001b[0m\u001b[1;33m.\u001b[0m\u001b[0mrandom\u001b[0m\u001b[1;33m.\u001b[0m\u001b[0mseed\u001b[0m\u001b[1;33m(\u001b[0m\u001b[0mseed\u001b[0m\u001b[1;33m)\u001b[0m\u001b[1;33m\u001b[0m\u001b[1;33m\u001b[0m\u001b[0m\n\u001b[1;32m----> 2\u001b[1;33m \u001b[0mhistoryConnor\u001b[0m \u001b[1;33m=\u001b[0m \u001b[0mestimatorConnor\u001b[0m\u001b[1;33m.\u001b[0m\u001b[0mfit\u001b[0m\u001b[1;33m(\u001b[0m\u001b[0mtrain_feats\u001b[0m\u001b[1;33m,\u001b[0m \u001b[0mtrain_labels\u001b[0m\u001b[1;33m,\u001b[0m \u001b[0mepochs\u001b[0m \u001b[1;33m=\u001b[0m \u001b[1;36m100\u001b[0m\u001b[1;33m,\u001b[0m \u001b[0mvalidation_data\u001b[0m \u001b[1;33m=\u001b[0m \u001b[1;33m(\u001b[0m\u001b[0mtest_feats\u001b[0m\u001b[1;33m,\u001b[0m \u001b[0mtest_labels\u001b[0m\u001b[1;33m)\u001b[0m\u001b[1;33m)\u001b[0m\u001b[1;33m\u001b[0m\u001b[1;33m\u001b[0m\u001b[0m\n\u001b[0m",
      "\u001b[1;32mC:\\ProgramData\\Anaconda3\\lib\\site-packages\\keras\\wrappers\\scikit_learn.py\u001b[0m in \u001b[0;36mfit\u001b[1;34m(self, x, y, **kwargs)\u001b[0m\n\u001b[0;32m    149\u001b[0m         \u001b[0mfit_args\u001b[0m\u001b[1;33m.\u001b[0m\u001b[0mupdate\u001b[0m\u001b[1;33m(\u001b[0m\u001b[0mkwargs\u001b[0m\u001b[1;33m)\u001b[0m\u001b[1;33m\u001b[0m\u001b[1;33m\u001b[0m\u001b[0m\n\u001b[0;32m    150\u001b[0m \u001b[1;33m\u001b[0m\u001b[0m\n\u001b[1;32m--> 151\u001b[1;33m         \u001b[0mhistory\u001b[0m \u001b[1;33m=\u001b[0m \u001b[0mself\u001b[0m\u001b[1;33m.\u001b[0m\u001b[0mmodel\u001b[0m\u001b[1;33m.\u001b[0m\u001b[0mfit\u001b[0m\u001b[1;33m(\u001b[0m\u001b[0mx\u001b[0m\u001b[1;33m,\u001b[0m \u001b[0my\u001b[0m\u001b[1;33m,\u001b[0m \u001b[1;33m**\u001b[0m\u001b[0mfit_args\u001b[0m\u001b[1;33m)\u001b[0m\u001b[1;33m\u001b[0m\u001b[1;33m\u001b[0m\u001b[0m\n\u001b[0m\u001b[0;32m    152\u001b[0m \u001b[1;33m\u001b[0m\u001b[0m\n\u001b[0;32m    153\u001b[0m         \u001b[1;32mreturn\u001b[0m \u001b[0mhistory\u001b[0m\u001b[1;33m\u001b[0m\u001b[1;33m\u001b[0m\u001b[0m\n",
      "\u001b[1;32mC:\\ProgramData\\Anaconda3\\lib\\site-packages\\keras\\engine\\training.py\u001b[0m in \u001b[0;36mfit\u001b[1;34m(self, x, y, batch_size, epochs, verbose, callbacks, validation_split, validation_data, shuffle, class_weight, sample_weight, initial_epoch, steps_per_epoch, validation_steps, validation_freq, max_queue_size, workers, use_multiprocessing, **kwargs)\u001b[0m\n\u001b[0;32m   1152\u001b[0m             \u001b[0msample_weight\u001b[0m\u001b[1;33m=\u001b[0m\u001b[0msample_weight\u001b[0m\u001b[1;33m,\u001b[0m\u001b[1;33m\u001b[0m\u001b[1;33m\u001b[0m\u001b[0m\n\u001b[0;32m   1153\u001b[0m             \u001b[0mclass_weight\u001b[0m\u001b[1;33m=\u001b[0m\u001b[0mclass_weight\u001b[0m\u001b[1;33m,\u001b[0m\u001b[1;33m\u001b[0m\u001b[1;33m\u001b[0m\u001b[0m\n\u001b[1;32m-> 1154\u001b[1;33m             batch_size=batch_size)\n\u001b[0m\u001b[0;32m   1155\u001b[0m \u001b[1;33m\u001b[0m\u001b[0m\n\u001b[0;32m   1156\u001b[0m         \u001b[1;31m# Prepare validation data.\u001b[0m\u001b[1;33m\u001b[0m\u001b[1;33m\u001b[0m\u001b[1;33m\u001b[0m\u001b[0m\n",
      "\u001b[1;32mC:\\ProgramData\\Anaconda3\\lib\\site-packages\\keras\\engine\\training.py\u001b[0m in \u001b[0;36m_standardize_user_data\u001b[1;34m(self, x, y, sample_weight, class_weight, check_array_lengths, batch_size)\u001b[0m\n\u001b[0;32m    619\u001b[0m                 \u001b[0mfeed_output_shapes\u001b[0m\u001b[1;33m,\u001b[0m\u001b[1;33m\u001b[0m\u001b[1;33m\u001b[0m\u001b[0m\n\u001b[0;32m    620\u001b[0m                 \u001b[0mcheck_batch_axis\u001b[0m\u001b[1;33m=\u001b[0m\u001b[1;32mFalse\u001b[0m\u001b[1;33m,\u001b[0m  \u001b[1;31m# Don't enforce the batch size.\u001b[0m\u001b[1;33m\u001b[0m\u001b[1;33m\u001b[0m\u001b[0m\n\u001b[1;32m--> 621\u001b[1;33m                 exception_prefix='target')\n\u001b[0m\u001b[0;32m    622\u001b[0m \u001b[1;33m\u001b[0m\u001b[0m\n\u001b[0;32m    623\u001b[0m             \u001b[1;31m# Generate sample-wise weight values given the `sample_weight` and\u001b[0m\u001b[1;33m\u001b[0m\u001b[1;33m\u001b[0m\u001b[1;33m\u001b[0m\u001b[0m\n",
      "\u001b[1;32mC:\\ProgramData\\Anaconda3\\lib\\site-packages\\keras\\engine\\training_utils.py\u001b[0m in \u001b[0;36mstandardize_input_data\u001b[1;34m(data, names, shapes, check_batch_axis, exception_prefix)\u001b[0m\n\u001b[0;32m    143\u001b[0m                             \u001b[1;34m': expected '\u001b[0m \u001b[1;33m+\u001b[0m \u001b[0mnames\u001b[0m\u001b[1;33m[\u001b[0m\u001b[0mi\u001b[0m\u001b[1;33m]\u001b[0m \u001b[1;33m+\u001b[0m \u001b[1;34m' to have shape '\u001b[0m \u001b[1;33m+\u001b[0m\u001b[1;33m\u001b[0m\u001b[1;33m\u001b[0m\u001b[0m\n\u001b[0;32m    144\u001b[0m                             \u001b[0mstr\u001b[0m\u001b[1;33m(\u001b[0m\u001b[0mshape\u001b[0m\u001b[1;33m)\u001b[0m \u001b[1;33m+\u001b[0m \u001b[1;34m' but got array with shape '\u001b[0m \u001b[1;33m+\u001b[0m\u001b[1;33m\u001b[0m\u001b[1;33m\u001b[0m\u001b[0m\n\u001b[1;32m--> 145\u001b[1;33m                             str(data_shape))\n\u001b[0m\u001b[0;32m    146\u001b[0m     \u001b[1;32mreturn\u001b[0m \u001b[0mdata\u001b[0m\u001b[1;33m\u001b[0m\u001b[1;33m\u001b[0m\u001b[0m\n\u001b[0;32m    147\u001b[0m \u001b[1;33m\u001b[0m\u001b[0m\n",
      "\u001b[1;31mValueError\u001b[0m: Error when checking target: expected p_re_lu_10 to have shape (10000,) but got array with shape (1,)"
     ]
    }
   ],
   "source": [
    "np.random.seed(seed)\n",
    "historyConnor = estimatorConnor.fit(train_feats, train_labels, epochs = 100, validation_data = (test_feats, test_labels))"
   ]
  },
  {
   "cell_type": "code",
   "execution_count": 24,
   "metadata": {},
   "outputs": [
    {
     "data": {
      "image/png": "[encoded data removed]",
      "text/plain": [
       "<Figure size 432x288 with 1 Axes>"
      ]
     },
     "metadata": {
      "needs_background": "light"
     },
     "output_type": "display_data"
    }
   ],
   "source": [
    "plot_learning_curves(historyConnor.history[\"loss\"], historyConnor.history[\"val_loss\"])\n",
    "plt.show()"
   ]
  },
  {
   "cell_type": "code",
   "execution_count": null,
   "metadata": {},
   "outputs": [],
   "source": []
  }
 ],
 "metadata": {
  "kernelspec": {
   "display_name": "Python 3",
   "language": "python",
   "name": "python3"
  },
  "language_info": {
   "codemirror_mode": {
    "name": "ipython",
    "version": 3
   },
   "file_extension": ".py",
   "mimetype": "text/x-python",
   "name": "python",
   "nbconvert_exporter": "python",
   "pygments_lexer": "ipython3",
   "version": "3.7.4"
  }
 },
 "nbformat": 4,
 "nbformat_minor": 2
}

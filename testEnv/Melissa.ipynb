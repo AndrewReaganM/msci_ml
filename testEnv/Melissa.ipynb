{
 "cells": [
  {
   "cell_type": "code",
   "execution_count": 1,
   "metadata": {},
   "outputs": [],
   "source": [
    "import glob\n",
    "import os\n",
    "import pandas as pd\n",
    "import numpy as np\n",
    "import stockDataHandler as sdh\n",
    "import matplotlib.pyplot as plt\n",
    "import matplotlib as mpl"
   ]
  },
  {
   "cell_type": "code",
   "execution_count": 2,
   "metadata": {},
   "outputs": [
    {
     "name": "stderr",
     "output_type": "stream",
     "text": [
      "Using TensorFlow backend.\n"
     ]
    }
   ],
   "source": [
    "# Regression Example With Boston Dataset: Baseline\n",
    "from keras.models import Sequential\n",
    "from keras.layers import Dense\n",
    "from keras.wrappers.scikit_learn import KerasRegressor\n",
    "from sklearn.model_selection import cross_val_score\n",
    "from sklearn.model_selection import KFold"
   ]
  },
  {
   "cell_type": "code",
   "execution_count": 3,
   "metadata": {},
   "outputs": [],
   "source": [
    "# Path to Stock directory\n",
    "pathStocks = \"../Data/Stocks\"\n",
    "\n",
    "# Path to ETF directory\n",
    "pathETFs = \"../Data/ETFs\"\n",
    "\n",
    "# Path to additional data.\n",
    "comp_data = \"../Data/companies.csv\""
   ]
  },
  {
   "cell_type": "code",
   "execution_count": 4,
   "metadata": {},
   "outputs": [],
   "source": [
    "stock_file_ext = \"*.txt\"\n",
    "\n",
    "# Create list of all filenames to be imported\n",
    "filenames = glob.glob(os.path.join(pathStocks, stock_file_ext))  # Create list of Stock filenames.\n",
    "filenames += glob.glob(os.path.join(pathETFs, stock_file_ext))  # Concatenate the list of ETF filenames"
   ]
  },
  {
   "cell_type": "code",
   "execution_count": 5,
   "metadata": {},
   "outputs": [
    {
     "name": "stdout",
     "output_type": "stream",
     "text": [
      "Importing Stocks and ETFs from .txt files...\n",
      "No columns to parse from file: 'accp.us.txt' File may be blank.\n",
      "No columns to parse from file: 'amrh.us.txt' File may be blank.\n",
      "No columns to parse from file: 'amrhw.us.txt' File may be blank.\n",
      "No columns to parse from file: 'asns.us.txt' File may be blank.\n",
      "No columns to parse from file: 'bbrx.us.txt' File may be blank.\n",
      "No columns to parse from file: 'bolt.us.txt' File may be blank.\n",
      "No columns to parse from file: 'boxl.us.txt' File may be blank.\n",
      "No columns to parse from file: 'bxg.us.txt' File may be blank.\n",
      "No columns to parse from file: 'ehr.us.txt' File may be blank.\n",
      "No columns to parse from file: 'fmax.us.txt' File may be blank.\n",
      "No columns to parse from file: 'gnst.us.txt' File may be blank.\n",
      "No columns to parse from file: 'hayu.us.txt' File may be blank.\n",
      "No columns to parse from file: 'jt.us.txt' File may be blank.\n",
      "No columns to parse from file: 'mapi.us.txt' File may be blank.\n",
      "No columns to parse from file: 'molc.us.txt' File may be blank.\n",
      "No columns to parse from file: 'otg.us.txt' File may be blank.\n",
      "No columns to parse from file: 'pbio.us.txt' File may be blank.\n",
      "No columns to parse from file: 'pxus.us.txt' File may be blank.\n",
      "No columns to parse from file: 'rbio.us.txt' File may be blank.\n",
      "No columns to parse from file: 'sail.us.txt' File may be blank.\n",
      "No columns to parse from file: 'sbt.us.txt' File may be blank.\n",
      "No columns to parse from file: 'scci.us.txt' File may be blank.\n",
      "No columns to parse from file: 'scph.us.txt' File may be blank.\n",
      "No columns to parse from file: 'send.us.txt' File may be blank.\n",
      "No columns to parse from file: 'sfix.us.txt' File may be blank.\n",
      "No columns to parse from file: 'srva.us.txt' File may be blank.\n",
      "No columns to parse from file: 'stnl.us.txt' File may be blank.\n",
      "No columns to parse from file: 'vist.us.txt' File may be blank.\n",
      "No columns to parse from file: 'vmet.us.txt' File may be blank.\n",
      "No columns to parse from file: 'wnfm.us.txt' File may be blank.\n",
      "No columns to parse from file: 'wspt.us.txt' File may be blank.\n",
      "No columns to parse from file: 'znwaa.us.txt' File may be blank.\n",
      "Concatenating 8507 dataframes.\n",
      "Setting up index and verifying index integrity...\n",
      "Sorting index...\n",
      "                   Open    High     Low   Close    Volume  OpenInt\n",
      "Name Date                                                         \n",
      "a    1999-11-18  30.713  33.754  27.002  29.702  66277506        0\n",
      "     1999-11-19  28.986  29.027  26.872  27.257  16142920        0\n",
      "     1999-11-22  27.886  29.702  27.044  29.702   6970266        0\n",
      "     1999-11-23  28.688  29.446  27.002  27.002   6332082        0\n",
      "     1999-11-24  27.083  28.309  27.002  27.717   5132147        0\n",
      "Import complete\n",
      "Lines: 17453243\n"
     ]
    }
   ],
   "source": [
    "# Import stocks and ETFs\n",
    "print(\"Importing Stocks and ETFs from .txt files...\")\n",
    "stock_df = sdh.stock_dataframe(filenames, print_sample=5, print_dtypes=False, verbose=True, sort_index=True)"
   ]
  },
  {
   "cell_type": "code",
   "execution_count": 6,
   "metadata": {},
   "outputs": [
    {
     "name": "stdout",
     "output_type": "stream",
     "text": [
      "Importing supplemental company metadata...\n",
      "Import complete.\n"
     ]
    }
   ],
   "source": [
    "# Import supplemental data\n",
    "print(\"Importing supplemental company metadata...\")\n",
    "comp_df = sdh.import_supp_data(comp_data)\n",
    "\n",
    "print(\"Import complete.\")"
   ]
  },
  {
   "cell_type": "code",
   "execution_count": 7,
   "metadata": {},
   "outputs": [
    {
     "name": "stdout",
     "output_type": "stream",
     "text": [
      "                  company_name              short_name  \\\n",
      "ticker                                                   \n",
      "tsco    Tractor Supply Company  Tractor Supply Company   \n",
      "\n",
      "                            industry  \\\n",
      "ticker                                 \n",
      "tsco    Retail - Apparel & Specialty   \n",
      "\n",
      "                                              description  \\\n",
      "ticker                                                      \n",
      "tsco    Tractor Supply Co is an operator of rural life...   \n",
      "\n",
      "                               website      logo                  ceo  \\\n",
      "ticker                                                                  \n",
      "tsco    http://www.tractorsupplyco.com  TSCO.png  Gregory A. Sandfort   \n",
      "\n",
      "                    exchange    market_cap             sector  \\\n",
      "ticker                                                          \n",
      "tsco    Nasdaq Global Select  1.080913e+10  Consumer Cyclical   \n",
      "\n",
      "                    tag_1             tag_2                         tag_3  \n",
      "ticker                                                                     \n",
      "tsco    Consumer Cyclical  Specialty Retail  Retail - Apparel & Specialty  \n",
      "                   Open    High     Low   Close   Volume  OpenInt\n",
      "Name Date                                                        \n",
      "tsco 2005-02-25  10.025  10.053   9.904   9.965  1211887        0\n",
      "     2005-02-28   9.965  10.030   9.856   9.989  1424650        0\n",
      "     2005-03-01   9.989  10.192   9.914  10.134  1161900        0\n",
      "     2005-03-02  10.129  10.247  10.039  10.139  1960259        0\n",
      "     2005-03-03  10.205  10.205   9.909  10.015  1546866        0\n",
      "...                 ...     ...     ...     ...      ...      ...\n",
      "     2017-11-06  59.110  59.800  59.010  59.620  1550680        0\n",
      "     2017-11-07  59.500  59.660  58.690  59.090   949086        0\n",
      "     2017-11-08  59.160  60.830  59.060  60.640  1933611        0\n",
      "     2017-11-09  60.270  62.160  60.170  61.880  1589448        0\n",
      "     2017-11-10  61.660  63.360  61.560  62.670  3016021        0\n",
      "\n",
      "[3201 rows x 6 columns]\n",
      "['Open', 'High', 'Low', 'Close', 'Volume', 'OpenInt']\n",
      "['company_name', 'short_name', 'industry', 'description', 'website', 'logo', 'ceo', 'exchange', 'market_cap', 'sector', 'tag_1', 'tag_2', 'tag_3']\n"
     ]
    }
   ],
   "source": [
    "# Example queries\n",
    "print(comp_df.query('ticker == \"tsco\"'))\n",
    "print(stock_df.query('Name == \"tsco\"'))\n",
    "\n",
    "print(list(stock_df.columns.values))\n",
    "print(list(comp_df.columns.values))"
   ]
  },
  {
   "cell_type": "code",
   "execution_count": 8,
   "metadata": {},
   "outputs": [
    {
     "data": {
      "text/plain": [
       "array(['a', 'aa'], dtype='<U2')"
      ]
     },
     "execution_count": 8,
     "metadata": {},
     "output_type": "execute_result"
    }
   ],
   "source": [
    "# Grab a subset of the tickers to process\n",
    "tickers = np.unique([stock_df.index[i][0] for i in np.arange(0, 12000)])\n",
    "\n",
    "tickers"
   ]
  },
  {
   "cell_type": "code",
   "execution_count": 9,
   "metadata": {},
   "outputs": [
    {
     "name": "stdout",
     "output_type": "stream",
     "text": [
      "Ticker: a, Date Min: 1999-11-18 00:00:00, Date Max: 2017-11-10 00:00:00\n",
      "Ticker: aa, Date Min: 1970-01-02 00:00:00, Date Max: 2017-11-10 00:00:00\n"
     ]
    }
   ],
   "source": [
    "# Get a survey of tickers\n",
    "for ticker_name in tickers:\n",
    "    print_out = \"Ticker: {}, Date Min: {}, Date Max: {}\"\n",
    "    date_min = min(stock_df.query('Name == \"{}\"'.format(ticker_name)).index.get_level_values(1))\n",
    "    date_max = max(stock_df.query('Name == \"{}\"'.format(ticker_name)).index.get_level_values(1))\n",
    "    print(print_out.format(ticker_name, date_min, date_max))"
   ]
  },
  {
   "cell_type": "code",
   "execution_count": 10,
   "metadata": {},
   "outputs": [
    {
     "data": {
      "text/plain": [
       "array(['flic', 'iba', 'ncs'], dtype='<U4')"
      ]
     },
     "execution_count": 10,
     "metadata": {},
     "output_type": "execute_result"
    }
   ],
   "source": [
    "# Grab only those who have the same start and end dates.\n",
    "tickers = np.array(['flic', 'iba', 'ncs'])\n",
    "tickers"
   ]
  },
  {
   "cell_type": "code",
   "execution_count": 11,
   "metadata": {},
   "outputs": [
    {
     "name": "stdout",
     "output_type": "stream",
     "text": [
      "Ticker: flic, Date Min: 2005-02-25 00:00:00, Date Max: 2017-11-10 00:00:00, Number of Entries: 3006\n",
      "Ticker: iba, Date Min: 2005-02-25 00:00:00, Date Max: 2017-11-10 00:00:00, Number of Entries: 3199\n",
      "Ticker: ncs, Date Min: 2005-02-25 00:00:00, Date Max: 2017-11-10 00:00:00, Number of Entries: 3201\n"
     ]
    }
   ],
   "source": [
    "# Get a survey of tickers\n",
    "for ticker_name in tickers:\n",
    "    print_out = \"Ticker: {}, Date Min: {}, Date Max: {}, Number of Entries: {}\"\n",
    "    date_min = min(stock_df.query('Name == \"{}\"'.format(ticker_name)).index.get_level_values(1))\n",
    "    date_max = max(stock_df.query('Name == \"{}\"'.format(ticker_name)).index.get_level_values(1))\n",
    "    nrows = len(stock_df.query('Name == \"{}\"'.format(ticker_name)).index)\n",
    "    print(print_out.format(ticker_name, date_min, date_max, nrows))"
   ]
  },
  {
   "cell_type": "code",
   "execution_count": 12,
   "metadata": {},
   "outputs": [
    {
     "name": "stdout",
     "output_type": "stream",
     "text": [
      "hello\n"
     ]
    }
   ],
   "source": [
    "flic_dates = stock_df.query('Name == \"{}\"'.format(\"flic\")).index.get_level_values(1)\n",
    "iba_dates = stock_df.query('Name == \"{}\"'.format(\"iba\")).index.get_level_values(1)\n",
    "ncs_dates = stock_df.query('Name == \"{}\"'.format(\"ncs\")).index.get_level_values(1)\n",
    "\n",
    "flic = stock_df.query('Name == \"{}\"'.format(\"flic\"))\n",
    "iba = stock_df.query('Name == \"{}\"'.format(\"iba\"))\n",
    "ncs = stock_df.query('Name == \"{}\"'.format(\"ncs\"))\n",
    "print(\"hello\")"
   ]
  },
  {
   "cell_type": "code",
   "execution_count": 13,
   "metadata": {},
   "outputs": [
    {
     "name": "stdout",
     "output_type": "stream",
     "text": [
      "DatetimeIndex(['2005-02-25', '2005-02-28', '2005-03-01', '2005-03-02',\n",
      "               '2005-03-03', '2005-03-04', '2005-03-07', '2005-03-08',\n",
      "               '2005-03-09', '2005-03-10',\n",
      "               ...\n",
      "               '2017-10-30', '2017-10-31', '2017-11-01', '2017-11-02',\n",
      "               '2017-11-03', '2017-11-06', '2017-11-07', '2017-11-08',\n",
      "               '2017-11-09', '2017-11-10'],\n",
      "              dtype='datetime64[ns]', name='Date', length=3006, freq=None)\n",
      "3005\n"
     ]
    }
   ],
   "source": [
    "print(flic_dates)\n",
    "shared_dates = np.intersect1d(np.intersect1d(flic_dates, iba_dates), ncs_dates)\n",
    "print(len(shared_dates))"
   ]
  },
  {
   "cell_type": "code",
   "execution_count": 14,
   "metadata": {},
   "outputs": [
    {
     "name": "stdout",
     "output_type": "stream",
     "text": [
      "(1, 5)\n",
      "(1,)\n"
     ]
    }
   ],
   "source": [
    "feats = np.delete(flic.query('Date == \"{}\"'.format(shared_dates[0])).values, 3, 1)\n",
    "labels = flic.query('Date == \"{}\"'.format(shared_dates[0])).values[:, 3]\n",
    "print(feats.shape)\n",
    "print(labels.shape)"
   ]
  },
  {
   "cell_type": "code",
   "execution_count": 15,
   "metadata": {},
   "outputs": [
    {
     "name": "stdout",
     "output_type": "stream",
     "text": [
      "(1, 17)\n"
     ]
    }
   ],
   "source": [
    "feats = np.concatenate((feats, iba.query('Date == \"{}\"'.format(shared_dates[0])).values), 1)\n",
    "feats = np.concatenate((feats, ncs.query('Date == \"{}\"'.format(shared_dates[0])).values), 1)\n",
    "print(feats.shape)"
   ]
  },
  {
   "cell_type": "code",
   "execution_count": 16,
   "metadata": {},
   "outputs": [
    {
     "name": "stdout",
     "output_type": "stream",
     "text": [
      "(3005, 17)\n",
      "(3005,)\n"
     ]
    }
   ],
   "source": [
    "for i in np.arange(1, len(shared_dates)):\n",
    "    row = np.delete(flic.query('Date == \"{}\"'.format(shared_dates[i])).values, 3, 1)\n",
    "    row = np.concatenate((row, iba.query('Date == \"{}\"'.format(shared_dates[i])).values), 1)\n",
    "    row = np.concatenate((row, ncs.query('Date == \"{}\"'.format(shared_dates[i])).values), 1)\n",
    "\n",
    "    feats = np.concatenate((feats, row))\n",
    "    labels = np.concatenate((labels, flic.query('Date == \"{}\"'.format(shared_dates[i])).values[:, 3]))\n",
    "\n",
    "print(feats.shape)\n",
    "print(labels.shape)"
   ]
  },
  {
   "cell_type": "code",
   "execution_count": 17,
   "metadata": {},
   "outputs": [],
   "source": [
    "train_feats = feats[0:int(len(feats) * 0.75)]\n",
    "test_feats = feats[int(len(feats) * 0.75):]\n",
    "train_labels = labels[0:int(len(feats) * 0.75)]\n",
    "test_labels = labels[int(len(feats) * 0.75):]"
   ]
  },
  {
   "cell_type": "code",
   "execution_count": 18,
   "metadata": {},
   "outputs": [
    {
     "name": "stdout",
     "output_type": "stream",
     "text": [
      "(2253, 17)\n",
      "(752, 17)\n",
      "(2253,)\n",
      "(752,)\n"
     ]
    }
   ],
   "source": [
    "print(train_feats.shape)\n",
    "print(test_feats.shape)\n",
    "print(train_labels.shape)\n",
    "print(test_labels.shape)"
   ]
  },
  {
   "cell_type": "code",
   "execution_count": 19,
   "metadata": {},
   "outputs": [],
   "source": [
    "# model\n",
    "def baseline_model():\n",
    "    model = Sequential()\n",
    "    #model.add(Dense(10000000, input_dim=17, activation='relu'))\n",
    "    #model.add(Dense(1000000, activation='sigmoid'))\n",
    "    #model.add(Dense(100000, activation='sigmoid'))\n",
    "    model.add(Dense(10000, activation='sigmoid'))\n",
    "    model.add(Dense(1000, activation='sigmoid'))\n",
    "    model.add(Dense(100, activation='sigmoid'))\n",
    "    model.add(Dense(10, activation='sigmoid'))\n",
    "    model.add(Dense(1, activation='linear'))\n",
    "    model.compile(loss='mean_absolute_percentage_error', optimizer='adam')\n",
    "\n",
    "    return model"
   ]
  },
  {
   "cell_type": "code",
   "execution_count": 20,
   "metadata": {},
   "outputs": [],
   "source": [
    "# fit the keras model on the dataset\n",
    "estimator = KerasRegressor(build_fn=baseline_model, nb_epoch=1500, batch_size=100, verbose=True)"
   ]
  },
  {
   "cell_type": "code",
   "execution_count": 27,
   "metadata": {},
   "outputs": [
    {
     "name": "stdout",
     "output_type": "stream",
     "text": [
      "Train on 2253 samples, validate on 752 samples\n",
      "Epoch 1/100\n",
      "2253/2253 [==============================] - 0s 154us/step - loss: 82.7588 - val_loss: 90.6876\n",
      "Epoch 2/100\n",
      "2253/2253 [==============================] - 0s 98us/step - loss: 78.6028 - val_loss: 89.4462\n",
      "Epoch 3/100\n",
      "2253/2253 [==============================] - 0s 95us/step - loss: 76.3087 - val_loss: 88.5256\n",
      "Epoch 4/100\n",
      "2253/2253 [==============================] - 0s 89us/step - loss: 74.4654 - val_loss: 87.7195\n",
      "Epoch 5/100\n",
      "2253/2253 [==============================] - 0s 90us/step - loss: 72.7793 - val_loss: 86.9582\n",
      "Epoch 6/100\n",
      "2253/2253 [==============================] - 0s 89us/step - loss: 71.1608 - val_loss: 86.2147\n",
      "Epoch 7/100\n",
      "2253/2253 [==============================] - 0s 89us/step - loss: 69.5772 - val_loss: 85.4852\n",
      "Epoch 8/100\n",
      "2253/2253 [==============================] - 0s 89us/step - loss: 68.0166 - val_loss: 84.7662\n",
      "Epoch 9/100\n",
      "2253/2253 [==============================] - 0s 89us/step - loss: 66.4742 - val_loss: 84.0515\n",
      "Epoch 10/100\n",
      "2253/2253 [==============================] - 0s 89us/step - loss: 64.9402 - val_loss: 83.3420\n",
      "Epoch 11/100\n",
      "2253/2253 [==============================] - 0s 90us/step - loss: 63.4121 - val_loss: 82.6340\n",
      "Epoch 12/100\n",
      "2253/2253 [==============================] - 0s 94us/step - loss: 61.8855 - val_loss: 81.9230\n",
      "Epoch 13/100\n",
      "2253/2253 [==============================] - 0s 89us/step - loss: 60.3253 - val_loss: 81.1571\n",
      "Epoch 14/100\n",
      "2253/2253 [==============================] - 0s 89us/step - loss: 58.2670 - val_loss: 79.9379\n",
      "Epoch 15/100\n",
      "2253/2253 [==============================] - 0s 91us/step - loss: 55.6566 - val_loss: 78.8343\n",
      "Epoch 16/100\n",
      "2253/2253 [==============================] - 0s 89us/step - loss: 53.4015 - val_loss: 77.8378\n",
      "Epoch 17/100\n",
      "2253/2253 [==============================] - 0s 91us/step - loss: 51.3028 - val_loss: 76.8902\n",
      "Epoch 18/100\n",
      "2253/2253 [==============================] - 0s 89us/step - loss: 49.2924 - val_loss: 75.9645\n",
      "Epoch 19/100\n",
      "2253/2253 [==============================] - 0s 90us/step - loss: 47.3253 - val_loss: 75.0613\n",
      "Epoch 20/100\n",
      "2253/2253 [==============================] - 0s 91us/step - loss: 45.3973 - val_loss: 74.1739\n",
      "Epoch 21/100\n",
      "2253/2253 [==============================] - 0s 93us/step - loss: 43.4958 - val_loss: 73.2982\n",
      "Epoch 22/100\n",
      "2253/2253 [==============================] - 0s 90us/step - loss: 41.6193 - val_loss: 72.4282\n",
      "Epoch 23/100\n",
      "2253/2253 [==============================] - 0s 90us/step - loss: 39.7549 - val_loss: 71.5682\n",
      "Epoch 24/100\n",
      "2253/2253 [==============================] - 0s 90us/step - loss: 37.9078 - val_loss: 70.7120\n",
      "Epoch 25/100\n",
      "2253/2253 [==============================] - 0s 93us/step - loss: 36.0694 - val_loss: 69.8610\n",
      "Epoch 26/100\n",
      "2253/2253 [==============================] - 0s 95us/step - loss: 34.2411 - val_loss: 69.0136\n",
      "Epoch 27/100\n",
      "2253/2253 [==============================] - 0s 91us/step - loss: 32.4190 - val_loss: 68.1715\n",
      "Epoch 28/100\n",
      "2253/2253 [==============================] - 0s 92us/step - loss: 30.6079 - val_loss: 67.3298\n",
      "Epoch 29/100\n",
      "2253/2253 [==============================] - 0s 98us/step - loss: 28.8021 - val_loss: 66.4948\n",
      "Epoch 30/100\n",
      "2253/2253 [==============================] - 0s 98us/step - loss: 27.0761 - val_loss: 65.6900\n",
      "Epoch 31/100\n",
      "2253/2253 [==============================] - 0s 91us/step - loss: 25.5623 - val_loss: 64.9426\n",
      "Epoch 32/100\n",
      "2253/2253 [==============================] - 0s 94us/step - loss: 24.2847 - val_loss: 64.2540\n",
      "Epoch 33/100\n",
      "2253/2253 [==============================] - 0s 98us/step - loss: 23.2051 - val_loss: 63.6087\n",
      "Epoch 34/100\n",
      "2253/2253 [==============================] - 0s 94us/step - loss: 22.2530 - val_loss: 63.0109\n",
      "Epoch 35/100\n",
      "2253/2253 [==============================] - 0s 91us/step - loss: 21.4181 - val_loss: 62.4462\n",
      "Epoch 36/100\n",
      "2253/2253 [==============================] - 0s 89us/step - loss: 20.6847 - val_loss: 61.9125\n",
      "Epoch 37/100\n",
      "2253/2253 [==============================] - 0s 89us/step - loss: 20.0544 - val_loss: 61.4174\n",
      "Epoch 38/100\n",
      "2253/2253 [==============================] - 0s 89us/step - loss: 19.5907 - val_loss: 61.0130\n",
      "Epoch 39/100\n",
      "2253/2253 [==============================] - 0s 94us/step - loss: 19.2695 - val_loss: 60.6777\n",
      "Epoch 40/100\n",
      "2253/2253 [==============================] - 0s 97us/step - loss: 19.0614 - val_loss: 60.3904\n",
      "Epoch 41/100\n",
      "2253/2253 [==============================] - 0s 96us/step - loss: 18.9072 - val_loss: 60.1429\n",
      "Epoch 42/100\n",
      "2253/2253 [==============================] - 0s 89us/step - loss: 18.7970 - val_loss: 59.9256\n",
      "Epoch 43/100\n",
      "2253/2253 [==============================] - 0s 90us/step - loss: 18.7245 - val_loss: 59.7413\n",
      "Epoch 44/100\n",
      "2253/2253 [==============================] - 0s 90us/step - loss: 18.6674 - val_loss: 59.5980\n",
      "Epoch 45/100\n",
      "2253/2253 [==============================] - 0s 93us/step - loss: 18.6269 - val_loss: 59.4605\n",
      "Epoch 46/100\n",
      "2253/2253 [==============================] - 0s 95us/step - loss: 18.5904 - val_loss: 59.3341\n",
      "Epoch 47/100\n",
      "2253/2253 [==============================] - 0s 98us/step - loss: 18.5594 - val_loss: 59.2150\n",
      "Epoch 48/100\n",
      "2253/2253 [==============================] - 0s 90us/step - loss: 18.5330 - val_loss: 59.1034\n",
      "Epoch 49/100\n",
      "2253/2253 [==============================] - 0s 89us/step - loss: 18.5117 - val_loss: 58.9943\n",
      "Epoch 50/100\n",
      "2253/2253 [==============================] - 0s 89us/step - loss: 18.4906 - val_loss: 58.9095\n",
      "Epoch 51/100\n",
      "2253/2253 [==============================] - 0s 90us/step - loss: 18.4722 - val_loss: 58.7980\n",
      "Epoch 52/100\n",
      "2253/2253 [==============================] - 0s 90us/step - loss: 18.4524 - val_loss: 58.6919\n",
      "Epoch 53/100\n",
      "2253/2253 [==============================] - 0s 90us/step - loss: 18.4350 - val_loss: 58.6041\n",
      "Epoch 54/100\n",
      "2253/2253 [==============================] - 0s 97us/step - loss: 18.4195 - val_loss: 58.5256\n",
      "Epoch 55/100\n",
      "2253/2253 [==============================] - 0s 90us/step - loss: 18.4065 - val_loss: 58.4288\n",
      "Epoch 56/100\n",
      "2253/2253 [==============================] - 0s 91us/step - loss: 18.3928 - val_loss: 58.3379\n",
      "Epoch 57/100\n",
      "2253/2253 [==============================] - 0s 94us/step - loss: 18.3816 - val_loss: 58.2566\n",
      "Epoch 58/100\n",
      "2253/2253 [==============================] - 0s 96us/step - loss: 18.3720 - val_loss: 58.1932\n",
      "Epoch 59/100\n",
      "2253/2253 [==============================] - 0s 90us/step - loss: 18.3648 - val_loss: 58.1308\n",
      "Epoch 60/100\n",
      "2253/2253 [==============================] - 0s 93us/step - loss: 18.3574 - val_loss: 58.0693\n",
      "Epoch 61/100\n",
      "2253/2253 [==============================] - 0s 95us/step - loss: 18.3495 - val_loss: 58.0092\n",
      "Epoch 62/100\n",
      "2253/2253 [==============================] - 0s 90us/step - loss: 18.3429 - val_loss: 57.9428\n",
      "Epoch 63/100\n",
      "2253/2253 [==============================] - 0s 93us/step - loss: 18.3360 - val_loss: 57.8835\n",
      "Epoch 64/100\n",
      "2253/2253 [==============================] - 0s 95us/step - loss: 18.3290 - val_loss: 57.8143\n",
      "Epoch 65/100\n",
      "2253/2253 [==============================] - 0s 92us/step - loss: 18.3234 - val_loss: 57.7515\n",
      "Epoch 66/100\n",
      "2253/2253 [==============================] - 0s 93us/step - loss: 18.3187 - val_loss: 57.6874\n",
      "Epoch 67/100\n",
      "2253/2253 [==============================] - 0s 95us/step - loss: 18.3137 - val_loss: 57.6383\n",
      "Epoch 68/100\n",
      "2253/2253 [==============================] - 0s 92us/step - loss: 18.3100 - val_loss: 57.5860\n",
      "Epoch 69/100\n",
      "2253/2253 [==============================] - 0s 96us/step - loss: 18.3067 - val_loss: 57.5497\n",
      "Epoch 70/100\n",
      "2253/2253 [==============================] - 0s 90us/step - loss: 18.3039 - val_loss: 57.4882\n",
      "Epoch 71/100\n",
      "2253/2253 [==============================] - 0s 91us/step - loss: 18.3005 - val_loss: 57.4496\n",
      "Epoch 72/100\n",
      "2253/2253 [==============================] - 0s 97us/step - loss: 18.2978 - val_loss: 57.4087\n",
      "Epoch 73/100\n",
      "2253/2253 [==============================] - 0s 92us/step - loss: 18.2954 - val_loss: 57.3462\n",
      "Epoch 74/100\n",
      "2253/2253 [==============================] - 0s 92us/step - loss: 18.2929 - val_loss: 57.3086\n",
      "Epoch 75/100\n",
      "2253/2253 [==============================] - 0s 95us/step - loss: 18.2909 - val_loss: 57.2799\n",
      "Epoch 76/100\n",
      "2253/2253 [==============================] - 0s 92us/step - loss: 18.2912 - val_loss: 57.2398\n",
      "Epoch 77/100\n"
     ]
    },
    {
     "name": "stdout",
     "output_type": "stream",
     "text": [
      "2253/2253 [==============================] - 0s 90us/step - loss: 18.2888 - val_loss: 57.2377\n",
      "Epoch 78/100\n",
      "2253/2253 [==============================] - 0s 90us/step - loss: 18.2880 - val_loss: 57.2093\n",
      "Epoch 79/100\n",
      "2253/2253 [==============================] - 0s 95us/step - loss: 18.2871 - val_loss: 57.1770\n",
      "Epoch 80/100\n",
      "2253/2253 [==============================] - 0s 92us/step - loss: 18.2860 - val_loss: 57.1465\n",
      "Epoch 81/100\n",
      "2253/2253 [==============================] - 0s 89us/step - loss: 18.2851 - val_loss: 57.1282\n",
      "Epoch 82/100\n",
      "2253/2253 [==============================] - 0s 90us/step - loss: 18.2843 - val_loss: 57.1003\n",
      "Epoch 83/100\n",
      "2253/2253 [==============================] - 0s 89us/step - loss: 18.2848 - val_loss: 57.0707\n",
      "Epoch 84/100\n",
      "2253/2253 [==============================] - 0s 90us/step - loss: 18.2828 - val_loss: 57.0567\n",
      "Epoch 85/100\n",
      "2253/2253 [==============================] - 0s 93us/step - loss: 18.2819 - val_loss: 57.0305\n",
      "Epoch 86/100\n",
      "2253/2253 [==============================] - 0s 96us/step - loss: 18.2814 - val_loss: 57.0060\n",
      "Epoch 87/100\n",
      "2253/2253 [==============================] - 0s 95us/step - loss: 18.2812 - val_loss: 56.9729\n",
      "Epoch 88/100\n",
      "2253/2253 [==============================] - 0s 92us/step - loss: 18.2802 - val_loss: 56.9567\n",
      "Epoch 89/100\n",
      "2253/2253 [==============================] - 0s 93us/step - loss: 18.2804 - val_loss: 56.9277\n",
      "Epoch 90/100\n",
      "2253/2253 [==============================] - 0s 93us/step - loss: 18.2798 - val_loss: 56.9246\n",
      "Epoch 91/100\n",
      "2253/2253 [==============================] - 0s 93us/step - loss: 18.2796 - val_loss: 56.9097\n",
      "Epoch 92/100\n",
      "2253/2253 [==============================] - 0s 95us/step - loss: 18.2793 - val_loss: 56.9130\n",
      "Epoch 93/100\n",
      "2253/2253 [==============================] - 0s 92us/step - loss: 18.2792 - val_loss: 56.8940\n",
      "Epoch 94/100\n",
      "2253/2253 [==============================] - 0s 95us/step - loss: 18.2794 - val_loss: 56.8932\n",
      "Epoch 95/100\n",
      "2253/2253 [==============================] - 0s 91us/step - loss: 18.2787 - val_loss: 56.8701\n",
      "Epoch 96/100\n",
      "2253/2253 [==============================] - 0s 90us/step - loss: 18.2789 - val_loss: 56.8596\n",
      "Epoch 97/100\n",
      "2253/2253 [==============================] - 0s 95us/step - loss: 18.2792 - val_loss: 56.8450\n",
      "Epoch 98/100\n",
      "2253/2253 [==============================] - 0s 96us/step - loss: 18.2794 - val_loss: 56.8278\n",
      "Epoch 99/100\n",
      "2253/2253 [==============================] - 0s 92us/step - loss: 18.2792 - val_loss: 56.8274\n",
      "Epoch 100/100\n",
      "2253/2253 [==============================] - 0s 93us/step - loss: 18.2790 - val_loss: 56.8359\n"
     ]
    }
   ],
   "source": [
    "history = estimator.fit(train_feats, train_labels, epochs = 100, validation_data = (test_feats, test_labels))\n",
    "#kfold = KFold(n_splits=10, random_state=1)\n",
    "#results = cross_val_score(estimator, train_feats, train_labels, cv=kfold)\n",
    "#print(\"Results: %.2f (%.2f) MSE\" % (results.mean(), results.std()))"
   ]
  },
  {
   "cell_type": "code",
   "execution_count": 22,
   "metadata": {},
   "outputs": [],
   "source": [
    "def plot_learning_curves(loss, val_loss):\n",
    "    plt.plot(np.arange(len(loss)) + 0.5, loss, \"b.-\", label=\"Training loss\")\n",
    "    plt.plot(np.arange(len(val_loss)) + 1, val_loss, \"r.-\", label=\"Validation loss\")\n",
    "    plt.gca().xaxis.set_major_locator(mpl.ticker.MaxNLocator(integer=True))\n",
    "    plt.axis([1, 100, 0, 100])\n",
    "    plt.legend(fontsize=14)\n",
    "    plt.xlabel(\"Epochs\")\n",
    "    plt.ylabel(\"Loss\")\n",
    "    plt.grid(True)"
   ]
  },
  {
   "cell_type": "code",
   "execution_count": 23,
   "metadata": {},
   "outputs": [
    {
     "data": {
      "image/png": "[encoded data removed]",
      "text/plain": [
       "<Figure size 432x288 with 1 Axes>"
      ]
     },
     "metadata": {
      "needs_background": "light"
     },
     "output_type": "display_data"
    }
   ],
   "source": [
    "plot_learning_curves(history.history[\"loss\"], history.history[\"val_loss\"])\n",
    "plt.show()"
   ]
  },
  {
   "cell_type": "code",
   "execution_count": 29,
   "metadata": {},
   "outputs": [
    {
     "name": "stdout",
     "output_type": "stream",
     "text": [
      "Epoch 1/1\n",
      "2027/2027 [==============================] - 0s 154us/step - loss: 88.9361\n",
      "226/226 [==============================] - 0s 93us/step\n",
      "Epoch 1/1\n",
      "2027/2027 [==============================] - 0s 153us/step - loss: 88.4014\n",
      "226/226 [==============================] - 0s 88us/step\n",
      "Epoch 1/1\n",
      "2027/2027 [==============================] - 0s 153us/step - loss: 77.1247\n",
      "226/226 [==============================] - 0s 79us/step\n",
      "Epoch 1/1\n",
      "2028/2028 [==============================] - 0s 137us/step - loss: 96.2269\n",
      "225/225 [==============================] - 0s 89us/step\n",
      "Epoch 1/1\n",
      "2028/2028 [==============================] - 0s 143us/step - loss: 75.6086\n",
      "225/225 [==============================] - 0s 98us/step\n",
      "Epoch 1/1\n",
      "2028/2028 [==============================] - 0s 137us/step - loss: 82.7845\n",
      "225/225 [==============================] - 0s 93us/step\n",
      "Epoch 1/1\n",
      "2028/2028 [==============================] - 0s 138us/step - loss: 90.9249\n",
      "225/225 [==============================] - 0s 93us/step\n",
      "Epoch 1/1\n",
      "2028/2028 [==============================] - 0s 140us/step - loss: 92.5520\n",
      "225/225 [==============================] - 0s 89us/step\n",
      "Epoch 1/1\n",
      "2028/2028 [==============================] - 0s 141us/step - loss: 93.6146\n",
      "225/225 [==============================] - 0s 84us/step\n",
      "Epoch 1/1\n",
      "2028/2028 [==============================] - 0s 161us/step - loss: 96.6953\n",
      "225/225 [==============================] - 0s 84us/step\n",
      "Results: -83.61 (9.70) MSE\n"
     ]
    }
   ],
   "source": [
    "kfold = KFold(n_splits=10, random_state=10)\n",
    "results = cross_val_score(estimator, train_feats, train_labels, cv=kfold)\n",
    "print(\"Results: %.2f (%.2f) MSE\" % (results.mean(), results.std()))"
   ]
  },
  {
   "cell_type": "code",
   "execution_count": null,
   "metadata": {},
   "outputs": [],
   "source": []
  }
 ],
 "metadata": {
  "kernelspec": {
   "display_name": "Python 3",
   "language": "python",
   "name": "python3"
  },
  "language_info": {
   "codemirror_mode": {
    "name": "ipython",
    "version": 3
   },
   "file_extension": ".py",
   "mimetype": "text/x-python",
   "name": "python",
   "nbconvert_exporter": "python",
   "pygments_lexer": "ipython3",
   "version": "3.7.4"
  }
 },
 "nbformat": 4,
 "nbformat_minor": 2
}

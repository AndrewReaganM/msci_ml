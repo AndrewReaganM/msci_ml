{
 "cells": [
  {
   "cell_type": "code",
   "execution_count": 2,
   "metadata": {
    "collapsed": true,
    "pycharm": {
     "is_executing": false
    }
   },
   "outputs": [
    {
     "traceback": [
      "\u001b[0;31m---------------------------------------------------------------------------\u001b[0m",
      "\u001b[0;31mModuleNotFoundError\u001b[0m                       Traceback (most recent call last)",
      "\u001b[0;32m<ipython-input-2-2d51014d34b7>\u001b[0m in \u001b[0;36m<module>\u001b[0;34m\u001b[0m\n\u001b[1;32m      2\u001b[0m \u001b[0;32mimport\u001b[0m \u001b[0mos\u001b[0m\u001b[0;34m\u001b[0m\u001b[0;34m\u001b[0m\u001b[0m\n\u001b[1;32m      3\u001b[0m \u001b[0;32mimport\u001b[0m \u001b[0mpandas\u001b[0m \u001b[0;32mas\u001b[0m \u001b[0mpd\u001b[0m\u001b[0;34m\u001b[0m\u001b[0;34m\u001b[0m\u001b[0m\n\u001b[0;32m----> 4\u001b[0;31m \u001b[0;32mimport\u001b[0m \u001b[0mstockDataHandler\u001b[0m \u001b[0;32mas\u001b[0m \u001b[0msdh\u001b[0m\u001b[0;34m\u001b[0m\u001b[0;34m\u001b[0m\u001b[0m\n\u001b[0m\u001b[1;32m      5\u001b[0m \u001b[0;34m\u001b[0m\u001b[0m\n\u001b[1;32m      6\u001b[0m \u001b[0;31m# Path to Stock directory\u001b[0m\u001b[0;34m\u001b[0m\u001b[0;34m\u001b[0m\u001b[0;34m\u001b[0m\u001b[0m\n",
      "\u001b[0;31mModuleNotFoundError\u001b[0m: No module named 'stockDataHandler'"
     ],
     "ename": "ModuleNotFoundError",
     "evalue": "No module named 'stockDataHandler'",
     "output_type": "error"
    }
   ],
   "source": [
    "import glob\n",
    "import os\n",
    "import stockDataHandler as sdh\n",
    "\n",
    "# Path to Stock directory\n",
    "pathStocks = \"/Users/andrewmassey/Documents/2019 - Fall/SoftwareEng/MSCI/price-volume-data-for-all-us-stocks-etfs\" \\\n",
    "             \"/Stocks\"\n",
    "# Path to ETF directory\n",
    "pathETFs = \"/Users/andrewmassey/Documents/2019 - Fall/SoftwareEng/MSCI/price-volume-data-for-all-us-stocks-etfs/ETFs\"\n",
    "\n",
    "# Path to additional data.\n",
    "comp_data = \"/Users/andrewmassey/Documents/2019 - Fall/SoftwareEng/MSCI/supplementalData/all-us-stocks-tickers\" \\\n",
    "            \"-company-info-logos/companies.csv\"\n",
    "\n",
    "stock_file_ext = \"*.txt\"\n",
    "# Create list of all filenames to be imported\n",
    "filenames = glob.glob(os.path.join(pathStocks, stock_file_ext))  # Create list of Stock filenames.\n",
    "filenames += glob.glob(os.path.join(pathETFs, stock_file_ext))  # Concatenate the list of ETF filenames\n",
    "\n",
    "# Import stocks and ETFs\n",
    "print(\"Importing Stocks and ETFs from .txt files...\")\n",
    "stock_df = sdh.stock_dataframe(filenames, print_sample=5, print_dtypes=False, verbose=True, sort_index=True)\n",
    "\n",
    "# Import supplemental data\n",
    "print(\"Importing supplemental company metadata...\")\n",
    "comp_df = sdh.import_supp_data(comp_data)\n",
    "\n",
    "print(\"Import complete.\")\n",
    "\n",
    "# Example queries\n",
    "print(comp_df.query('ticker == \"tsco\"'))\n",
    "print(stock_df.query('Name == \"tsco\"'))\n",
    "\n"
   ]
  }
 ],
 "metadata": {
  "kernelspec": {
   "name": "python3",
   "language": "python",
   "display_name": "Python 3"
  },
  "language_info": {
   "codemirror_mode": {
    "name": "ipython",
    "version": 2
   },
   "file_extension": ".py",
   "mimetype": "text/x-python",
   "name": "python",
   "nbconvert_exporter": "python",
   "pygments_lexer": "ipython2",
   "version": "2.7.6"
  },
  "pycharm": {
   "stem_cell": {
    "cell_type": "raw",
    "source": [],
    "metadata": {
     "collapsed": false
    }
   }
  }
 },
 "nbformat": 4,
 "nbformat_minor": 0
}
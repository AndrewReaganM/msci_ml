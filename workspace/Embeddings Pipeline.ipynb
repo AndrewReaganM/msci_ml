{
 "cells": [
  {
   "cell_type": "code",
   "execution_count": 1,
   "metadata": {},
   "outputs": [],
   "source": [
    "# New notebook with dynamic number of features chosen and better file writing"
   ]
  },
  {
   "cell_type": "code",
   "execution_count": 7,
   "metadata": {},
   "outputs": [
    {
     "data": {
      "text/plain": [
       "<module 'stockDataHandler' from '/Users/melissawilson/git/msci_ml/workspace/stockDataHandler.py'>"
      ]
     },
     "execution_count": 7,
     "metadata": {},
     "output_type": "execute_result"
    }
   ],
   "source": [
    "# General Libraries\n",
    "import csv\n",
    "from datetime import datetime\n",
    "import glob\n",
    "import matplotlib.pyplot as plt\n",
    "import numpy as np\n",
    "import os\n",
    "import pandas as pd\n",
    "import importlib\n",
    "import msciLib\n",
    "importlib.reload(msciLib)\n",
    "from pathlib import Path\n",
    "import stockDataHandler as sdh\n",
    "importlib.reload(sdh)"
   ]
  },
  {
   "cell_type": "code",
   "execution_count": 145,
   "metadata": {},
   "outputs": [],
   "source": [
    "np.random.seed(42)\n",
    "random_tickers = False"
   ]
  },
  {
   "cell_type": "code",
   "execution_count": 44,
   "metadata": {},
   "outputs": [],
   "source": [
    "# Machine Learning Libraries\n",
    "from tensorflow.python.keras.layers import Input, Dense\n",
    "from tensorflow.python.keras.models import Sequential\n",
    "\n",
    "# from keras.models import Sequential\n",
    "# from keras.layers import Dense, Dropout\n",
    "from keras import metrics\n",
    "import seaborn as sns\n",
    "import matplotlib.pyplot as plt\n",
    "from keras import backend as K\n",
    "from keras.wrappers.scikit_learn import KerasRegressor"
   ]
  },
  {
   "cell_type": "code",
   "execution_count": 10,
   "metadata": {},
   "outputs": [],
   "source": [
    "sns.set_style(\"darkgrid\")"
   ]
  },
  {
   "cell_type": "markdown",
   "metadata": {},
   "source": [
    "## Load and Format Data"
   ]
  },
  {
   "cell_type": "markdown",
   "metadata": {},
   "source": [
    "Here, we use the stockDataHandler library made my Andrew to import all the cleaned data into pandas dataframe."
   ]
  },
  {
   "cell_type": "code",
   "execution_count": 11,
   "metadata": {},
   "outputs": [
    {
     "name": "stdout",
     "output_type": "stream",
     "text": [
      "                   Open    High     Low   Close  Volume  Close_to_Open  \\\n",
      "Name Date                                                                \n",
      "iba  2005-02-28  13.536  13.536  13.273  13.281   16382       0.054698   \n",
      "     2005-03-01  13.185  13.299  13.185  13.299    1250      -0.007228   \n",
      "     2005-03-02  13.361  13.395  13.273  13.291    8760       0.004662   \n",
      "     2005-03-03  13.361  13.404  12.966  13.218    9897       0.005267   \n",
      "     2005-03-04  13.307  13.536  13.228  13.404   11491       0.006733   \n",
      "     2005-03-07  13.578  13.578  13.273  13.273    6827       0.012981   \n",
      "     2005-03-08  13.342  13.342  13.228  13.228    2162       0.005199   \n",
      "     2005-03-09  13.237  13.324  13.237  13.273    6144       0.000680   \n",
      "     2005-03-10  13.218  13.218  13.203  13.210    6487      -0.004144   \n",
      "     2005-03-11  13.210  13.210  13.080  13.167    4551       0.000000   \n",
      "\n",
      "                 Close_to_High  Close_to_Low  Close_to_Close  Volume_Change  \n",
      "Name Date                                                                    \n",
      "iba  2005-02-28       0.054698      0.034206        0.034829       0.028503  \n",
      "     2005-03-01       0.001355     -0.007228        0.001355      -0.923697  \n",
      "     2005-03-02       0.007219     -0.001955       -0.000602       6.008000  \n",
      "     2005-03-03       0.008502     -0.024453       -0.005492       0.129795  \n",
      "     2005-03-04       0.024058      0.000757        0.014072       0.161059  \n",
      "     2005-03-07       0.012981     -0.009773       -0.009773      -0.405883  \n",
      "     2005-03-08       0.005199     -0.003390       -0.003390      -0.683316  \n",
      "     2005-03-09       0.007257      0.000680        0.003402       1.841813  \n",
      "     2005-03-10      -0.004144     -0.005274       -0.004746       0.055827  \n",
      "     2005-03-11       0.000000     -0.009841       -0.003255      -0.298443  \n"
     ]
    }
   ],
   "source": [
    "# Path to Stock directory\n",
    "# Path to Stock directory\n",
    "pathStocks = \"/Users/melissawilson/Desktop/msci/data/price-volume-data-for-all-us-stocks-etfs\" \\\n",
    "             \"/Stocks\"\n",
    "# Path to ETF directory\n",
    "pathETFs = \"/Users/melissawilson/Desktop/msci/data/price-volume-data-for-all-us-stocks-etfs/ETFs\"\n",
    "\n",
    "stock_file_ext = \"*.txt\"\n",
    "\n",
    "# Create list of all filenames to be imported\n",
    "filenames = glob.glob(os.path.join(pathStocks, stock_file_ext))  # Create list of Stock filenames.\n",
    "filenames += glob.glob(os.path.join(pathETFs, stock_file_ext))  # Concatenate the list of ETF filenames\n",
    "\n",
    "sdf = sdh.stock_dataframe(filenames, verbose=False, print_sample=10)"
   ]
  },
  {
   "cell_type": "code",
   "execution_count": 12,
   "metadata": {},
   "outputs": [
    {
     "data": {
      "text/plain": [
       "(3198, 10)"
      ]
     },
     "execution_count": 12,
     "metadata": {},
     "output_type": "execute_result"
    }
   ],
   "source": [
    "# Test query\n",
    "sdf.query('Name == \"iba\"').values.shape"
   ]
  },
  {
   "cell_type": "markdown",
   "metadata": {},
   "source": [
    "### Gather all tickers in the dataset"
   ]
  },
  {
   "cell_type": "markdown",
   "metadata": {},
   "source": [
    "The dataset dataframe is multi-indexed by ticker and date respectively. So we get a list of indicies and filter out just the unique tickers."
   ]
  },
  {
   "cell_type": "code",
   "execution_count": 13,
   "metadata": {},
   "outputs": [],
   "source": [
    "# Get list of all dataframe indicies\n",
    "indicies = np.array([np.array(row) for row in sdf.index.values])"
   ]
  },
  {
   "cell_type": "code",
   "execution_count": 14,
   "metadata": {},
   "outputs": [
    {
     "data": {
      "text/plain": [
       "array(['a', 'aa', 'aaap', ..., 'zx', 'zyme', 'zyne'], dtype=object)"
      ]
     },
     "execution_count": 14,
     "metadata": {},
     "output_type": "execute_result"
    }
   ],
   "source": [
    "# Grab all tickers from the indicies\n",
    "tickers = np.unique(indicies[:,0])\n",
    "tickers"
   ]
  },
  {
   "cell_type": "markdown",
   "metadata": {},
   "source": [
    "## Target and Feature Selection"
   ]
  },
  {
   "cell_type": "markdown",
   "metadata": {},
   "source": [
    "For these experiements we select one ticker to be the target ticker. The goal is to predict the close price for this target ticker on a given day. Instead of using the price data from all tickers of the dataset, we select a few for the feature set. There are two versions of this where (1) we do a random selection of n tickers and (2) we select the top n similar tickers from Connor's embeddings. If we are selecting randomly, no ticker below 2500 data points is selected."
   ]
  },
  {
   "cell_type": "code",
   "execution_count": 201,
   "metadata": {},
   "outputs": [],
   "source": [
    "feat_tickers_dict = {} # All chosen tickers and their data.\n",
    "n_feat_tickers = 3 # Number of tickers selected for feature set."
   ]
  },
  {
   "cell_type": "markdown",
   "metadata": {},
   "source": [
    "## Embeddings"
   ]
  },
  {
   "cell_type": "markdown",
   "metadata": {},
   "source": [
    "### Get Target Ticker"
   ]
  },
  {
   "cell_type": "code",
   "execution_count": 202,
   "metadata": {},
   "outputs": [],
   "source": [
    "# target_ticker = msciLib.select_ticker(tickers, sdf, feat_tickers_dict) # Target ticker\n",
    "# target_ticker_df = sdf.query('Name == \"{}\"'.format(target_ticker)) # Target ticker's data"
   ]
  },
  {
   "cell_type": "markdown",
   "metadata": {},
   "source": [
    "### Load Embeddings"
   ]
  },
  {
   "cell_type": "code",
   "execution_count": 203,
   "metadata": {},
   "outputs": [],
   "source": [
    "from MSCIEmbeddings import Embedding"
   ]
  },
  {
   "cell_type": "code",
   "execution_count": 204,
   "metadata": {},
   "outputs": [
    {
     "name": "stderr",
     "output_type": "stream",
     "text": [
      "/Users/melissawilson/git/msci_ml/workspace/local_env/lib/python3.6/site-packages/IPython/core/interactiveshell.py:3254: DtypeWarning: Columns (2,3,4,5,6) have mixed types.Specify dtype option on import or set low_memory=False.\n",
      "  if (await self.run_code(code, result,  async_=asy)):\n"
     ]
    },
    {
     "data": {
      "text/plain": [
       "[('GOOGL', 0.999210774898529),\n",
       " ('AFH', 0.9119373559951782),\n",
       " ('ATVI', 0.874455451965332)]"
      ]
     },
     "execution_count": 204,
     "metadata": {},
     "output_type": "execute_result"
    }
   ],
   "source": [
    "embeds = Embedding()\n",
    "embeds.load_training_df('./training_df.csv')\n",
    "embeds.load('./embeddings')\n",
    "embeds.get_similar('GOOG', count=3)"
   ]
  },
  {
   "cell_type": "code",
   "execution_count": 205,
   "metadata": {},
   "outputs": [],
   "source": [
    "similar_tickers = embeds.get_similar(target_ticker.upper(), count=n_feat_tickers)"
   ]
  },
  {
   "cell_type": "code",
   "execution_count": 206,
   "metadata": {},
   "outputs": [
    {
     "data": {
      "text/plain": [
       "[('CRAI', 0.8579943776130676),\n",
       " ('AMOT', 0.8491458296775818),\n",
       " ('BEAT', 0.8334216475486755)]"
      ]
     },
     "execution_count": 206,
     "metadata": {},
     "output_type": "execute_result"
    }
   ],
   "source": [
    "similar_tickers"
   ]
  },
  {
   "cell_type": "code",
   "execution_count": 207,
   "metadata": {},
   "outputs": [],
   "source": [
    "for ticker in similar_tickers:\n",
    "    selected_ticker = ticker[0].lower()\n",
    "    feat_tickers_dict[selected_ticker] = sdf.query('Name == \"{}\"'.format(selected_ticker))\n"
   ]
  },
  {
   "cell_type": "code",
   "execution_count": 208,
   "metadata": {},
   "outputs": [
    {
     "data": {
      "text/plain": [
       "{'crai':                    Open    High     Low   Close  Volume  Close_to_Open  \\\n",
       " Name Date                                                                \n",
       " crai 2005-02-28  41.809  41.809  41.161  41.769   36692      -0.000239   \n",
       "      2005-03-01  41.799  41.996  41.513  41.889   43700       0.000718   \n",
       "      2005-03-02  41.996  42.459  41.759  42.291   35714       0.002554   \n",
       "      2005-03-03  42.488  42.488  41.869  41.986   72995       0.004658   \n",
       "      2005-03-04  42.390  42.872  41.957  42.636   97811       0.009622   \n",
       " ...                 ...     ...     ...     ...     ...            ...   \n",
       "      2017-11-06  43.820  43.820  42.870  43.210   60613      -0.005673   \n",
       "      2017-11-07  43.400  43.400  42.700  43.020   38674       0.004397   \n",
       "      2017-11-08  43.010  43.760  42.900  43.500   43992      -0.000232   \n",
       "      2017-11-09  43.350  43.900  42.800  43.040   56440      -0.003448   \n",
       "      2017-11-10  43.010  44.280  42.610  44.060   49908      -0.000697   \n",
       " \n",
       "                  Close_to_High  Close_to_Low  Close_to_Close  Volume_Change  \n",
       " Name Date                                                                    \n",
       " crai 2005-02-28      -0.000239     -0.015734       -0.001196      -0.186340  \n",
       "      2005-03-01       0.005435     -0.006129        0.002873       0.190995  \n",
       "      2005-03-02       0.013607     -0.003103        0.009597      -0.182746  \n",
       "      2005-03-03       0.004658     -0.009978       -0.007212       1.043876  \n",
       "      2005-03-04       0.021102     -0.000691        0.015481       0.339968  \n",
       " ...                        ...           ...             ...            ...  \n",
       "      2017-11-06      -0.005673     -0.027229       -0.019514       0.092756  \n",
       "      2017-11-07       0.004397     -0.011803       -0.004397      -0.361952  \n",
       "      2017-11-08       0.017201     -0.002789        0.011158       0.137508  \n",
       "      2017-11-09       0.009195     -0.016092       -0.010575       0.282961  \n",
       "      2017-11-10       0.028810     -0.009991        0.023699      -0.115734  \n",
       " \n",
       " [3200 rows x 10 columns],\n",
       " 'amot':                     Open     High      Low    Close  Volume  Close_to_Open  \\\n",
       " Name Date                                                                    \n",
       " amot 2005-02-28   7.2964   7.3342   6.6625   7.1638   17480      -0.035046   \n",
       "      2005-03-01   7.1354   7.4006   7.1354   7.3720    3488      -0.003964   \n",
       "      2005-03-02   7.3720   7.7507   7.3720   7.6182   18281       0.000000   \n",
       "      2005-03-03   7.6560   7.8075   7.5711   7.6656   30316       0.004962   \n",
       "      2005-03-04   7.6656   7.8549   7.6656   7.8357   34506       0.000000   \n",
       " ...                  ...      ...      ...      ...     ...            ...   \n",
       "      2017-11-06  33.5000  34.8300  32.0234  33.0100   79411       0.008732   \n",
       "      2017-11-07  32.7600  33.1500  31.4700  31.7500   36092      -0.007573   \n",
       "      2017-11-08  31.5900  32.4300  31.1500  32.0700   24399      -0.005039   \n",
       "      2017-11-09  31.7700  32.7600  31.1653  31.9800   23543      -0.009355   \n",
       "      2017-11-10  31.9900  32.1500  31.6400  31.7400   16058       0.000313   \n",
       " \n",
       "                  Close_to_High  Close_to_Low  Close_to_Close  Volume_Change  \n",
       " Name Date                                                                    \n",
       " amot 2005-02-28      -0.030047     -0.118880       -0.052583       0.564486  \n",
       "      2005-03-01       0.033055     -0.003964        0.029063      -0.800458  \n",
       "      2005-03-02       0.051370      0.000000        0.033397       4.241112  \n",
       "      2005-03-03       0.024848     -0.006183        0.006222       0.658334  \n",
       "      2005-03-04       0.024695      0.000000        0.022190       0.138211  \n",
       " ...                        ...           ...             ...            ...  \n",
       "      2017-11-06       0.048780     -0.035730       -0.006022       0.529723  \n",
       "      2017-11-07       0.004241     -0.046653       -0.038170      -0.545504  \n",
       "      2017-11-08       0.021417     -0.018898        0.010079      -0.323978  \n",
       "      2017-11-09       0.021515     -0.028210       -0.002806      -0.035083  \n",
       "      2017-11-10       0.005316     -0.010632       -0.007505      -0.317929  \n",
       " \n",
       " [3151 rows x 10 columns],\n",
       " 'beat':                   Open   High    Low  Close   Volume  Close_to_Open  \\\n",
       " Name Date                                                             \n",
       " beat 2008-03-19  18.00  18.65  17.68  17.70  1584063       0.000000   \n",
       "      2008-03-20  17.70  18.06  17.70  18.02   142063       0.000000   \n",
       "      2008-03-24  18.10  18.10  17.74  18.06    71994       0.004440   \n",
       "      2008-03-25  18.05  18.05  17.22  17.55   137594      -0.000554   \n",
       "      2008-03-26  17.70  17.86  17.50  17.59    44060       0.008547   \n",
       " ...                ...    ...    ...    ...      ...            ...   \n",
       "      2017-11-06  27.85  28.05  26.95  27.35   584949      -0.015901   \n",
       "      2017-11-07  27.25  27.35  26.30  27.00   665542      -0.003656   \n",
       "      2017-11-08  25.20  27.70  24.15  25.50  2361447      -0.066667   \n",
       "      2017-11-09  25.15  25.20  24.45  24.70   713277      -0.013725   \n",
       "      2017-11-10  24.50  25.40  24.05  24.30   546719      -0.008097   \n",
       " \n",
       "                  Close_to_High  Close_to_Low  Close_to_Close  Volume_Change  \n",
       " Name Date                                                                    \n",
       " beat 2008-03-19       0.036111     -0.017778       -0.016667            inf  \n",
       "      2008-03-20       0.020339      0.000000        0.018079      -0.910317  \n",
       "      2008-03-24       0.004440     -0.015538        0.002220      -0.493225  \n",
       "      2008-03-25      -0.000554     -0.046512       -0.028239       0.911187  \n",
       "      2008-03-26       0.017664     -0.002849        0.002279      -0.679783  \n",
       " ...                        ...           ...             ...            ...  \n",
       "      2017-11-06      -0.008834     -0.047703       -0.033569       0.946087  \n",
       "      2017-11-07       0.000000     -0.038391       -0.012797       0.137778  \n",
       "      2017-11-08       0.025926     -0.105556       -0.055556       2.548156  \n",
       "      2017-11-09      -0.011765     -0.041176       -0.031373      -0.697949  \n",
       "      2017-11-10       0.028340     -0.026316       -0.016194      -0.233511  \n",
       " \n",
       " [2431 rows x 10 columns]}"
      ]
     },
     "execution_count": 208,
     "metadata": {},
     "output_type": "execute_result"
    }
   ],
   "source": [
    "feat_tickers_dict"
   ]
  },
  {
   "cell_type": "markdown",
   "metadata": {},
   "source": [
    "## Random Tickers"
   ]
  },
  {
   "cell_type": "markdown",
   "metadata": {},
   "source": [
    "### Select feature tickers"
   ]
  },
  {
   "cell_type": "code",
   "execution_count": 147,
   "metadata": {},
   "outputs": [],
   "source": [
    "# Populate the feature dictionary\n",
    "for i in range(n_feat_tickers):\n",
    "    \n",
    "    # Get selected ticker\n",
    "    selected_ticker = msciLib.select_ticker(tickers, sdf, feat_tickers_dict)\n",
    "    \n",
    "    # Add new ticker and its data to the dictionary\n",
    "    feat_tickers_dict[selected_ticker] = sdf.query('Name == \"{}\"'.format(selected_ticker))"
   ]
  },
  {
   "cell_type": "code",
   "execution_count": 200,
   "metadata": {},
   "outputs": [
    {
     "data": {
      "text/plain": [
       "dict_keys(['crai', 'amot', 'beat', 'bwen', 'evlv'])"
      ]
     },
     "execution_count": 200,
     "metadata": {},
     "output_type": "execute_result"
    }
   ],
   "source": [
    "feat_tickers_dict.keys() # Test print of selected feature tickers"
   ]
  },
  {
   "cell_type": "markdown",
   "metadata": {},
   "source": [
    "### Select target ticker"
   ]
  },
  {
   "cell_type": "code",
   "execution_count": 149,
   "metadata": {},
   "outputs": [],
   "source": [
    "target_ticker = msciLib.select_ticker(tickers, sdf, feat_tickers_dict) # Target ticker\n",
    "target_ticker_df = sdf.query('Name == \"{}\"'.format(target_ticker)) # Target ticker's data"
   ]
  },
  {
   "cell_type": "code",
   "execution_count": 150,
   "metadata": {},
   "outputs": [],
   "source": [
    "#### NEW"
   ]
  },
  {
   "cell_type": "markdown",
   "metadata": {},
   "source": [
    "### Glimpse at all data"
   ]
  },
  {
   "cell_type": "code",
   "execution_count": 209,
   "metadata": {},
   "outputs": [
    {
     "data": {
      "text/html": [
       "<div>\n",
       "<style scoped>\n",
       "    .dataframe tbody tr th:only-of-type {\n",
       "        vertical-align: middle;\n",
       "    }\n",
       "\n",
       "    .dataframe tbody tr th {\n",
       "        vertical-align: top;\n",
       "    }\n",
       "\n",
       "    .dataframe thead th {\n",
       "        text-align: right;\n",
       "    }\n",
       "</style>\n",
       "<table border=\"1\" class=\"dataframe\">\n",
       "  <thead>\n",
       "    <tr style=\"text-align: right;\">\n",
       "      <th></th>\n",
       "      <th></th>\n",
       "      <th>Open</th>\n",
       "      <th>High</th>\n",
       "      <th>Low</th>\n",
       "      <th>Close</th>\n",
       "      <th>Volume</th>\n",
       "      <th>Close_to_Open</th>\n",
       "      <th>Close_to_High</th>\n",
       "      <th>Close_to_Low</th>\n",
       "      <th>Close_to_Close</th>\n",
       "      <th>Volume_Change</th>\n",
       "    </tr>\n",
       "    <tr>\n",
       "      <th>Name</th>\n",
       "      <th>Date</th>\n",
       "      <th></th>\n",
       "      <th></th>\n",
       "      <th></th>\n",
       "      <th></th>\n",
       "      <th></th>\n",
       "      <th></th>\n",
       "      <th></th>\n",
       "      <th></th>\n",
       "      <th></th>\n",
       "      <th></th>\n",
       "    </tr>\n",
       "  </thead>\n",
       "  <tbody>\n",
       "    <tr>\n",
       "      <th rowspan=\"5\" valign=\"top\">arci</th>\n",
       "      <th>2005-03-01</th>\n",
       "      <td>3.55</td>\n",
       "      <td>3.75</td>\n",
       "      <td>3.55</td>\n",
       "      <td>3.60</td>\n",
       "      <td>3001</td>\n",
       "      <td>-0.040541</td>\n",
       "      <td>0.013514</td>\n",
       "      <td>-0.040541</td>\n",
       "      <td>-0.027027</td>\n",
       "      <td>-0.739021</td>\n",
       "    </tr>\n",
       "    <tr>\n",
       "      <th>2005-03-02</th>\n",
       "      <td>3.60</td>\n",
       "      <td>3.60</td>\n",
       "      <td>3.60</td>\n",
       "      <td>3.60</td>\n",
       "      <td>1500</td>\n",
       "      <td>0.000000</td>\n",
       "      <td>0.000000</td>\n",
       "      <td>0.000000</td>\n",
       "      <td>0.000000</td>\n",
       "      <td>-0.500167</td>\n",
       "    </tr>\n",
       "    <tr>\n",
       "      <th>2005-03-04</th>\n",
       "      <td>3.58</td>\n",
       "      <td>3.60</td>\n",
       "      <td>3.58</td>\n",
       "      <td>3.60</td>\n",
       "      <td>1000</td>\n",
       "      <td>-0.005556</td>\n",
       "      <td>0.000000</td>\n",
       "      <td>-0.005556</td>\n",
       "      <td>0.000000</td>\n",
       "      <td>-0.333333</td>\n",
       "    </tr>\n",
       "    <tr>\n",
       "      <th>2005-03-07</th>\n",
       "      <td>3.55</td>\n",
       "      <td>3.55</td>\n",
       "      <td>3.55</td>\n",
       "      <td>3.55</td>\n",
       "      <td>1500</td>\n",
       "      <td>-0.013889</td>\n",
       "      <td>-0.013889</td>\n",
       "      <td>-0.013889</td>\n",
       "      <td>-0.013889</td>\n",
       "      <td>0.500000</td>\n",
       "    </tr>\n",
       "    <tr>\n",
       "      <th>2005-03-15</th>\n",
       "      <td>3.45</td>\n",
       "      <td>3.50</td>\n",
       "      <td>3.45</td>\n",
       "      <td>3.50</td>\n",
       "      <td>3800</td>\n",
       "      <td>-0.028169</td>\n",
       "      <td>-0.014085</td>\n",
       "      <td>-0.028169</td>\n",
       "      <td>-0.014085</td>\n",
       "      <td>1.533333</td>\n",
       "    </tr>\n",
       "  </tbody>\n",
       "</table>\n",
       "</div>"
      ],
      "text/plain": [
       "                 Open  High   Low  Close  Volume  Close_to_Open  \\\n",
       "Name Date                                                         \n",
       "arci 2005-03-01  3.55  3.75  3.55   3.60    3001      -0.040541   \n",
       "     2005-03-02  3.60  3.60  3.60   3.60    1500       0.000000   \n",
       "     2005-03-04  3.58  3.60  3.58   3.60    1000      -0.005556   \n",
       "     2005-03-07  3.55  3.55  3.55   3.55    1500      -0.013889   \n",
       "     2005-03-15  3.45  3.50  3.45   3.50    3800      -0.028169   \n",
       "\n",
       "                 Close_to_High  Close_to_Low  Close_to_Close  Volume_Change  \n",
       "Name Date                                                                    \n",
       "arci 2005-03-01       0.013514     -0.040541       -0.027027      -0.739021  \n",
       "     2005-03-02       0.000000      0.000000        0.000000      -0.500167  \n",
       "     2005-03-04       0.000000     -0.005556        0.000000      -0.333333  \n",
       "     2005-03-07      -0.013889     -0.013889       -0.013889       0.500000  \n",
       "     2005-03-15      -0.014085     -0.028169       -0.014085       1.533333  "
      ]
     },
     "execution_count": 209,
     "metadata": {},
     "output_type": "execute_result"
    }
   ],
   "source": [
    "target_ticker_df.head()"
   ]
  },
  {
   "cell_type": "code",
   "execution_count": 210,
   "metadata": {},
   "outputs": [
    {
     "name": "stdout",
     "output_type": "stream",
     "text": [
      "                   Open    High     Low   Close  Volume  Close_to_Open  \\\n",
      "Name Date                                                                \n",
      "crai 2005-02-28  41.809  41.809  41.161  41.769   36692      -0.000239   \n",
      "     2005-03-01  41.799  41.996  41.513  41.889   43700       0.000718   \n",
      "     2005-03-02  41.996  42.459  41.759  42.291   35714       0.002554   \n",
      "     2005-03-03  42.488  42.488  41.869  41.986   72995       0.004658   \n",
      "     2005-03-04  42.390  42.872  41.957  42.636   97811       0.009622   \n",
      "\n",
      "                 Close_to_High  Close_to_Low  Close_to_Close  Volume_Change  \n",
      "Name Date                                                                    \n",
      "crai 2005-02-28      -0.000239     -0.015734       -0.001196      -0.186340  \n",
      "     2005-03-01       0.005435     -0.006129        0.002873       0.190995  \n",
      "     2005-03-02       0.013607     -0.003103        0.009597      -0.182746  \n",
      "     2005-03-03       0.004658     -0.009978       -0.007212       1.043876  \n",
      "     2005-03-04       0.021102     -0.000691        0.015481       0.339968  \n",
      "                   Open    High     Low   Close  Volume  Close_to_Open  \\\n",
      "Name Date                                                                \n",
      "amot 2005-02-28  7.2964  7.3342  6.6625  7.1638   17480      -0.035046   \n",
      "     2005-03-01  7.1354  7.4006  7.1354  7.3720    3488      -0.003964   \n",
      "     2005-03-02  7.3720  7.7507  7.3720  7.6182   18281       0.000000   \n",
      "     2005-03-03  7.6560  7.8075  7.5711  7.6656   30316       0.004962   \n",
      "     2005-03-04  7.6656  7.8549  7.6656  7.8357   34506       0.000000   \n",
      "\n",
      "                 Close_to_High  Close_to_Low  Close_to_Close  Volume_Change  \n",
      "Name Date                                                                    \n",
      "amot 2005-02-28      -0.030047     -0.118880       -0.052583       0.564486  \n",
      "     2005-03-01       0.033055     -0.003964        0.029063      -0.800458  \n",
      "     2005-03-02       0.051370      0.000000        0.033397       4.241112  \n",
      "     2005-03-03       0.024848     -0.006183        0.006222       0.658334  \n",
      "     2005-03-04       0.024695      0.000000        0.022190       0.138211  \n",
      "                  Open   High    Low  Close   Volume  Close_to_Open  \\\n",
      "Name Date                                                             \n",
      "beat 2008-03-19  18.00  18.65  17.68  17.70  1584063       0.000000   \n",
      "     2008-03-20  17.70  18.06  17.70  18.02   142063       0.000000   \n",
      "     2008-03-24  18.10  18.10  17.74  18.06    71994       0.004440   \n",
      "     2008-03-25  18.05  18.05  17.22  17.55   137594      -0.000554   \n",
      "     2008-03-26  17.70  17.86  17.50  17.59    44060       0.008547   \n",
      "\n",
      "                 Close_to_High  Close_to_Low  Close_to_Close  Volume_Change  \n",
      "Name Date                                                                    \n",
      "beat 2008-03-19       0.036111     -0.017778       -0.016667            inf  \n",
      "     2008-03-20       0.020339      0.000000        0.018079      -0.910317  \n",
      "     2008-03-24       0.004440     -0.015538        0.002220      -0.493225  \n",
      "     2008-03-25      -0.000554     -0.046512       -0.028239       0.911187  \n",
      "     2008-03-26       0.017664     -0.002849        0.002279      -0.679783  \n"
     ]
    }
   ],
   "source": [
    "for ticker in feat_tickers_dict:\n",
    "    print(feat_tickers_dict[ticker].head())"
   ]
  },
  {
   "cell_type": "markdown",
   "metadata": {},
   "source": [
    "## Plot all data"
   ]
  },
  {
   "cell_type": "markdown",
   "metadata": {},
   "source": [
    "### Target Ticker Prices"
   ]
  },
  {
   "cell_type": "code",
   "execution_count": 211,
   "metadata": {},
   "outputs": [
    {
     "data": {
      "image/png": "[encoded data removed]",
      "text/plain": [
       "<Figure size 432x288 with 1 Axes>"
      ]
     },
     "metadata": {},
     "output_type": "display_data"
    }
   ],
   "source": [
    "plt.plot(target_ticker_df.filter(regex = \"^Close$\").values)\n",
    "plt.title(\"Variable: Close, Ticker: {}\".format(target_ticker))\n",
    "plt.show()"
   ]
  },
  {
   "cell_type": "markdown",
   "metadata": {},
   "source": [
    "### Feature Ticker Prices"
   ]
  },
  {
   "cell_type": "code",
   "execution_count": 212,
   "metadata": {},
   "outputs": [
    {
     "data": {
      "image/png": "[encoded data removed]",
      "text/plain": [
       "<Figure size 432x288 with 1 Axes>"
      ]
     },
     "metadata": {},
     "output_type": "display_data"
    },
    {
     "data": {
      "image/png": "[encoded data removed]",
      "text/plain": [
       "<Figure size 432x288 with 1 Axes>"
      ]
     },
     "metadata": {},
     "output_type": "display_data"
    },
    {
     "data": {
      "image/png": "[encoded data removed]",
      "text/plain": [
       "<Figure size 432x288 with 1 Axes>"
      ]
     },
     "metadata": {},
     "output_type": "display_data"
    }
   ],
   "source": [
    "for ticker in feat_tickers_dict:\n",
    "    plt.plot(feat_tickers_dict[ticker].filter(regex = \"^Close$\").values)\n",
    "    plt.title(\"Variable: Close, Ticker: {}\".format(ticker))\n",
    "    plt.show()"
   ]
  },
  {
   "cell_type": "markdown",
   "metadata": {},
   "source": [
    "## Make the Dataset"
   ]
  },
  {
   "cell_type": "markdown",
   "metadata": {},
   "source": [
    "Here we will append all the close prices for the feature tickers to make the feature set to predict the target close price. First we must grab all the dates in the target ticker dataframe then find all overlapping dates with the feature tickers. Those overlapping dates with comprise the final data set for training and evaluation."
   ]
  },
  {
   "cell_type": "code",
   "execution_count": 213,
   "metadata": {},
   "outputs": [],
   "source": [
    "# Grab all the indicies (dates) for the target dataframe\n",
    "target_inds = np.array([np.array(row) for row in target_ticker_df.index.values])"
   ]
  },
  {
   "cell_type": "code",
   "execution_count": 214,
   "metadata": {},
   "outputs": [
    {
     "data": {
      "text/plain": [
       "array([Timestamp('2005-03-01 00:00:00'), Timestamp('2005-03-02 00:00:00'),\n",
       "       Timestamp('2005-03-04 00:00:00')], dtype=object)"
      ]
     },
     "execution_count": 214,
     "metadata": {},
     "output_type": "execute_result"
    }
   ],
   "source": [
    "# Grab all the dates from those indicies\n",
    "target_dates = np.unique(target_inds[:,1])\n",
    "target_dates[0:3]"
   ]
  },
  {
   "cell_type": "code",
   "execution_count": 215,
   "metadata": {},
   "outputs": [
    {
     "data": {
      "text/plain": [
       "['arci_Close', 'crai_Close', 'amot_Close', 'beat_Close']"
      ]
     },
     "execution_count": 215,
     "metadata": {},
     "output_type": "execute_result"
    }
   ],
   "source": [
    "# Make columns for the final dataframe.\n",
    "columns = ['{}_Close'.format(target_ticker)] # Add the target ticker\n",
    "\n",
    "for ticker in feat_tickers_dict:\n",
    "    columns.append('{}_Close'.format(ticker)) # Add each feature ticker\n",
    "    \n",
    "columns"
   ]
  },
  {
   "cell_type": "code",
   "execution_count": 216,
   "metadata": {},
   "outputs": [],
   "source": [
    "# Make empty dataframe for data.\n",
    "dataset_df = pd.DataFrame(columns = columns)"
   ]
  },
  {
   "cell_type": "code",
   "execution_count": 217,
   "metadata": {},
   "outputs": [],
   "source": [
    "for date in target_dates:\n",
    "    \n",
    "    # Format the given date\n",
    "    formatted_date = pd.to_datetime(date).date()\n",
    "    \n",
    "    # Grab the specific fields\n",
    "    year = formatted_date.year\n",
    "    day = '%02d' % (formatted_date.day)\n",
    "    month = '%02d' % (formatted_date.month)\n",
    "    \n",
    "    close_dict = {}\n",
    "\n",
    "    # Get the close for the target\n",
    "    close_dict[target_ticker + '_Close'] = target_ticker_df.query(\n",
    "        'Date == \"{}-{}-{}\"'.format(year, month, day))['Close'].values[0]\n",
    "    \n",
    "    for ticker in feat_tickers_dict:\n",
    "        \n",
    "        # Get the close for the first feature if it exists\n",
    "        close = feat_tickers_dict[ticker].query(\n",
    "            'Date == \"{}-{}-{}\"'.format(year, month, day))['Close']\n",
    "        \n",
    "        # If there is data for the given date.\n",
    "        if (close.shape == (0,)):\n",
    "            break\n",
    "        else:\n",
    "            close_dict[ticker + '_Close'] = close.values[0]\n",
    "        \n",
    "    if len(close_dict) == n_feat_tickers + 1:\n",
    "        \n",
    "        #print(dataset_df.shape)\n",
    "        # If all features for this date exist, add to dataframe\n",
    "        dataset_df = dataset_df.append(close_dict, ignore_index=True)"
   ]
  },
  {
   "cell_type": "code",
   "execution_count": 218,
   "metadata": {},
   "outputs": [],
   "source": [
    "# year = 2005\n",
    "# day = '%02d' % (6)\n",
    "# month = '%02d' % (5)\n",
    "\n",
    "# print(target_ticker_df.query(\n",
    "#         'Date == \"{}-{}-{}\"'.format(year, month, day)))\n",
    "\n",
    "# for ticker in feat_tickers_dict:\n",
    "        \n",
    "# #         # Get the close for the first feature if it exists\n",
    "# #         print(feat_tickers_dict[ticker].query(\n",
    "# #             'Date == \"{}-{}-{}\"'.format(year, month, day)))\n",
    "        \n",
    "#         print(feat_tickers_dict[ticker].query(\n",
    "#             'Date == \"{}-{}-{}\"'.format(year, month, day))['Close'].shape)"
   ]
  },
  {
   "cell_type": "code",
   "execution_count": 219,
   "metadata": {},
   "outputs": [
    {
     "data": {
      "text/plain": [
       "(2353, 4)"
      ]
     },
     "execution_count": 219,
     "metadata": {},
     "output_type": "execute_result"
    }
   ],
   "source": [
    "dataset_df.shape"
   ]
  },
  {
   "cell_type": "markdown",
   "metadata": {},
   "source": [
    "## Make train and testsets"
   ]
  },
  {
   "cell_type": "code",
   "execution_count": 220,
   "metadata": {},
   "outputs": [],
   "source": [
    "features_df = dataset_df.copy()"
   ]
  },
  {
   "cell_type": "code",
   "execution_count": 221,
   "metadata": {},
   "outputs": [],
   "source": [
    "# Grab the target variabl\n",
    "label_df = features_df.filter(regex = \"{}_Close\".format(ticker))\n",
    "\n",
    "# Filter out target variable\n",
    "features_df = features_df[features_df.columns.drop(list(features_df.filter(regex=\"{}_Close\".format(ticker))))]"
   ]
  },
  {
   "cell_type": "code",
   "execution_count": 222,
   "metadata": {},
   "outputs": [
    {
     "name": "stdout",
     "output_type": "stream",
     "text": [
      "(2353, 1)\n",
      "(2353, 3)\n"
     ]
    }
   ],
   "source": [
    "print(label_df.shape)\n",
    "print(features_df.shape)"
   ]
  },
  {
   "cell_type": "code",
   "execution_count": 223,
   "metadata": {},
   "outputs": [],
   "source": [
    "# Separating out the features\n",
    "X = features_df.values\n",
    "\n",
    "# Separating out the target\n",
    "y = label_df.values"
   ]
  },
  {
   "cell_type": "code",
   "execution_count": 224,
   "metadata": {},
   "outputs": [],
   "source": [
    "# Make train and test sets\n",
    "from sklearn.model_selection import train_test_split\n",
    "# X_train, X_test, y_train, y_test = train_test_split(X, y, test_size=0.2, random_state=42)\n",
    "X_train = X[0:2276]\n",
    "X_test = X[2276:X.shape[0]]\n",
    "y_train = y[0:2276]\n",
    "y_test = y[2276:X.shape[0]]"
   ]
  },
  {
   "cell_type": "code",
   "execution_count": 225,
   "metadata": {},
   "outputs": [
    {
     "name": "stdout",
     "output_type": "stream",
     "text": [
      "(2276, 3)\n",
      "(77, 3)\n",
      "(2276, 1)\n",
      "(77, 1)\n"
     ]
    }
   ],
   "source": [
    "print(X_train.shape)\n",
    "print(X_test.shape)\n",
    "print(y_train.shape)\n",
    "print(y_test.shape)"
   ]
  },
  {
   "cell_type": "markdown",
   "metadata": {},
   "source": [
    "## Train the Neural Network"
   ]
  },
  {
   "cell_type": "code",
   "execution_count": 226,
   "metadata": {},
   "outputs": [],
   "source": [
    "# Make neural network\n",
    "def create_model():\n",
    "    # create model\n",
    "    model = Sequential()\n",
    "    model.add(Dense(20, input_dim=X_train.shape[1], activation='relu'))\n",
    "    model.add(Dense(15, activation='sigmoid'))\n",
    "    model.add(Dense(10, activation='relu'))\n",
    "    model.add(Dense(1))\n",
    "    # Compile model\n",
    "    model.compile(optimizer ='adam', loss = 'mean_absolute_percentage_error', \n",
    "              metrics =[metrics.mape])\n",
    "    return model"
   ]
  },
  {
   "cell_type": "code",
   "execution_count": 227,
   "metadata": {},
   "outputs": [
    {
     "name": "stdout",
     "output_type": "stream",
     "text": [
      "Model: \"sequential_4\"\n",
      "_________________________________________________________________\n",
      "Layer (type)                 Output Shape              Param #   \n",
      "=================================================================\n",
      "dense_16 (Dense)             (None, 20)                80        \n",
      "_________________________________________________________________\n",
      "dense_17 (Dense)             (None, 15)                315       \n",
      "_________________________________________________________________\n",
      "dense_18 (Dense)             (None, 10)                160       \n",
      "_________________________________________________________________\n",
      "dense_19 (Dense)             (None, 1)                 11        \n",
      "=================================================================\n",
      "Total params: 566\n",
      "Trainable params: 566\n",
      "Non-trainable params: 0\n",
      "_________________________________________________________________\n"
     ]
    }
   ],
   "source": [
    "model = create_model()\n",
    "model.summary()"
   ]
  },
  {
   "cell_type": "code",
   "execution_count": 228,
   "metadata": {},
   "outputs": [],
   "source": [
    "history = model.fit(X_train, y_train, validation_data=(X_test, y_test), epochs=100, batch_size=32, \n",
    "                    verbose = False)"
   ]
  },
  {
   "cell_type": "code",
   "execution_count": 229,
   "metadata": {},
   "outputs": [],
   "source": [
    "lowest_train_mape = min(history.history['mean_absolute_percentage_error'])\n",
    "lowest_valid_mape = min(history.history['val_mean_absolute_percentage_error'])"
   ]
  },
  {
   "cell_type": "code",
   "execution_count": 230,
   "metadata": {},
   "outputs": [
    {
     "data": {
      "image/png": "[encoded data removed]",
      "text/plain": [
       "<Figure size 432x288 with 1 Axes>"
      ]
     },
     "metadata": {},
     "output_type": "display_data"
    }
   ],
   "source": [
    "plt.plot(history.history['mean_absolute_percentage_error'])\n",
    "plt.plot(history.history['val_mean_absolute_percentage_error'])\n",
    "plt.title('Model Loss')\n",
    "plt.ylabel('loss')\n",
    "plt.xlabel('epoch')\n",
    "plt.legend(['train', 'test'], loc='upper right')\n",
    "plt.ylim(10, 100)\n",
    "#plt.xlim(10,)\n",
    "plt.savefig(\"RandomSampling.png\", dpi=300, bbox_inches='tight') # save as png\n",
    "plt.show()\n"
   ]
  },
  {
   "cell_type": "markdown",
   "metadata": {},
   "source": [
    "## Evaluate"
   ]
  },
  {
   "cell_type": "code",
   "execution_count": 231,
   "metadata": {},
   "outputs": [],
   "source": [
    "# Get predictions\n",
    "prediction = model.predict(X_test)"
   ]
  },
  {
   "cell_type": "code",
   "execution_count": 232,
   "metadata": {},
   "outputs": [
    {
     "data": {
      "text/plain": [
       "36.19436390806276"
      ]
     },
     "execution_count": 232,
     "metadata": {},
     "output_type": "execute_result"
    }
   ],
   "source": [
    "# Error for this\n",
    "test_mape = msciLib.calculate_mape(y_test, prediction)\n",
    "test_mape"
   ]
  },
  {
   "cell_type": "code",
   "execution_count": 233,
   "metadata": {},
   "outputs": [
    {
     "data": {
      "text/plain": [
       "2.402074786544983"
      ]
     },
     "execution_count": 233,
     "metadata": {},
     "output_type": "execute_result"
    }
   ],
   "source": [
    "# Error for base case\n",
    "basecase_mape = msciLib.calculate_mape(y[1:], y[0:len(y) - 1])\n",
    "basecase_mape"
   ]
  }
 ],
 "metadata": {
  "kernelspec": {
   "display_name": "Python 3",
   "language": "python",
   "name": "python3"
  },
  "language_info": {
   "codemirror_mode": {
    "name": "ipython",
    "version": 3
   },
   "file_extension": ".py",
   "mimetype": "text/x-python",
   "name": "python",
   "nbconvert_exporter": "python",
   "pygments_lexer": "ipython3",
   "version": "3.6.6"
  }
 },
 "nbformat": 4,
 "nbformat_minor": 4
}

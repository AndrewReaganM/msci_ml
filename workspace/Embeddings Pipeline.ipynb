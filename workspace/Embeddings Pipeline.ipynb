{
 "cells": [
  {
   "cell_type": "code",
   "execution_count": null,
   "metadata": {},
   "outputs": [],
   "source": [
    "# New notebook with dynamic number of features chosen and better file writing"
   ]
  },
  {
   "cell_type": "code",
   "execution_count": 100,
   "metadata": {},
   "outputs": [
    {
     "data": {
      "text/plain": [
       "<module 'stockDataHandler' from '/Users/melissawilson/git/msci_ml/workspace/stockDataHandler.py'>"
      ]
     },
     "execution_count": 100,
     "metadata": {},
     "output_type": "execute_result"
    }
   ],
   "source": [
    "# General Libraries\n",
    "import csv\n",
    "from datetime import datetime\n",
    "import glob\n",
    "import matplotlib.pyplot as plt\n",
    "import numpy as np\n",
    "import os\n",
    "import pandas as pd\n",
    "import importlib\n",
    "import msciLib\n",
    "importlib.reload(msciLib)\n",
    "from pathlib import Path\n",
    "import stockDataHandler as sdh\n",
    "importlib.reload(sdh)"
   ]
  },
  {
   "cell_type": "code",
   "execution_count": 101,
   "metadata": {},
   "outputs": [],
   "source": [
    "np.random.seed(42)"
   ]
  },
  {
   "cell_type": "code",
   "execution_count": 3,
   "metadata": {},
   "outputs": [
    {
     "name": "stderr",
     "output_type": "stream",
     "text": [
      "Using TensorFlow backend.\n"
     ]
    }
   ],
   "source": [
    "# Machine Learning Libraries\n",
    "from keras.models import Sequential\n",
    "from keras.layers import Dense, Dropout\n",
    "from keras import metrics\n",
    "import seaborn as sns\n",
    "import matplotlib.pyplot as plt\n",
    "from keras import backend as K\n",
    "from keras.wrappers.scikit_learn import KerasRegressor"
   ]
  },
  {
   "cell_type": "code",
   "execution_count": 4,
   "metadata": {},
   "outputs": [],
   "source": [
    "sns.set_style(\"darkgrid\")"
   ]
  },
  {
   "cell_type": "markdown",
   "metadata": {},
   "source": [
    "## Load and Format Data"
   ]
  },
  {
   "cell_type": "markdown",
   "metadata": {},
   "source": [
    "Here, we use the stockDataHandler library made my Andrew to import all the cleaned data into pandas dataframe."
   ]
  },
  {
   "cell_type": "code",
   "execution_count": 6,
   "metadata": {},
   "outputs": [
    {
     "name": "stdout",
     "output_type": "stream",
     "text": [
      "                   Open    High     Low   Close  Volume  Close_to_Open  \\\n",
      "Name Date                                                                \n",
      "iba  2005-02-28  13.536  13.536  13.273  13.281   16382       0.054698   \n",
      "     2005-03-01  13.185  13.299  13.185  13.299    1250      -0.007228   \n",
      "     2005-03-02  13.361  13.395  13.273  13.291    8760       0.004662   \n",
      "     2005-03-03  13.361  13.404  12.966  13.218    9897       0.005267   \n",
      "     2005-03-04  13.307  13.536  13.228  13.404   11491       0.006733   \n",
      "     2005-03-07  13.578  13.578  13.273  13.273    6827       0.012981   \n",
      "     2005-03-08  13.342  13.342  13.228  13.228    2162       0.005199   \n",
      "     2005-03-09  13.237  13.324  13.237  13.273    6144       0.000680   \n",
      "     2005-03-10  13.218  13.218  13.203  13.210    6487      -0.004144   \n",
      "     2005-03-11  13.210  13.210  13.080  13.167    4551       0.000000   \n",
      "\n",
      "                 Close_to_High  Close_to_Low  Close_to_Close  Volume_Change  \n",
      "Name Date                                                                    \n",
      "iba  2005-02-28       0.054698      0.034206        0.034829       0.028503  \n",
      "     2005-03-01       0.001355     -0.007228        0.001355      -0.923697  \n",
      "     2005-03-02       0.007219     -0.001955       -0.000602       6.008000  \n",
      "     2005-03-03       0.008502     -0.024453       -0.005492       0.129795  \n",
      "     2005-03-04       0.024058      0.000757        0.014072       0.161059  \n",
      "     2005-03-07       0.012981     -0.009773       -0.009773      -0.405883  \n",
      "     2005-03-08       0.005199     -0.003390       -0.003390      -0.683316  \n",
      "     2005-03-09       0.007257      0.000680        0.003402       1.841813  \n",
      "     2005-03-10      -0.004144     -0.005274       -0.004746       0.055827  \n",
      "     2005-03-11       0.000000     -0.009841       -0.003255      -0.298443  \n"
     ]
    }
   ],
   "source": [
    "# Path to Stock directory\n",
    "# Path to Stock directory\n",
    "pathStocks = \"/Users/melissawilson/Desktop/msci/data/price-volume-data-for-all-us-stocks-etfs\" \\\n",
    "             \"/Stocks\"\n",
    "# Path to ETF directory\n",
    "pathETFs = \"/Users/melissawilson/Desktop/msci/data/price-volume-data-for-all-us-stocks-etfs/ETFs\"\n",
    "\n",
    "stock_file_ext = \"*.txt\"\n",
    "\n",
    "# Create list of all filenames to be imported\n",
    "filenames = glob.glob(os.path.join(pathStocks, stock_file_ext))  # Create list of Stock filenames.\n",
    "filenames += glob.glob(os.path.join(pathETFs, stock_file_ext))  # Concatenate the list of ETF filenames\n",
    "\n",
    "sdf = sdh.stock_dataframe(filenames, verbose=False, print_sample=10)"
   ]
  },
  {
   "cell_type": "code",
   "execution_count": 7,
   "metadata": {},
   "outputs": [
    {
     "data": {
      "text/plain": [
       "(3198, 10)"
      ]
     },
     "execution_count": 7,
     "metadata": {},
     "output_type": "execute_result"
    }
   ],
   "source": [
    "# Test query\n",
    "sdf.query('Name == \"iba\"').values.shape"
   ]
  },
  {
   "cell_type": "markdown",
   "metadata": {},
   "source": [
    "### Gather all tickers in the dataset"
   ]
  },
  {
   "cell_type": "markdown",
   "metadata": {},
   "source": [
    "The dataset dataframe is multi-indexed by ticker and date respectively. So we get a list of indicies and filter out just the unique tickers."
   ]
  },
  {
   "cell_type": "code",
   "execution_count": 9,
   "metadata": {},
   "outputs": [],
   "source": [
    "# Get list of all dataframe indicies\n",
    "indicies = np.array([np.array(row) for row in sdf.index.values])"
   ]
  },
  {
   "cell_type": "code",
   "execution_count": 10,
   "metadata": {},
   "outputs": [
    {
     "data": {
      "text/plain": [
       "array(['a', 'aa', 'aaap', ..., 'zx', 'zyme', 'zyne'], dtype=object)"
      ]
     },
     "execution_count": 10,
     "metadata": {},
     "output_type": "execute_result"
    }
   ],
   "source": [
    "# Grab all tickers from the indicies\n",
    "tickers = np.unique(indicies[:,0])\n",
    "tickers"
   ]
  },
  {
   "cell_type": "markdown",
   "metadata": {},
   "source": [
    "## Target and Feature Selection"
   ]
  },
  {
   "cell_type": "markdown",
   "metadata": {},
   "source": [
    "For these experiements we select one ticker to be the target ticker. The goal is to predict the close price for this target ticker on a given day. Instead of using the price data from all tickers of the dataset, we select a few for the feature set. There are two versions of this where (1) we do a random selection of n tickers and (2) we select the top n similar tickers from Connor's embeddings. If we are selecting randomly, no ticker below 2500 data points is selected."
   ]
  },
  {
   "cell_type": "code",
   "execution_count": 102,
   "metadata": {},
   "outputs": [],
   "source": [
    "feat_tickers_dict = {} # All chosen tickers and their data.\n",
    "n_feat_tickers = 3 # Number of tickers selected for feature set."
   ]
  },
  {
   "cell_type": "markdown",
   "metadata": {},
   "source": [
    "### Select feature tickers"
   ]
  },
  {
   "cell_type": "code",
   "execution_count": 103,
   "metadata": {},
   "outputs": [],
   "source": [
    "# Populate the feature dictionary\n",
    "for i in range(n_feat_tickers):\n",
    "    \n",
    "    # Get selected ticker\n",
    "    selected_ticker = msciLib.select_ticker(tickers, sdf, feat_tickers_dict)\n",
    "    \n",
    "    # Add new ticker and its data to the dictionary\n",
    "    feat_tickers_dict[selected_ticker] = sdf.query('Name == \"{}\"'.format(selected_ticker))"
   ]
  },
  {
   "cell_type": "code",
   "execution_count": 104,
   "metadata": {},
   "outputs": [
    {
     "data": {
      "text/plain": [
       "dict_keys(['sumr', 'bks', 'osk'])"
      ]
     },
     "execution_count": 104,
     "metadata": {},
     "output_type": "execute_result"
    }
   ],
   "source": [
    "feat_tickers_dict.keys() # Test print of selected feature tickers"
   ]
  },
  {
   "cell_type": "markdown",
   "metadata": {},
   "source": [
    "### Select target ticker"
   ]
  },
  {
   "cell_type": "code",
   "execution_count": 105,
   "metadata": {},
   "outputs": [],
   "source": [
    "target_ticker = msciLib.select_ticker(tickers, sdf, feat_tickers_dict) # Target ticker\n",
    "target_ticker_df = sdf.query('Name == \"{}\"'.format(target_ticker)) # Target ticker's data"
   ]
  },
  {
   "cell_type": "markdown",
   "metadata": {},
   "source": [
    "### Glimpse at all data"
   ]
  },
  {
   "cell_type": "code",
   "execution_count": 106,
   "metadata": {},
   "outputs": [
    {
     "data": {
      "text/html": [
       "<div>\n",
       "<style scoped>\n",
       "    .dataframe tbody tr th:only-of-type {\n",
       "        vertical-align: middle;\n",
       "    }\n",
       "\n",
       "    .dataframe tbody tr th {\n",
       "        vertical-align: top;\n",
       "    }\n",
       "\n",
       "    .dataframe thead th {\n",
       "        text-align: right;\n",
       "    }\n",
       "</style>\n",
       "<table border=\"1\" class=\"dataframe\">\n",
       "  <thead>\n",
       "    <tr style=\"text-align: right;\">\n",
       "      <th></th>\n",
       "      <th></th>\n",
       "      <th>Open</th>\n",
       "      <th>High</th>\n",
       "      <th>Low</th>\n",
       "      <th>Close</th>\n",
       "      <th>Volume</th>\n",
       "      <th>Close_to_Open</th>\n",
       "      <th>Close_to_High</th>\n",
       "      <th>Close_to_Low</th>\n",
       "      <th>Close_to_Close</th>\n",
       "      <th>Volume_Change</th>\n",
       "    </tr>\n",
       "    <tr>\n",
       "      <th>Name</th>\n",
       "      <th>Date</th>\n",
       "      <th></th>\n",
       "      <th></th>\n",
       "      <th></th>\n",
       "      <th></th>\n",
       "      <th></th>\n",
       "      <th></th>\n",
       "      <th></th>\n",
       "      <th></th>\n",
       "      <th></th>\n",
       "      <th></th>\n",
       "    </tr>\n",
       "  </thead>\n",
       "  <tbody>\n",
       "    <tr>\n",
       "      <th rowspan=\"5\" valign=\"top\">arci</th>\n",
       "      <th>2005-03-01</th>\n",
       "      <td>3.55</td>\n",
       "      <td>3.75</td>\n",
       "      <td>3.55</td>\n",
       "      <td>3.60</td>\n",
       "      <td>3001</td>\n",
       "      <td>-0.040541</td>\n",
       "      <td>0.013514</td>\n",
       "      <td>-0.040541</td>\n",
       "      <td>-0.027027</td>\n",
       "      <td>-0.739021</td>\n",
       "    </tr>\n",
       "    <tr>\n",
       "      <th>2005-03-02</th>\n",
       "      <td>3.60</td>\n",
       "      <td>3.60</td>\n",
       "      <td>3.60</td>\n",
       "      <td>3.60</td>\n",
       "      <td>1500</td>\n",
       "      <td>0.000000</td>\n",
       "      <td>0.000000</td>\n",
       "      <td>0.000000</td>\n",
       "      <td>0.000000</td>\n",
       "      <td>-0.500167</td>\n",
       "    </tr>\n",
       "    <tr>\n",
       "      <th>2005-03-04</th>\n",
       "      <td>3.58</td>\n",
       "      <td>3.60</td>\n",
       "      <td>3.58</td>\n",
       "      <td>3.60</td>\n",
       "      <td>1000</td>\n",
       "      <td>-0.005556</td>\n",
       "      <td>0.000000</td>\n",
       "      <td>-0.005556</td>\n",
       "      <td>0.000000</td>\n",
       "      <td>-0.333333</td>\n",
       "    </tr>\n",
       "    <tr>\n",
       "      <th>2005-03-07</th>\n",
       "      <td>3.55</td>\n",
       "      <td>3.55</td>\n",
       "      <td>3.55</td>\n",
       "      <td>3.55</td>\n",
       "      <td>1500</td>\n",
       "      <td>-0.013889</td>\n",
       "      <td>-0.013889</td>\n",
       "      <td>-0.013889</td>\n",
       "      <td>-0.013889</td>\n",
       "      <td>0.500000</td>\n",
       "    </tr>\n",
       "    <tr>\n",
       "      <th>2005-03-15</th>\n",
       "      <td>3.45</td>\n",
       "      <td>3.50</td>\n",
       "      <td>3.45</td>\n",
       "      <td>3.50</td>\n",
       "      <td>3800</td>\n",
       "      <td>-0.028169</td>\n",
       "      <td>-0.014085</td>\n",
       "      <td>-0.028169</td>\n",
       "      <td>-0.014085</td>\n",
       "      <td>1.533333</td>\n",
       "    </tr>\n",
       "  </tbody>\n",
       "</table>\n",
       "</div>"
      ],
      "text/plain": [
       "                 Open  High   Low  Close  Volume  Close_to_Open  \\\n",
       "Name Date                                                         \n",
       "arci 2005-03-01  3.55  3.75  3.55   3.60    3001      -0.040541   \n",
       "     2005-03-02  3.60  3.60  3.60   3.60    1500       0.000000   \n",
       "     2005-03-04  3.58  3.60  3.58   3.60    1000      -0.005556   \n",
       "     2005-03-07  3.55  3.55  3.55   3.55    1500      -0.013889   \n",
       "     2005-03-15  3.45  3.50  3.45   3.50    3800      -0.028169   \n",
       "\n",
       "                 Close_to_High  Close_to_Low  Close_to_Close  Volume_Change  \n",
       "Name Date                                                                    \n",
       "arci 2005-03-01       0.013514     -0.040541       -0.027027      -0.739021  \n",
       "     2005-03-02       0.000000      0.000000        0.000000      -0.500167  \n",
       "     2005-03-04       0.000000     -0.005556        0.000000      -0.333333  \n",
       "     2005-03-07      -0.013889     -0.013889       -0.013889       0.500000  \n",
       "     2005-03-15      -0.014085     -0.028169       -0.014085       1.533333  "
      ]
     },
     "execution_count": 106,
     "metadata": {},
     "output_type": "execute_result"
    }
   ],
   "source": [
    "target_ticker_df.head()"
   ]
  },
  {
   "cell_type": "code",
   "execution_count": 107,
   "metadata": {},
   "outputs": [
    {
     "name": "stdout",
     "output_type": "stream",
     "text": [
      "                 Open  High   Low  Close  Volume  Close_to_Open  \\\n",
      "Name Date                                                         \n",
      "sumr 2005-05-05  5.00  5.05  5.00   5.00  135500       0.000000   \n",
      "     2005-05-06  5.05  5.05  5.05   5.05     500       0.010000   \n",
      "     2005-05-09  5.01  5.05  5.01   5.05    2000      -0.007921   \n",
      "     2005-05-10  5.00  5.05  5.00   5.00   94700      -0.009901   \n",
      "     2005-05-11  5.00  5.00  5.00   5.00    2500       0.000000   \n",
      "\n",
      "                 Close_to_High  Close_to_Low  Close_to_Close  Volume_Change  \n",
      "Name Date                                                                    \n",
      "sumr 2005-05-05           0.01      0.000000        0.000000      12.550000  \n",
      "     2005-05-06           0.01      0.010000        0.010000      -0.996310  \n",
      "     2005-05-09           0.00     -0.007921        0.000000       3.000000  \n",
      "     2005-05-10           0.00     -0.009901       -0.009901      46.350000  \n",
      "     2005-05-11           0.00      0.000000        0.000000      -0.973601  \n",
      "                   Open    High     Low   Close   Volume  Close_to_Open  \\\n",
      "Name Date                                                                 \n",
      "bks  2005-02-28  19.583  19.639  19.282  19.355   600776       0.000000   \n",
      "     2005-03-01  19.520  19.820  19.504  19.729  1196079       0.008525   \n",
      "     2005-03-02  19.729  20.091  19.609  19.792   885454       0.000000   \n",
      "     2005-03-03  19.872  20.046  19.534  19.739   677195       0.004042   \n",
      "     2005-03-04  19.831  19.929  19.688  19.762   642781       0.004661   \n",
      "\n",
      "                 Close_to_High  Close_to_Low  Close_to_Close  Volume_Change  \n",
      "Name Date                                                                    \n",
      "bks  2005-02-28       0.002860     -0.015370       -0.011643      -0.170561  \n",
      "     2005-03-01       0.024025      0.007698        0.019323       0.990890  \n",
      "     2005-03-02       0.018349     -0.006082        0.003193      -0.259703  \n",
      "     2005-03-03       0.012833     -0.013036       -0.002678      -0.235200  \n",
      "     2005-03-04       0.009626     -0.002584        0.001165      -0.050818  \n",
      "                   Open    High     Low   Close  Volume  Close_to_Open  \\\n",
      "Name Date                                                                \n",
      "osk  2005-02-28  34.904  35.272  34.735  35.272  349897       0.000832   \n",
      "     2005-03-01  35.205  35.554  34.977  35.449  489602      -0.001900   \n",
      "     2005-03-02  35.431  35.771  34.816  35.554  586974      -0.000508   \n",
      "     2005-03-03  35.650  36.339  35.613  36.329  648360       0.002700   \n",
      "     2005-03-04  36.566  37.026  36.329  36.990  809866       0.006524   \n",
      "\n",
      "                 Close_to_High  Close_to_Low  Close_to_Close  Volume_Change  \n",
      "Name Date                                                                    \n",
      "osk  2005-02-28       0.011384     -0.004014        0.011384      -0.084214  \n",
      "     2005-03-01       0.007995     -0.008364        0.005018       0.399275  \n",
      "     2005-03-02       0.009083     -0.017857        0.002962       0.198880  \n",
      "     2005-03-03       0.022079      0.001659        0.021798       0.104580  \n",
      "     2005-03-04       0.019186      0.000000        0.018195       0.249099  \n"
     ]
    }
   ],
   "source": [
    "for ticker in feat_tickers_dict:\n",
    "    print(feat_tickers_dict[ticker].head())"
   ]
  },
  {
   "cell_type": "markdown",
   "metadata": {},
   "source": [
    "## Plot all data"
   ]
  },
  {
   "cell_type": "markdown",
   "metadata": {},
   "source": [
    "### Target Ticker Prices"
   ]
  },
  {
   "cell_type": "code",
   "execution_count": 108,
   "metadata": {},
   "outputs": [
    {
     "data": {
      "image/png": "[encoded data removed]",
      "text/plain": [
       "<Figure size 432x288 with 1 Axes>"
      ]
     },
     "metadata": {},
     "output_type": "display_data"
    }
   ],
   "source": [
    "plt.plot(target_ticker_df.filter(regex = \"^Close$\").values)\n",
    "plt.title(\"Variable: Close, Ticker: {}\".format(target_ticker))\n",
    "plt.show()"
   ]
  },
  {
   "cell_type": "markdown",
   "metadata": {},
   "source": [
    "### Feature Ticker Prices"
   ]
  },
  {
   "cell_type": "code",
   "execution_count": 109,
   "metadata": {},
   "outputs": [
    {
     "data": {
      "image/png": "[encoded data removed]",
      "text/plain": [
       "<Figure size 432x288 with 1 Axes>"
      ]
     },
     "metadata": {},
     "output_type": "display_data"
    },
    {
     "data": {
      "image/png": "[encoded data removed]",
      "text/plain": [
       "<Figure size 432x288 with 1 Axes>"
      ]
     },
     "metadata": {},
     "output_type": "display_data"
    },
    {
     "data": {
      "image/png": "[encoded data removed]",
      "text/plain": [
       "<Figure size 432x288 with 1 Axes>"
      ]
     },
     "metadata": {},
     "output_type": "display_data"
    }
   ],
   "source": [
    "for ticker in feat_tickers_dict:\n",
    "    plt.plot(feat_tickers_dict[ticker].filter(regex = \"^Close$\").values)\n",
    "    plt.title(\"Variable: Close, Ticker: {}\".format(ticker))\n",
    "    plt.show()"
   ]
  },
  {
   "cell_type": "markdown",
   "metadata": {},
   "source": [
    "## Make the Dataset"
   ]
  },
  {
   "cell_type": "markdown",
   "metadata": {},
   "source": [
    "Here we will append all the close prices for the feature tickers to make the feature set to predict the target close price. First we must grab all the dates in the target ticker dataframe then find all overlapping dates with the feature tickers. Those overlapping dates with comprise the final data set for training and evaluation."
   ]
  },
  {
   "cell_type": "code",
   "execution_count": 110,
   "metadata": {},
   "outputs": [],
   "source": [
    "# Grab all the indicies (dates) for the target dataframe\n",
    "target_inds = np.array([np.array(row) for row in target_ticker_df.index.values])"
   ]
  },
  {
   "cell_type": "code",
   "execution_count": 111,
   "metadata": {},
   "outputs": [
    {
     "data": {
      "text/plain": [
       "array([Timestamp('2005-03-01 00:00:00'), Timestamp('2005-03-02 00:00:00'),\n",
       "       Timestamp('2005-03-04 00:00:00')], dtype=object)"
      ]
     },
     "execution_count": 111,
     "metadata": {},
     "output_type": "execute_result"
    }
   ],
   "source": [
    "# Grab all the dates from those indicies\n",
    "target_dates = np.unique(target_inds[:,1])\n",
    "target_dates[0:3]"
   ]
  },
  {
   "cell_type": "code",
   "execution_count": 112,
   "metadata": {},
   "outputs": [
    {
     "data": {
      "text/plain": [
       "['arci_Close', 'sumr_Close', 'bks_Close', 'osk_Close']"
      ]
     },
     "execution_count": 112,
     "metadata": {},
     "output_type": "execute_result"
    }
   ],
   "source": [
    "# Make columns for the final dataframe.\n",
    "columns = ['{}_Close'.format(target_ticker)] # Add the target ticker\n",
    "\n",
    "for ticker in feat_tickers_dict:\n",
    "    columns.append('{}_Close'.format(ticker)) # Add each feature ticker\n",
    "    \n",
    "columns"
   ]
  },
  {
   "cell_type": "code",
   "execution_count": 113,
   "metadata": {},
   "outputs": [],
   "source": [
    "# Make empty dataframe for data.\n",
    "dataset_df = pd.DataFrame(columns = columns)"
   ]
  },
  {
   "cell_type": "code",
   "execution_count": 114,
   "metadata": {},
   "outputs": [],
   "source": [
    "for date in target_dates:\n",
    "    \n",
    "    # Format the given date\n",
    "    formatted_date = pd.to_datetime(date).date()\n",
    "    \n",
    "    # Grab the specific fields\n",
    "    year = formatted_date.year\n",
    "    day = '%02d' % (formatted_date.day)\n",
    "    month = '%02d' % (formatted_date.month)\n",
    "    \n",
    "    close_dict = {}\n",
    "\n",
    "    # Get the close for the target\n",
    "    close_dict[target_ticker + '_Close'] = target_ticker_df.query(\n",
    "        'Date == \"{}-{}-{}\"'.format(year, month, day))['Close'].values[0]\n",
    "    \n",
    "    for ticker in feat_tickers_dict:\n",
    "        \n",
    "        # Get the close for the first feature if it exists\n",
    "        close = feat_tickers_dict[ticker].query(\n",
    "            'Date == \"{}-{}-{}\"'.format(year, month, day))['Close']\n",
    "        \n",
    "        # If there is data for the given date.\n",
    "        if (close.shape == (0,)):\n",
    "            break\n",
    "        else:\n",
    "            close_dict[ticker + '_Close'] = close.values[0]\n",
    "        \n",
    "    if len(close_dict) == n_feat_tickers:\n",
    "        \n",
    "        # If all features for this date exist, add to dataframe\n",
    "        dataset_df = dataset_df.append(close_dict, ignore_index=True)"
   ]
  },
  {
   "cell_type": "code",
   "execution_count": 116,
   "metadata": {},
   "outputs": [
    {
     "data": {
      "text/html": [
       "<div>\n",
       "<style scoped>\n",
       "    .dataframe tbody tr th:only-of-type {\n",
       "        vertical-align: middle;\n",
       "    }\n",
       "\n",
       "    .dataframe tbody tr th {\n",
       "        vertical-align: top;\n",
       "    }\n",
       "\n",
       "    .dataframe thead th {\n",
       "        text-align: right;\n",
       "    }\n",
       "</style>\n",
       "<table border=\"1\" class=\"dataframe\">\n",
       "  <thead>\n",
       "    <tr style=\"text-align: right;\">\n",
       "      <th></th>\n",
       "      <th>arci_Close</th>\n",
       "      <th>sumr_Close</th>\n",
       "      <th>bks_Close</th>\n",
       "      <th>osk_Close</th>\n",
       "    </tr>\n",
       "  </thead>\n",
       "  <tbody>\n",
       "  </tbody>\n",
       "</table>\n",
       "</div>"
      ],
      "text/plain": [
       "Empty DataFrame\n",
       "Columns: [arci_Close, sumr_Close, bks_Close, osk_Close]\n",
       "Index: []"
      ]
     },
     "execution_count": 116,
     "metadata": {},
     "output_type": "execute_result"
    }
   ],
   "source": [
    "dataset_df.head()"
   ]
  },
  {
   "cell_type": "code",
   "execution_count": null,
   "metadata": {},
   "outputs": [],
   "source": []
  }
 ],
 "metadata": {
  "kernelspec": {
   "display_name": "Python 3",
   "language": "python",
   "name": "python3"
  },
  "language_info": {
   "codemirror_mode": {
    "name": "ipython",
    "version": 3
   },
   "file_extension": ".py",
   "mimetype": "text/x-python",
   "name": "python",
   "nbconvert_exporter": "python",
   "pygments_lexer": "ipython3",
   "version": "3.6.6"
  }
 },
 "nbformat": 4,
 "nbformat_minor": 4
}

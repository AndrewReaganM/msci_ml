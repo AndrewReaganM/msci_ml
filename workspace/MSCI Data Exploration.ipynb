{
 "cells": [
  {
   "cell_type": "code",
   "execution_count": 29,
   "metadata": {},
   "outputs": [],
   "source": [
    "# Imports\n",
    "import glob\n",
    "import matplotlib.pyplot as plt\n",
    "import numpy as np\n",
    "import os\n",
    "import pandas as pd\n",
    "import stockDataHandler as sdh\n",
    "from tqdm import notebook\n",
    "import seaborn as sns"
   ]
  },
  {
   "cell_type": "code",
   "execution_count": 172,
   "metadata": {},
   "outputs": [],
   "source": [
    "# Flags \n",
    "graph = False\n",
    "\n",
    "# Seeds\n",
    "from numpy.random import seed\n",
    "seed(42)\n",
    "import tensorflow\n",
    "tensorflow.random.set_seed(3)"
   ]
  },
  {
   "cell_type": "markdown",
   "metadata": {},
   "source": [
    "# Data Loading"
   ]
  },
  {
   "cell_type": "code",
   "execution_count": 4,
   "metadata": {},
   "outputs": [],
   "source": [
    "# Load cleaned data.\n",
    "# This only includes tickers with more than one date in their set.\n",
    "numpy_ticker_path = \"/Users/melissawilson/Documents/GitHub/msci_ml/pipeline/clean_tickers.npy\"\n",
    "numpy_stock_dir = \"/Users/melissawilson/Documents/GitHub/msci_ml/pipeline/stock_numpy\"\n",
    "\n",
    "stock_file_ext = \".npy\""
   ]
  },
  {
   "cell_type": "code",
   "execution_count": 5,
   "metadata": {},
   "outputs": [],
   "source": [
    "# Load cleaned tickers.\n",
    "tickers = np.load(numpy_ticker_path)"
   ]
  },
  {
   "cell_type": "code",
   "execution_count": 6,
   "metadata": {},
   "outputs": [
    {
     "data": {
      "application/vnd.jupyter.widget-view+json": {
       "model_id": "0ac97d0ec2f643d09c8ec84204939e43",
       "version_major": 2,
       "version_minor": 0
      },
      "text/plain": [
       "HBox(children=(FloatProgress(value=0.0, max=8495.0), HTML(value='')))"
      ]
     },
     "metadata": {},
     "output_type": "display_data"
    },
    {
     "name": "stdout",
     "output_type": "stream",
     "text": [
      "\n"
     ]
    }
   ],
   "source": [
    "# Create dictionary of all tickers and their data.\n",
    "stock_dict = dict()\n",
    "\n",
    "for ticker in notebook.tqdm(tickers):\n",
    "    path = os.path.join(numpy_stock_dir, ticker + stock_file_ext)\n",
    "    if (os.path.exists(path)):\n",
    "        stock_dict[ticker] = np.load(path)\n",
    "    else:\n",
    "        print(\"ERROR: path \" + path + \" not found.\")"
   ]
  },
  {
   "cell_type": "markdown",
   "metadata": {},
   "source": [
    "# Data Exploration"
   ]
  },
  {
   "cell_type": "code",
   "execution_count": 7,
   "metadata": {},
   "outputs": [],
   "source": [
    "# Find how many examples are in each ticker.\n",
    "count = lambda a : a.size\n",
    "example_count = np.array([count(stock_dict[ticker]) for ticker in stock_dict.keys()]) "
   ]
  },
  {
   "cell_type": "code",
   "execution_count": 8,
   "metadata": {},
   "outputs": [
    {
     "data": {
      "application/vnd.jupyter.widget-view+json": {
       "model_id": "925bdbfaffc84041819513db38bb4e2d",
       "version_major": 2,
       "version_minor": 0
      },
      "text/plain": [
       "HBox(children=(FloatProgress(value=0.0, max=8495.0), HTML(value='')))"
      ]
     },
     "metadata": {},
     "output_type": "display_data"
    },
    {
     "name": "stdout",
     "output_type": "stream",
     "text": [
      "\n"
     ]
    }
   ],
   "source": [
    "# Check to see if list was made correctly.\n",
    "tickers_list = list(stock_dict.keys())\n",
    "\n",
    "for i in notebook.tqdm(np.arange(0, len(tickers_list))):\n",
    "    if stock_dict[tickers_list[i]].size != example_count[i]:\n",
    "        print(\"Problem.\")"
   ]
  },
  {
   "cell_type": "code",
   "execution_count": 9,
   "metadata": {},
   "outputs": [],
   "source": [
    "# Plot the number of dates for each ticker.\n",
    "if (graph):\n",
    "    keys = list(stock_dict.keys())\n",
    "    y_pos = np.arange(len(keys))\n",
    "\n",
    "    plt.ylabel('Number of Dates')\n",
    "    plt.xlabel('Ticker Index')\n",
    "    plt.title('Number of Dates vs. Tickers')\n",
    "    plt.bar(y_pos, example_count, align='center', alpha=0.5)\n",
    "    plt.show()"
   ]
  },
  {
   "cell_type": "code",
   "execution_count": 10,
   "metadata": {},
   "outputs": [
    {
     "data": {
      "application/vnd.jupyter.widget-view+json": {
       "model_id": "d6f075f9104b4dd7a146b0d7d1c4aa38",
       "version_major": 2,
       "version_minor": 0
      },
      "text/plain": [
       "HBox(children=(FloatProgress(value=0.0, max=1827.0), HTML(value='')))"
      ]
     },
     "metadata": {},
     "output_type": "display_data"
    },
    {
     "name": "stdout",
     "output_type": "stream",
     "text": [
      "\n"
     ]
    }
   ],
   "source": [
    "# See if tickers have that value.\n",
    "tickers_3201 = tickers[np.where(example_count == 3201)]\n",
    "\n",
    "for ticker in notebook.tqdm(tickers_3201):\n",
    "    \n",
    "    if (stock_dict[ticker][0][0] != '2005-02-25'):\n",
    "        print(\"Problem.\")\n",
    "    \n",
    "    if (stock_dict[ticker][3200][0] != '2017-11-10'):\n",
    "        print(\"Problem.\")"
   ]
  },
  {
   "cell_type": "code",
   "execution_count": 11,
   "metadata": {},
   "outputs": [
    {
     "data": {
      "text/plain": [
       "33.507990583520034"
      ]
     },
     "execution_count": 11,
     "metadata": {},
     "output_type": "execute_result"
    }
   ],
   "source": [
    "# Percentage of examples covered by this subset.\n",
    "np.where(example_count == 3201)[0].size * 3201 / float(np.sum(example_count)) * 100"
   ]
  },
  {
   "cell_type": "code",
   "execution_count": 12,
   "metadata": {},
   "outputs": [
    {
     "name": "stdout",
     "output_type": "stream",
     "text": [
      "[('1999-11-18', 30.713, 33.754, 27.002, 29.702, 66277506., 0.)\n",
      " ('1999-11-19', 28.986, 29.027, 26.872, 27.257, 16142920., 0.)\n",
      " ('1999-11-22', 27.886, 29.702, 27.044, 29.702,  6970266., 0.) ...\n",
      " ('2017-11-08', 68.1  , 68.33 , 67.771, 68.11 ,   972616., 0.)\n",
      " ('2017-11-09', 67.92 , 67.98 , 66.91 , 67.47 ,  1673083., 0.)\n",
      " ('2017-11-10', 67.35 , 67.58 , 66.7  , 66.81 ,  1704549., 0.)]\n"
     ]
    }
   ],
   "source": [
    "# Example where some tickers have missing values.\n",
    "# tickers[np.where(example_count >= 3201)][0]\n",
    "print(stock_dict['a'])\n",
    "\n",
    "bound_value = 3201"
   ]
  },
  {
   "cell_type": "markdown",
   "metadata": {},
   "source": [
    "# Data Formatting"
   ]
  },
  {
   "cell_type": "code",
   "execution_count": 13,
   "metadata": {},
   "outputs": [
    {
     "data": {
      "application/vnd.jupyter.widget-view+json": {
       "model_id": "4810575f04a64edcb9febf74310b6afb",
       "version_major": 2,
       "version_minor": 0
      },
      "text/plain": [
       "HBox(children=(FloatProgress(value=0.0, max=1827.0), HTML(value='')))"
      ]
     },
     "metadata": {},
     "output_type": "display_data"
    },
    {
     "name": "stdout",
     "output_type": "stream",
     "text": [
      "\n"
     ]
    }
   ],
   "source": [
    "# Make dict of only tickers that have 3201 examples, begin on '2005-02-25', and end on '2017-11-10'\n",
    "stock_dict_3201 = dict()\n",
    "\n",
    "for ticker in notebook.tqdm(tickers_3201):\n",
    "    \n",
    "    if stock_dict[ticker][-1][0] == '2017-11-10' and stock_dict[ticker][0][0] == '2005-02-25':\n",
    "        stock_dict_3201[ticker] = stock_dict[ticker]"
   ]
  },
  {
   "cell_type": "markdown",
   "metadata": {},
   "source": [
    "## Create master matrix"
   ]
  },
  {
   "cell_type": "code",
   "execution_count": 56,
   "metadata": {},
   "outputs": [
    {
     "data": {
      "application/vnd.jupyter.widget-view+json": {
       "model_id": "cc16ccfcf0334efba731c7c2458bc626",
       "version_major": 2,
       "version_minor": 0
      },
      "text/plain": [
       "HBox(children=(FloatProgress(value=0.0, max=1827.0), HTML(value='')))"
      ]
     },
     "metadata": {},
     "output_type": "display_data"
    },
    {
     "name": "stdout",
     "output_type": "stream",
     "text": [
      "\n"
     ]
    }
   ],
   "source": [
    "# Make matrix of only those tickers of 3201.\n",
    "# Format is: rows are dates, columns are organized by concatenating stock variables for a day for each company together.\n",
    "# < company1_open, company1_high, company1_low, company1_close, company1_volume, company2_open, company2_high, ..., companyn_volume > \n",
    "matrix_3201 = np.ndarray((bound_value, len(list(stock_dict_3201.keys())) * 5) , dtype=float)\n",
    "\n",
    "tickers_3201 = list(stock_dict_3201.keys())\n",
    "\n",
    "for i in notebook.tqdm(np.arange(len(tickers_3201))):\n",
    "    \n",
    "    stock_data = stock_dict_3201[tickers_3201[i]]\n",
    "    \n",
    "    for j in np.arange(bound_value):\n",
    "        \n",
    "        for k in np.arange(1, 6):          \n",
    "            matrix_3201[j, (i * 5) + k - 1] = stock_data[j][k]"
   ]
  },
  {
   "cell_type": "code",
   "execution_count": 18,
   "metadata": {},
   "outputs": [],
   "source": [
    "np.save(\"matrix_3201\", matrix_3201)"
   ]
  },
  {
   "cell_type": "markdown",
   "metadata": {},
   "source": [
    "# Make Training and Test Sets"
   ]
  },
  {
   "cell_type": "markdown",
   "metadata": {},
   "source": [
    "Matrix has data from 1827 tickers and each ticker has 5 of its features included, excluding the 6th OpenInt.  "
   ]
  },
  {
   "cell_type": "code",
   "execution_count": null,
   "metadata": {},
   "outputs": [],
   "source": [
    "matrix_3201 = np.load(\"matrix_3201.npy\")"
   ]
  },
  {
   "cell_type": "code",
   "execution_count": 109,
   "metadata": {},
   "outputs": [],
   "source": [
    "# Shuffle dataset.\n",
    "shuffled_indicies = np.linspace(0, bound_value - 1, bound_value, dtype=int)\n",
    "np.random.seed(42)\n",
    "np.random.shuffle(shuffled_indicies)"
   ]
  },
  {
   "cell_type": "code",
   "execution_count": 110,
   "metadata": {},
   "outputs": [],
   "source": [
    "# Train and test indicies\n",
    "train_indicies = shuffled_indicies[:int(shuffled_indicies.size * 0.50)]\n",
    "test_indicies = shuffled_indicies[int(shuffled_indicies.size * 0.50):]"
   ]
  },
  {
   "cell_type": "code",
   "execution_count": 111,
   "metadata": {},
   "outputs": [
    {
     "name": "stdout",
     "output_type": "stream",
     "text": [
      "1600\n",
      "1601\n",
      "(3201, 9135)\n"
     ]
    }
   ],
   "source": [
    "# Size and shape of Datasets\n",
    "print(len(train_indicies))\n",
    "print(len(test_indicies))\n",
    "print(matrix_3201.shape)"
   ]
  },
  {
   "cell_type": "code",
   "execution_count": 112,
   "metadata": {},
   "outputs": [
    {
     "data": {
      "image/png": "[encoded data removed]",
      "text/plain": [
       "<Figure size 432x288 with 1 Axes>"
      ]
     },
     "metadata": {
      "needs_background": "light"
     },
     "output_type": "display_data"
    }
   ],
   "source": [
    "# Look at change of close some value. \n",
    "sns.distplot(matrix_3201[:,233]);"
   ]
  },
  {
   "cell_type": "code",
   "execution_count": 113,
   "metadata": {},
   "outputs": [
    {
     "name": "stdout",
     "output_type": "stream",
     "text": [
      "The three tickers chosen: utg, nni, mmlp\n"
     ]
    }
   ],
   "source": [
    "import random\n",
    "ticker_index1, ticker_index2, ticker_index3 = random.sample(range(0, len(tickers_3201)), 3)\n",
    "print(\"The three tickers chosen: {}, {}, {}\".format(\n",
    "    tickers_3201[ticker_index1], tickers_3201[ticker_index2], tickers_3201[ticker_index3]))"
   ]
  },
  {
   "cell_type": "markdown",
   "metadata": {},
   "source": [
    "## Plot the close for the three tickers chosen"
   ]
  },
  {
   "cell_type": "code",
   "execution_count": 114,
   "metadata": {},
   "outputs": [
    {
     "data": {
      "image/png": "[encoded data removed]",
      "text/plain": [
       "<Figure size 432x288 with 1 Axes>"
      ]
     },
     "metadata": {
      "needs_background": "light"
     },
     "output_type": "display_data"
    }
   ],
   "source": [
    "sns.distplot(matrix_3201[:,ticker_index1 * 5 + 3]).set_title(\"Ticker: {}\".format(tickers_3201[ticker_index1]));"
   ]
  },
  {
   "cell_type": "code",
   "execution_count": 115,
   "metadata": {},
   "outputs": [
    {
     "data": {
      "image/png": "[encoded data removed]",
      "text/plain": [
       "<Figure size 432x288 with 1 Axes>"
      ]
     },
     "metadata": {
      "needs_background": "light"
     },
     "output_type": "display_data"
    }
   ],
   "source": [
    "sns.distplot(matrix_3201[:,ticker_index2 * 5 + 3]).set_title(\"Ticker: {}\".format(tickers_3201[ticker_index2]));"
   ]
  },
  {
   "cell_type": "code",
   "execution_count": 116,
   "metadata": {},
   "outputs": [
    {
     "data": {
      "image/png": "[encoded data removed]",
      "text/plain": [
       "<Figure size 432x288 with 1 Axes>"
      ]
     },
     "metadata": {
      "needs_background": "light"
     },
     "output_type": "display_data"
    }
   ],
   "source": [
    "sns.distplot(matrix_3201[:,ticker_index3 * 5 + 3]).set_title(\"Ticker: {}\".format(tickers_3201[ticker_index3]));"
   ]
  },
  {
   "cell_type": "markdown",
   "metadata": {},
   "source": [
    "# Training of different models."
   ]
  },
  {
   "cell_type": "markdown",
   "metadata": {},
   "source": [
    "## Train for ticker ixc"
   ]
  },
  {
   "cell_type": "code",
   "execution_count": 120,
   "metadata": {},
   "outputs": [
    {
     "name": "stderr",
     "output_type": "stream",
     "text": [
      "Using TensorFlow backend.\n"
     ]
    }
   ],
   "source": [
    "from keras.models import Sequential\n",
    "from keras.layers import Dense, Dropout\n",
    "from keras import metrics\n",
    "import seaborn as sns\n",
    "import matplotlib.pyplot as plt\n",
    "from keras import backend as K\n",
    "from keras.wrappers.scikit_learn import KerasRegressor"
   ]
  },
  {
   "cell_type": "code",
   "execution_count": 117,
   "metadata": {},
   "outputs": [],
   "source": [
    "# Delete close for ticker.\n",
    "train_set = np.delete(matrix_3201[train_indicies], ticker_index1 * 5 + 3, 1)\n",
    "train_target = matrix_3201[train_indicies][:, ticker_index1 * 5 + 3]\n",
    "test_set = np.delete(matrix_3201[test_indicies], ticker_index1 * 5 + 3, 1)\n",
    "test_target = matrix_3201[test_indicies][:, ticker_index1 * 5 + 3]"
   ]
  },
  {
   "cell_type": "code",
   "execution_count": 119,
   "metadata": {},
   "outputs": [
    {
     "name": "stdout",
     "output_type": "stream",
     "text": [
      "(1600, 9134)\n",
      "(1600,)\n",
      "(1601, 9134)\n",
      "(1601,)\n"
     ]
    }
   ],
   "source": [
    "# Shape of the sets\n",
    "print(train_set.shape)\n",
    "print(train_target.shape)\n",
    "print(test_set.shape)\n",
    "print(test_target.shape)"
   ]
  },
  {
   "cell_type": "code",
   "execution_count": 249,
   "metadata": {},
   "outputs": [],
   "source": [
    "def create_model():\n",
    "    # create model\n",
    "    model = Sequential()\n",
    "    model.add(Dense(10, input_dim=train_set.shape[1], activation='relu'))\n",
    "    model.add(Dense(50, activation='sigmoid'))\n",
    "    model.add(Dense(40, activation='relu'))\n",
    "    # model.add(Dense(25, activation='relu'))\n",
    "    model.add(Dense(1))\n",
    "    # Compile model\n",
    "    model.compile(optimizer ='adam', loss = 'mean_absolute_percentage_error', \n",
    "              metrics =[metrics.mape])\n",
    "    return model"
   ]
  },
  {
   "cell_type": "code",
   "execution_count": 250,
   "metadata": {},
   "outputs": [
    {
     "name": "stdout",
     "output_type": "stream",
     "text": [
      "Model: \"sequential_17\"\n",
      "_________________________________________________________________\n",
      "Layer (type)                 Output Shape              Param #   \n",
      "=================================================================\n",
      "dense_66 (Dense)             (None, 10)                91350     \n",
      "_________________________________________________________________\n",
      "dense_67 (Dense)             (None, 50)                550       \n",
      "_________________________________________________________________\n",
      "dense_68 (Dense)             (None, 40)                2040      \n",
      "_________________________________________________________________\n",
      "dense_69 (Dense)             (None, 1)                 41        \n",
      "=================================================================\n",
      "Total params: 93,981\n",
      "Trainable params: 93,981\n",
      "Non-trainable params: 0\n",
      "_________________________________________________________________\n"
     ]
    }
   ],
   "source": [
    "model = create_model()\n",
    "model.summary()"
   ]
  },
  {
   "cell_type": "code",
   "execution_count": 251,
   "metadata": {},
   "outputs": [
    {
     "name": "stdout",
     "output_type": "stream",
     "text": [
      "Train on 1600 samples, validate on 1601 samples\n",
      "Epoch 1/20\n",
      "1600/1600 [==============================] - 0s 218us/step - loss: 79.8347 - mean_absolute_percentage_error: 79.8347 - val_loss: 58.5744 - val_mean_absolute_percentage_error: 58.5744\n",
      "Epoch 2/20\n",
      "1600/1600 [==============================] - 0s 129us/step - loss: 39.3518 - mean_absolute_percentage_error: 39.3518 - val_loss: 29.2201 - val_mean_absolute_percentage_error: 29.2201\n",
      "Epoch 3/20\n",
      "1600/1600 [==============================] - 0s 119us/step - loss: 29.0669 - mean_absolute_percentage_error: 29.0669 - val_loss: 29.2455 - val_mean_absolute_percentage_error: 29.2455\n",
      "Epoch 4/20\n",
      "1600/1600 [==============================] - 0s 145us/step - loss: 28.9985 - mean_absolute_percentage_error: 28.9985 - val_loss: 29.2450 - val_mean_absolute_percentage_error: 29.2449\n",
      "Epoch 5/20\n",
      "1600/1600 [==============================] - 0s 122us/step - loss: 28.9159 - mean_absolute_percentage_error: 28.9159 - val_loss: 29.2937 - val_mean_absolute_percentage_error: 29.2937\n",
      "Epoch 6/20\n",
      "1600/1600 [==============================] - 0s 145us/step - loss: 28.8608 - mean_absolute_percentage_error: 28.8607 - val_loss: 29.4011 - val_mean_absolute_percentage_error: 29.4011\n",
      "Epoch 7/20\n",
      "1600/1600 [==============================] - 0s 146us/step - loss: 28.8317 - mean_absolute_percentage_error: 28.8317 - val_loss: 29.3669 - val_mean_absolute_percentage_error: 29.3669\n",
      "Epoch 8/20\n",
      "1600/1600 [==============================] - 0s 134us/step - loss: 28.8618 - mean_absolute_percentage_error: 28.8618 - val_loss: 29.4738 - val_mean_absolute_percentage_error: 29.4738\n",
      "Epoch 9/20\n",
      "1600/1600 [==============================] - 0s 163us/step - loss: 28.7949 - mean_absolute_percentage_error: 28.7949 - val_loss: 29.4455 - val_mean_absolute_percentage_error: 29.4455\n",
      "Epoch 10/20\n",
      "1600/1600 [==============================] - 0s 136us/step - loss: 28.7117 - mean_absolute_percentage_error: 28.7117 - val_loss: 29.4691 - val_mean_absolute_percentage_error: 29.4690\n",
      "Epoch 11/20\n",
      "1600/1600 [==============================] - 0s 129us/step - loss: 28.7032 - mean_absolute_percentage_error: 28.7032 - val_loss: 29.4672 - val_mean_absolute_percentage_error: 29.4672\n",
      "Epoch 12/20\n",
      "1600/1600 [==============================] - 0s 136us/step - loss: 28.7386 - mean_absolute_percentage_error: 28.7386 - val_loss: 29.5493 - val_mean_absolute_percentage_error: 29.5493\n",
      "Epoch 13/20\n",
      "1600/1600 [==============================] - 0s 160us/step - loss: 28.6947 - mean_absolute_percentage_error: 28.6947 - val_loss: 29.5356 - val_mean_absolute_percentage_error: 29.5356\n",
      "Epoch 14/20\n",
      "1600/1600 [==============================] - 0s 131us/step - loss: 28.6425 - mean_absolute_percentage_error: 28.6425 - val_loss: 29.4632 - val_mean_absolute_percentage_error: 29.4632\n",
      "Epoch 15/20\n",
      "1600/1600 [==============================] - 0s 157us/step - loss: 28.6554 - mean_absolute_percentage_error: 28.6554 - val_loss: 29.4683 - val_mean_absolute_percentage_error: 29.4683\n",
      "Epoch 16/20\n",
      "1600/1600 [==============================] - 0s 159us/step - loss: 28.6815 - mean_absolute_percentage_error: 28.6815 - val_loss: 29.5774 - val_mean_absolute_percentage_error: 29.5774\n",
      "Epoch 17/20\n",
      "1600/1600 [==============================] - 0s 145us/step - loss: 28.6694 - mean_absolute_percentage_error: 28.6694 - val_loss: 29.6397 - val_mean_absolute_percentage_error: 29.6397\n",
      "Epoch 18/20\n",
      "1600/1600 [==============================] - 0s 156us/step - loss: 28.6579 - mean_absolute_percentage_error: 28.6579 - val_loss: 29.5254 - val_mean_absolute_percentage_error: 29.5254\n",
      "Epoch 19/20\n",
      "1600/1600 [==============================] - 0s 129us/step - loss: 28.6248 - mean_absolute_percentage_error: 28.6248 - val_loss: 29.6306 - val_mean_absolute_percentage_error: 29.6306\n",
      "Epoch 20/20\n",
      "1600/1600 [==============================] - 0s 179us/step - loss: 28.6645 - mean_absolute_percentage_error: 28.6645 - val_loss: 29.5324 - val_mean_absolute_percentage_error: 29.5324\n"
     ]
    }
   ],
   "source": [
    "history = model.fit(train_set, train_target, validation_data=(test_set, test_target), epochs=20, batch_size=32)"
   ]
  },
  {
   "cell_type": "code",
   "execution_count": 252,
   "metadata": {},
   "outputs": [
    {
     "data": {
      "image/png": "[encoded data removed]",
      "text/plain": [
       "<Figure size 432x288 with 1 Axes>"
      ]
     },
     "metadata": {
      "needs_background": "light"
     },
     "output_type": "display_data"
    }
   ],
   "source": [
    "plt.plot(history.history['mean_absolute_percentage_error'])\n",
    "plt.plot(history.history['val_mean_absolute_percentage_error'])\n",
    "plt.title('model accuracy')\n",
    "plt.ylabel('accuracy')\n",
    "plt.xlabel('epoch')\n",
    "plt.legend(['train', 'test'], loc='upper right')\n",
    "#plt.ylim(20, 2000)\n",
    "#plt.xlim(10,)\n",
    "plt.show()"
   ]
  },
  {
   "cell_type": "code",
   "execution_count": 253,
   "metadata": {},
   "outputs": [
    {
     "data": {
      "image/png": "[encoded data removed]",
      "text/plain": [
       "<Figure size 432x288 with 1 Axes>"
      ]
     },
     "metadata": {
      "needs_background": "light"
     },
     "output_type": "display_data"
    }
   ],
   "source": [
    "# summarize history for loss\n",
    "plt.plot(history.history['loss'])\n",
    "plt.plot(history.history['val_loss'])\n",
    "plt.title('model loss')\n",
    "plt.ylabel('loss')\n",
    "plt.xlabel('epoch')\n",
    "plt.legend(['train', 'test'], loc='upper right')\n",
    "#plt.ylim(20, 2000)\n",
    "plt.show()"
   ]
  },
  {
   "cell_type": "code",
   "execution_count": 254,
   "metadata": {},
   "outputs": [],
   "source": [
    "prediction = model.predict(test_set)"
   ]
  },
  {
   "cell_type": "code",
   "execution_count": 255,
   "metadata": {},
   "outputs": [
    {
     "data": {
      "text/plain": [
       "(-1, 1680.0)"
      ]
     },
     "execution_count": 255,
     "metadata": {},
     "output_type": "execute_result"
    },
    {
     "data": {
      "image/png": "[encoded data removed]",
      "text/plain": [
       "<Figure size 432x288 with 1 Axes>"
      ]
     },
     "metadata": {
      "needs_background": "light"
     },
     "output_type": "display_data"
    }
   ],
   "source": [
    "plt.plot(test_target)\n",
    "plt.plot(prediction)\n",
    "\n",
    "plt.ylim(0, 40)\n",
    "plt.xlim(-1,)"
   ]
  },
  {
   "cell_type": "code",
   "execution_count": 256,
   "metadata": {},
   "outputs": [
    {
     "data": {
      "text/plain": [
       "array([[14.135569],\n",
       "       [14.135569],\n",
       "       [13.993702],\n",
       "       ...,\n",
       "       [13.012482],\n",
       "       [13.012482],\n",
       "       [14.135571]], dtype=float32)"
      ]
     },
     "execution_count": 256,
     "metadata": {},
     "output_type": "execute_result"
    }
   ],
   "source": [
    "prediction"
   ]
  },
  {
   "cell_type": "code",
   "execution_count": null,
   "metadata": {},
   "outputs": [],
   "source": []
  },
  {
   "cell_type": "code",
   "execution_count": null,
   "metadata": {},
   "outputs": [],
   "source": []
  }
 ],
 "metadata": {
  "kernelspec": {
   "display_name": "Python 3",
   "language": "python",
   "name": "python3"
  },
  "language_info": {
   "codemirror_mode": {
    "name": "ipython",
    "version": 3
   },
   "file_extension": ".py",
   "mimetype": "text/x-python",
   "name": "python",
   "nbconvert_exporter": "python",
   "pygments_lexer": "ipython3",
   "version": "3.6.6"
  }
 },
 "nbformat": 4,
 "nbformat_minor": 4
}

{
 "cells": [
  {
   "cell_type": "code",
   "execution_count": 97,
   "metadata": {},
   "outputs": [
    {
     "data": {
      "text/plain": [
       "<module 'msciLib' from '/Users/melissawilson/git/msci_ml/workspace/msciLib.py'>"
      ]
     },
     "execution_count": 97,
     "metadata": {},
     "output_type": "execute_result"
    }
   ],
   "source": [
    "# Imports\n",
    "import glob\n",
    "import matplotlib.pyplot as plt\n",
    "import numpy as np\n",
    "import os\n",
    "from tqdm import notebook\n",
    "import seaborn as sns\n",
    "\n",
    "import importlib\n",
    "import msciLib\n",
    "importlib.reload(msciLib)"
   ]
  },
  {
   "cell_type": "markdown",
   "metadata": {},
   "source": [
    "## Mean Absolute Percentage Error Computation"
   ]
  },
  {
   "cell_type": "markdown",
   "metadata": {},
   "source": [
    "This notebook intends to calculate the mean absolute percentage error (MAPE) for our cleaned dataset 'matrix_3201'. To calculate the MAPE, we simply set the forcasted value as the previous day's value. "
   ]
  },
  {
   "cell_type": "markdown",
   "metadata": {},
   "source": [
    "### Formula"
   ]
  },
  {
   "cell_type": "markdown",
   "metadata": {},
   "source": [
    "$$M = 100 * \\frac {1} {n} \\sum_{t = 1}^{n}  \\left| \\frac { A_t - F_t } {A_t} \\right| $$"
   ]
  },
  {
   "cell_type": "markdown",
   "metadata": {},
   "source": [
    "## Import Dataset"
   ]
  },
  {
   "cell_type": "code",
   "execution_count": 108,
   "metadata": {},
   "outputs": [],
   "source": [
    "# Import Data\n",
    "matrix_3201 = np.load(\"matrix_3201.npy\")\n",
    "tickers_3201 = np.load(\"tickers_3201.npy\")"
   ]
  },
  {
   "cell_type": "code",
   "execution_count": 99,
   "metadata": {},
   "outputs": [
    {
     "data": {
      "text/plain": [
       "(3201, 9135)"
      ]
     },
     "execution_count": 99,
     "metadata": {},
     "output_type": "execute_result"
    }
   ],
   "source": [
    "matrix_3201.shape"
   ]
  },
  {
   "cell_type": "markdown",
   "metadata": {},
   "source": [
    "## Calculate all MAPE's"
   ]
  },
  {
   "cell_type": "code",
   "execution_count": 100,
   "metadata": {},
   "outputs": [],
   "source": [
    "# Construct array that will hold the MAPE for every variable for every ticker\n",
    "mape = np.zeros(9135)"
   ]
  },
  {
   "cell_type": "code",
   "execution_count": 101,
   "metadata": {},
   "outputs": [
    {
     "data": {
      "application/vnd.jupyter.widget-view+json": {
       "model_id": "0e2f24b2969342d690e52ee92c12f192",
       "version_major": 2,
       "version_minor": 0
      },
      "text/plain": [
       "HBox(children=(FloatProgress(value=0.0, max=1827.0), HTML(value='')))"
      ]
     },
     "metadata": {},
     "output_type": "display_data"
    },
    {
     "name": "stdout",
     "output_type": "stream",
     "text": [
      "\n"
     ]
    }
   ],
   "source": [
    "# for each ticker\n",
    "for ticker_index in notebook.tqdm(range(len(tickers_3201))): \n",
    "    \n",
    "    # for each variable\n",
    "    for variable_index in range(5):\n",
    "        \n",
    "        # Grab all values except the first example.\n",
    "        actual_values = matrix_3201[1:, ticker_index * 5 + variable_index]\n",
    "        \n",
    "        # Grab all values except the last example.\n",
    "        forcasted_values = matrix_3201[0:-1, ticker_index * 5 + variable_index]\n",
    "        \n",
    "        # Calculate mape and store it.\n",
    "        mape[ticker_index * 5 + variable_index] = msciLib.calculate_mape(actual_values, forcasted_values)\n",
    "    "
   ]
  },
  {
   "cell_type": "code",
   "execution_count": 102,
   "metadata": {},
   "outputs": [
    {
     "data": {
      "text/plain": [
       "4187713.6294620526"
      ]
     },
     "execution_count": 102,
     "metadata": {},
     "output_type": "execute_result"
    }
   ],
   "source": [
    "np.average(mape)"
   ]
  },
  {
   "cell_type": "markdown",
   "metadata": {},
   "source": [
    "## Why is this so large?"
   ]
  },
  {
   "cell_type": "markdown",
   "metadata": {},
   "source": [
    "This is because the Volume variable is creating very large MAPE's for some tickers."
   ]
  },
  {
   "cell_type": "code",
   "execution_count": 136,
   "metadata": {},
   "outputs": [
    {
     "name": "stdout",
     "output_type": "stream",
     "text": [
      "22493937542.577713\n",
      "0.05641160466379391\n"
     ]
    }
   ],
   "source": [
    "print(max(mape))\n",
    "print(min(mape))"
   ]
  },
  {
   "cell_type": "code",
   "execution_count": 137,
   "metadata": {},
   "outputs": [],
   "source": [
    "outlier_indexes = np.where(mape > 100)[0]"
   ]
  },
  {
   "cell_type": "code",
   "execution_count": 138,
   "metadata": {},
   "outputs": [
    {
     "data": {
      "text/plain": [
       "array([ 232.8,  418.8,  501.8,  504.8,  557.8,  560.8,  561.8,  563.8,\n",
       "        620. ,  620.4,  660.8,  803.8,  804.8,  806.8,  829.8,  834.8,\n",
       "        846.8,  854.8,  855.8,  870.4,  873.8,  874.8,  875.8,  876.8,\n",
       "        878.8,  881.8,  884.8,  905.8,  906.8, 1023.8, 1039.8, 1093.8,\n",
       "       1144.8, 1233.8, 1245.8, 1329.8, 1350.8, 1378.8, 1398.8, 1462.8,\n",
       "       1491.8, 1595.8, 1603.8, 1661.8, 1686.4, 1716.8])"
      ]
     },
     "execution_count": 138,
     "metadata": {},
     "output_type": "execute_result"
    }
   ],
   "source": [
    "(outlier_indexes / 5) # All except on of these is the Volume attribute."
   ]
  },
  {
   "cell_type": "markdown",
   "metadata": {},
   "source": [
    "### MAPE for just close"
   ]
  },
  {
   "cell_type": "code",
   "execution_count": 139,
   "metadata": {},
   "outputs": [],
   "source": [
    "mape_close = mape[np.where(np.arange(len(mape)) % 4 == 3)]"
   ]
  },
  {
   "cell_type": "code",
   "execution_count": 140,
   "metadata": {},
   "outputs": [
    {
     "data": {
      "text/plain": [
       "20.703427929690825"
      ]
     },
     "execution_count": 140,
     "metadata": {},
     "output_type": "execute_result"
    }
   ],
   "source": [
    "np.average(mape_close)\n",
    "np.std(mape_close)"
   ]
  },
  {
   "cell_type": "code",
   "execution_count": 141,
   "metadata": {},
   "outputs": [
    {
     "data": {
      "text/plain": [
       "array([1.54736043, 1.59477145, 1.15889053, ..., 0.79844294, 2.2677469 ,\n",
       "       0.52818929])"
      ]
     },
     "execution_count": 141,
     "metadata": {},
     "output_type": "execute_result"
    }
   ],
   "source": [
    "mape_close"
   ]
  },
  {
   "cell_type": "code",
   "execution_count": null,
   "metadata": {},
   "outputs": [],
   "source": []
  }
 ],
 "metadata": {
  "kernelspec": {
   "display_name": "Python 3",
   "language": "python",
   "name": "python3"
  },
  "language_info": {
   "codemirror_mode": {
    "name": "ipython",
    "version": 3
   },
   "file_extension": ".py",
   "mimetype": "text/x-python",
   "name": "python",
   "nbconvert_exporter": "python",
   "pygments_lexer": "ipython3",
   "version": "3.6.6"
  }
 },
 "nbformat": 4,
 "nbformat_minor": 4
}

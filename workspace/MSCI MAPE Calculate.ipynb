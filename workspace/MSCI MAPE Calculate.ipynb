{
 "cells": [
  {
   "cell_type": "code",
   "execution_count": 31,
   "metadata": {},
   "outputs": [
    {
     "data": {
      "text/plain": [
       "<module 'msciLib' from '/Users/melissawilson/git/msci_ml/workspace/msciLib.py'>"
      ]
     },
     "execution_count": 31,
     "metadata": {},
     "output_type": "execute_result"
    }
   ],
   "source": [
    "# Imports\n",
    "import glob\n",
    "import matplotlib.pyplot as plt\n",
    "import numpy as np\n",
    "import os\n",
    "from tqdm import notebook\n",
    "import seaborn as sns\n",
    "\n",
    "import importlib\n",
    "import msciLib\n",
    "importlib.reload(msciLib)"
   ]
  },
  {
   "cell_type": "markdown",
   "metadata": {},
   "source": [
    "## Mean Absolute Percentage Error Computation"
   ]
  },
  {
   "cell_type": "markdown",
   "metadata": {},
   "source": [
    "This notebook intends to calculate the mean absolute percentage error (MAPE) for our cleaned dataset 'matrix_3201'. To calculate the MAPE, we simply set the forcasted value as the previous day's value. "
   ]
  },
  {
   "cell_type": "markdown",
   "metadata": {},
   "source": [
    "### Formula"
   ]
  },
  {
   "cell_type": "markdown",
   "metadata": {},
   "source": [
    "$$M = \\frac {100\\%} {n} \\sum_{t = 1}^{n}  \\left| \\frac { A_t - F_t } {A_t} \\right| $$"
   ]
  },
  {
   "cell_type": "markdown",
   "metadata": {},
   "source": [
    "## Import Dataset"
   ]
  },
  {
   "cell_type": "code",
   "execution_count": 3,
   "metadata": {},
   "outputs": [],
   "source": [
    "# Import Data\n",
    "matrix_3201 = np.load(\"formatted_data/matrix_3201.npy\")\n",
    "tickers_3201 = np.load(\"formatted_data/tickers_3201.npy\")"
   ]
  },
  {
   "cell_type": "code",
   "execution_count": 4,
   "metadata": {},
   "outputs": [
    {
     "data": {
      "text/plain": [
       "(3201, 9135)"
      ]
     },
     "execution_count": 4,
     "metadata": {},
     "output_type": "execute_result"
    }
   ],
   "source": [
    "matrix_3201.shape"
   ]
  },
  {
   "cell_type": "markdown",
   "metadata": {},
   "source": [
    "## Calculate all MAPE's"
   ]
  },
  {
   "cell_type": "code",
   "execution_count": 42,
   "metadata": {},
   "outputs": [],
   "source": [
    "# Construct array that will hold the MAPE for every variable for every ticker\n",
    "mape = np.zeros(9135)"
   ]
  },
  {
   "cell_type": "code",
   "execution_count": 43,
   "metadata": {},
   "outputs": [
    {
     "data": {
      "application/vnd.jupyter.widget-view+json": {
       "model_id": "1da12e73cc4947b6a2c95f072287d882",
       "version_major": 2,
       "version_minor": 0
      },
      "text/plain": [
       "HBox(children=(FloatProgress(value=0.0, max=1827.0), HTML(value='')))"
      ]
     },
     "metadata": {},
     "output_type": "display_data"
    },
    {
     "name": "stdout",
     "output_type": "stream",
     "text": [
      "\n"
     ]
    }
   ],
   "source": [
    "# for each ticker\n",
    "for ticker_index in notebook.tqdm(range(len(tickers_3201))): \n",
    "    \n",
    "    # for each variable\n",
    "    for variable_index in range(5):\n",
    "        \n",
    "        # Grab all values except the first example.\n",
    "        actual_values = matrix_3201[1:, ticker_index * 5 + variable_index]\n",
    "        \n",
    "        # Grab all values except the last example.\n",
    "        forcasted_values = matrix_3201[0:-1, ticker_index * 5 + variable_index]\n",
    "        \n",
    "        # Calculate mape and store it.\n",
    "        mape[ticker_index * 5 + variable_index] = msciLib.calculate_mape(actual_values, forcasted_values)\n",
    "    "
   ]
  },
  {
   "cell_type": "code",
   "execution_count": 44,
   "metadata": {},
   "outputs": [
    {
     "data": {
      "text/plain": [
       "4187713.6294620526"
      ]
     },
     "execution_count": 44,
     "metadata": {},
     "output_type": "execute_result"
    }
   ],
   "source": [
    "np.average(mape)"
   ]
  },
  {
   "cell_type": "markdown",
   "metadata": {},
   "source": [
    "## Why is this so large?"
   ]
  },
  {
   "cell_type": "markdown",
   "metadata": {},
   "source": [
    "This is because the Volume variable is creating very large MAPE's for some tickers."
   ]
  },
  {
   "cell_type": "code",
   "execution_count": 69,
   "metadata": {},
   "outputs": [
    {
     "name": "stdout",
     "output_type": "stream",
     "text": [
      "Maxiumum MAPE computed: 22493937542.577713\n",
      "Minimum MAPE computed: 0.05641160466379391\n"
     ]
    }
   ],
   "source": [
    "print(\"Maxiumum MAPE computed: {}\".format(max(mape)))\n",
    "print(\"Minimum MAPE computed: {}\".format(min(mape)))"
   ]
  },
  {
   "cell_type": "code",
   "execution_count": 70,
   "metadata": {},
   "outputs": [],
   "source": [
    "outlier_indexes = np.where(mape >= 100)[0]"
   ]
  },
  {
   "cell_type": "code",
   "execution_count": 71,
   "metadata": {},
   "outputs": [
    {
     "data": {
      "text/plain": [
       "array([ 232.8,  418.8,  501.8,  504.8,  557.8,  560.8,  561.8,  563.8,\n",
       "        620. ,  620.4,  660.8,  803.8,  804.8,  806.8,  829.8,  834.8,\n",
       "        846.8,  854.8,  855.8,  870.4,  873.8,  874.8,  875.8,  876.8,\n",
       "        878.8,  881.8,  884.8,  905.8,  906.8, 1023.8, 1039.8, 1093.8,\n",
       "       1144.8, 1233.8, 1245.8, 1329.8, 1350.8, 1378.8, 1398.8, 1462.8,\n",
       "       1491.8, 1595.8, 1603.8, 1661.8, 1686.4, 1716.8])"
      ]
     },
     "execution_count": 71,
     "metadata": {},
     "output_type": "execute_result"
    }
   ],
   "source": [
    "outlier_indexes / 5"
   ]
  },
  {
   "cell_type": "code",
   "execution_count": 72,
   "metadata": {},
   "outputs": [
    {
     "data": {
      "text/plain": [
       "array(['volume', 'volume', 'volume', 'volume', 'volume', 'volume',\n",
       "       'volume', 'volume', 'open', 'low', 'volume', 'volume', 'volume',\n",
       "       'volume', 'volume', 'volume', 'volume', 'volume', 'volume', 'low',\n",
       "       'volume', 'volume', 'volume', 'volume', 'volume', 'volume',\n",
       "       'volume', 'volume', 'volume', 'volume', 'volume', 'volume',\n",
       "       'volume', 'volume', 'volume', 'volume', 'volume', 'volume',\n",
       "       'volume', 'volume', 'volume', 'volume', 'volume', 'volume', 'low',\n",
       "       'volume'], dtype='<U6')"
      ]
     },
     "execution_count": 72,
     "metadata": {},
     "output_type": "execute_result"
    }
   ],
   "source": [
    "np.array([msciLib.index_to_variable(ticker) for ticker in (outlier_indexes % 5)]) # All except on of these is the Volume attribute."
   ]
  },
  {
   "cell_type": "markdown",
   "metadata": {},
   "source": [
    "### MAPE for just close"
   ]
  },
  {
   "cell_type": "code",
   "execution_count": 73,
   "metadata": {},
   "outputs": [],
   "source": [
    "mape_close = mape[np.where(np.arange(len(mape)) % 4 == 3)]"
   ]
  },
  {
   "cell_type": "code",
   "execution_count": 78,
   "metadata": {},
   "outputs": [
    {
     "data": {
      "text/plain": [
       "11.15295904626992"
      ]
     },
     "execution_count": 78,
     "metadata": {},
     "output_type": "execute_result"
    }
   ],
   "source": [
    "np.average(mape_close)\n",
    "# np.std(mape_close)"
   ]
  },
  {
   "cell_type": "code",
   "execution_count": 75,
   "metadata": {},
   "outputs": [
    {
     "data": {
      "text/plain": [
       "array([1.54736043, 1.59477145, 1.15889053, ..., 0.79844294, 2.2677469 ,\n",
       "       0.52818929])"
      ]
     },
     "execution_count": 75,
     "metadata": {},
     "output_type": "execute_result"
    }
   ],
   "source": [
    "mape_close"
   ]
  },
  {
   "cell_type": "markdown",
   "metadata": {},
   "source": [
    "## Analysis of distribution of MAPE"
   ]
  },
  {
   "cell_type": "markdown",
   "metadata": {},
   "source": [
    "### Outliers, MAPE >= 100"
   ]
  },
  {
   "cell_type": "code",
   "execution_count": 76,
   "metadata": {},
   "outputs": [
    {
     "data": {
      "text/plain": [
       "<function matplotlib.pyplot.show(*args, **kw)>"
      ]
     },
     "execution_count": 76,
     "metadata": {},
     "output_type": "execute_result"
    },
    {
     "data": {
      "image/png": "[encoded data removed]",
      "text/plain": [
       "<Figure size 432x288 with 1 Axes>"
      ]
     },
     "metadata": {
      "needs_background": "light"
     },
     "output_type": "display_data"
    }
   ],
   "source": [
    "outlier_indexes = np.where(mape >= 100)[0]\n",
    "plt.hist(mape[outlier_indexes])\n",
    "plt.xlabel(\"Bins\")\n",
    "plt.ylabel(\"Frequency\")\n",
    "# plt.ylim(0, 2)\n",
    "plt.show"
   ]
  },
  {
   "cell_type": "markdown",
   "metadata": {},
   "source": [
    "### MAPE <= 100"
   ]
  },
  {
   "cell_type": "code",
   "execution_count": 77,
   "metadata": {},
   "outputs": [
    {
     "data": {
      "text/plain": [
       "<function matplotlib.pyplot.show(*args, **kw)>"
      ]
     },
     "execution_count": 77,
     "metadata": {},
     "output_type": "execute_result"
    },
    {
     "data": {
      "image/png": "[encoded data removed]",
      "text/plain": [
       "<Figure size 432x288 with 1 Axes>"
      ]
     },
     "metadata": {
      "needs_background": "light"
     },
     "output_type": "display_data"
    }
   ],
   "source": [
    "indexes = np.where(mape < 100)[0]\n",
    "plt.hist(mape[indexes])\n",
    "plt.xlabel(\"Bins\")\n",
    "plt.ylabel(\"Frequency\")\n",
    "plt.show"
   ]
  },
  {
   "cell_type": "code",
   "execution_count": null,
   "metadata": {},
   "outputs": [],
   "source": []
  }
 ],
 "metadata": {
  "kernelspec": {
   "display_name": "Python 3",
   "language": "python",
   "name": "python3"
  },
  "language_info": {
   "codemirror_mode": {
    "name": "ipython",
    "version": 3
   },
   "file_extension": ".py",
   "mimetype": "text/x-python",
   "name": "python",
   "nbconvert_exporter": "python",
   "pygments_lexer": "ipython3",
   "version": "3.6.6"
  }
 },
 "nbformat": 4,
 "nbformat_minor": 4
}
